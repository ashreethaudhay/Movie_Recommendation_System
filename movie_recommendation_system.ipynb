{
  "cells": [
    {
      "cell_type": "markdown",
      "metadata": {
        "id": "w0sFd-a3M0Zi"
      },
      "source": [
        "# Movie recommendation system\n",
        "Recommender systems are one of the most successful and widespread application of machine learning technologies in business.\n",
        "You can find large scale recommender systems in retail, video on demand, or music streaming.\n",
        "- ***Examples of recommendation systems are:***\n",
        "    1. Offering news articles to on-line newspaper readers, based on a prediction\n",
        "of reader interests.\n",
        "    2. Offering customers of an on-line retailer suggestions about what they\n",
        "might like to buy, based on their past history of purchases and/or product\n",
        "searches.\n",
        "    3. Recommending movies to user based on there previous watch "
      ]
    },
    {
      "cell_type": "markdown",
      "metadata": {
        "id": "SC0ne7RbM0Zu"
      },
      "source": [
        "![](https://md.ekstrandom.net/talks/2014/txstate-recsys-research/movielens.png)"
      ]
    },
    {
      "cell_type": "markdown",
      "metadata": {
        "id": "SPXvce7MM0Zx"
      },
      "source": [
        "# Index\n",
        "- Exploratory Data Analysis(EDA)\n",
        "- Content based filtering\n",
        "- Collaborative Filtering\n",
        "    - Memory based collaborative filtering\n",
        "        - User-Item Filtering\n",
        "        - Item-Item Filtering\n",
        "    - Model based collaborative filtering\n",
        "        - Single Value Decomposition(SVD)\n",
        "        - SVD++\n",
        "- Evaluating Collaborative Filtering using SVD\n",
        "- Hybrid Model"
      ]
    },
    {
      "cell_type": "markdown",
      "metadata": {
        "id": "3eJFB7FMM0Zz"
      },
      "source": [
        "## Load Libraries "
      ]
    },
    {
      "cell_type": "code",
      "execution_count": 3,
      "metadata": {
        "id": "bnluuH7NM0Z0"
      },
      "outputs": [],
      "source": [
        "from math import sqrt\n",
        "import pandas as pd\n",
        "import numpy as np\n",
        "import numpy as np\n",
        "np.random.seed(123)\n",
        "\n",
        "import matplotlib.pyplot as plt\n",
        "import pandas as pd\n",
        "import math\n",
        "\n",
        "import tensorflow as tf\n",
        "#tf.set_random_seed(1234)\n",
        "from sklearn.neighbors import KNeighborsClassifier  \n",
        "\n",
        "import keras\n",
        "from keras.models import Sequential\n",
        "from keras.layers import Dense\n",
        "from keras.layers import LSTM, SimpleRNN\n",
        "from sklearn.metrics import mean_squared_error\n",
        "\n",
        "#import watermark\n",
        "import seaborn as sns\n",
        "from matplotlib import pyplot as plt\n",
        "from sklearn.feature_extraction.text import TfidfVectorizer\n",
        "from sklearn.metrics.pairwise import linear_kernel"
      ]
    },
    {
      "cell_type": "markdown",
      "metadata": {
        "id": "9CWpxJktM0Z5"
      },
      "source": [
        "# Dataset : Movielens\n",
        "https://grouplens.org/datasets/movielens/100k"
      ]
    },
    {
      "cell_type": "code",
      "execution_count": 4,
      "metadata": {
        "id": "H5InxXurM0Z7"
      },
      "outputs": [],
      "source": [
        "# Reading ratings file\n",
        "ratings = pd.read_csv('/content/drive/MyDrive/MOVIE/ratings.csv', sep=',', encoding='latin-1', usecols=['userId','movieId','rating','timestamp'])\n",
        "\n",
        "# Reading movies file\n",
        "movies = pd.read_csv('/content/drive/MyDrive/MOVIE/movies.csv', sep=',', encoding='latin-1', usecols=['movieId','title','genres'])"
      ]
    },
    {
      "cell_type": "code",
      "execution_count": 5,
      "metadata": {
        "id": "2tWQB5zFM0Z9"
      },
      "outputs": [],
      "source": [
        "df_movies = movies \n",
        "df_ratings = ratings "
      ]
    },
    {
      "cell_type": "markdown",
      "metadata": {
        "id": "jMu1-BG1M0aA"
      },
      "source": [
        "## Exploratory Data Analysis(EDA)"
      ]
    },
    {
      "cell_type": "code",
      "execution_count": 6,
      "metadata": {
        "colab": {
          "base_uri": "https://localhost:8080/",
          "height": 206
        },
        "id": "3D1bVstdM0aE",
        "outputId": "c5300325-fc57-48e4-a791-0d88017d9116"
      },
      "outputs": [
        {
          "output_type": "execute_result",
          "data": {
            "text/plain": [
              "   movieId                               title  \\\n",
              "0        1                    Toy Story (1995)   \n",
              "1        2                      Jumanji (1995)   \n",
              "2        3             Grumpier Old Men (1995)   \n",
              "3        4            Waiting to Exhale (1995)   \n",
              "4        5  Father of the Bride Part II (1995)   \n",
              "\n",
              "                                        genres  \n",
              "0  Adventure|Animation|Children|Comedy|Fantasy  \n",
              "1                   Adventure|Children|Fantasy  \n",
              "2                               Comedy|Romance  \n",
              "3                         Comedy|Drama|Romance  \n",
              "4                                       Comedy  "
            ],
            "text/html": [
              "\n",
              "  <div id=\"df-6a5ef52f-f6d0-4dc8-b017-c8d5edceaaf9\">\n",
              "    <div class=\"colab-df-container\">\n",
              "      <div>\n",
              "<style scoped>\n",
              "    .dataframe tbody tr th:only-of-type {\n",
              "        vertical-align: middle;\n",
              "    }\n",
              "\n",
              "    .dataframe tbody tr th {\n",
              "        vertical-align: top;\n",
              "    }\n",
              "\n",
              "    .dataframe thead th {\n",
              "        text-align: right;\n",
              "    }\n",
              "</style>\n",
              "<table border=\"1\" class=\"dataframe\">\n",
              "  <thead>\n",
              "    <tr style=\"text-align: right;\">\n",
              "      <th></th>\n",
              "      <th>movieId</th>\n",
              "      <th>title</th>\n",
              "      <th>genres</th>\n",
              "    </tr>\n",
              "  </thead>\n",
              "  <tbody>\n",
              "    <tr>\n",
              "      <th>0</th>\n",
              "      <td>1</td>\n",
              "      <td>Toy Story (1995)</td>\n",
              "      <td>Adventure|Animation|Children|Comedy|Fantasy</td>\n",
              "    </tr>\n",
              "    <tr>\n",
              "      <th>1</th>\n",
              "      <td>2</td>\n",
              "      <td>Jumanji (1995)</td>\n",
              "      <td>Adventure|Children|Fantasy</td>\n",
              "    </tr>\n",
              "    <tr>\n",
              "      <th>2</th>\n",
              "      <td>3</td>\n",
              "      <td>Grumpier Old Men (1995)</td>\n",
              "      <td>Comedy|Romance</td>\n",
              "    </tr>\n",
              "    <tr>\n",
              "      <th>3</th>\n",
              "      <td>4</td>\n",
              "      <td>Waiting to Exhale (1995)</td>\n",
              "      <td>Comedy|Drama|Romance</td>\n",
              "    </tr>\n",
              "    <tr>\n",
              "      <th>4</th>\n",
              "      <td>5</td>\n",
              "      <td>Father of the Bride Part II (1995)</td>\n",
              "      <td>Comedy</td>\n",
              "    </tr>\n",
              "  </tbody>\n",
              "</table>\n",
              "</div>\n",
              "      <button class=\"colab-df-convert\" onclick=\"convertToInteractive('df-6a5ef52f-f6d0-4dc8-b017-c8d5edceaaf9')\"\n",
              "              title=\"Convert this dataframe to an interactive table.\"\n",
              "              style=\"display:none;\">\n",
              "        \n",
              "  <svg xmlns=\"http://www.w3.org/2000/svg\" height=\"24px\"viewBox=\"0 0 24 24\"\n",
              "       width=\"24px\">\n",
              "    <path d=\"M0 0h24v24H0V0z\" fill=\"none\"/>\n",
              "    <path d=\"M18.56 5.44l.94 2.06.94-2.06 2.06-.94-2.06-.94-.94-2.06-.94 2.06-2.06.94zm-11 1L8.5 8.5l.94-2.06 2.06-.94-2.06-.94L8.5 2.5l-.94 2.06-2.06.94zm10 10l.94 2.06.94-2.06 2.06-.94-2.06-.94-.94-2.06-.94 2.06-2.06.94z\"/><path d=\"M17.41 7.96l-1.37-1.37c-.4-.4-.92-.59-1.43-.59-.52 0-1.04.2-1.43.59L10.3 9.45l-7.72 7.72c-.78.78-.78 2.05 0 2.83L4 21.41c.39.39.9.59 1.41.59.51 0 1.02-.2 1.41-.59l7.78-7.78 2.81-2.81c.8-.78.8-2.07 0-2.86zM5.41 20L4 18.59l7.72-7.72 1.47 1.35L5.41 20z\"/>\n",
              "  </svg>\n",
              "      </button>\n",
              "      \n",
              "  <style>\n",
              "    .colab-df-container {\n",
              "      display:flex;\n",
              "      flex-wrap:wrap;\n",
              "      gap: 12px;\n",
              "    }\n",
              "\n",
              "    .colab-df-convert {\n",
              "      background-color: #E8F0FE;\n",
              "      border: none;\n",
              "      border-radius: 50%;\n",
              "      cursor: pointer;\n",
              "      display: none;\n",
              "      fill: #1967D2;\n",
              "      height: 32px;\n",
              "      padding: 0 0 0 0;\n",
              "      width: 32px;\n",
              "    }\n",
              "\n",
              "    .colab-df-convert:hover {\n",
              "      background-color: #E2EBFA;\n",
              "      box-shadow: 0px 1px 2px rgba(60, 64, 67, 0.3), 0px 1px 3px 1px rgba(60, 64, 67, 0.15);\n",
              "      fill: #174EA6;\n",
              "    }\n",
              "\n",
              "    [theme=dark] .colab-df-convert {\n",
              "      background-color: #3B4455;\n",
              "      fill: #D2E3FC;\n",
              "    }\n",
              "\n",
              "    [theme=dark] .colab-df-convert:hover {\n",
              "      background-color: #434B5C;\n",
              "      box-shadow: 0px 1px 3px 1px rgba(0, 0, 0, 0.15);\n",
              "      filter: drop-shadow(0px 1px 2px rgba(0, 0, 0, 0.3));\n",
              "      fill: #FFFFFF;\n",
              "    }\n",
              "  </style>\n",
              "\n",
              "      <script>\n",
              "        const buttonEl =\n",
              "          document.querySelector('#df-6a5ef52f-f6d0-4dc8-b017-c8d5edceaaf9 button.colab-df-convert');\n",
              "        buttonEl.style.display =\n",
              "          google.colab.kernel.accessAllowed ? 'block' : 'none';\n",
              "\n",
              "        async function convertToInteractive(key) {\n",
              "          const element = document.querySelector('#df-6a5ef52f-f6d0-4dc8-b017-c8d5edceaaf9');\n",
              "          const dataTable =\n",
              "            await google.colab.kernel.invokeFunction('convertToInteractive',\n",
              "                                                     [key], {});\n",
              "          if (!dataTable) return;\n",
              "\n",
              "          const docLinkHtml = 'Like what you see? Visit the ' +\n",
              "            '<a target=\"_blank\" href=https://colab.research.google.com/notebooks/data_table.ipynb>data table notebook</a>'\n",
              "            + ' to learn more about interactive tables.';\n",
              "          element.innerHTML = '';\n",
              "          dataTable['output_type'] = 'display_data';\n",
              "          await google.colab.output.renderOutput(dataTable, element);\n",
              "          const docLink = document.createElement('div');\n",
              "          docLink.innerHTML = docLinkHtml;\n",
              "          element.appendChild(docLink);\n",
              "        }\n",
              "      </script>\n",
              "    </div>\n",
              "  </div>\n",
              "  "
            ]
          },
          "metadata": {},
          "execution_count": 6
        }
      ],
      "source": [
        "df_movies.head(5)"
      ]
    },
    {
      "cell_type": "markdown",
      "metadata": {
        "id": "SKG_F--FM0aH"
      },
      "source": [
        "### Most popular genres of movie released"
      ]
    },
    {
      "cell_type": "code",
      "execution_count": 7,
      "metadata": {
        "colab": {
          "base_uri": "https://localhost:8080/",
          "height": 446
        },
        "id": "PW1T8I8aM0aJ",
        "outputId": "12fc08d7-822d-4a92-bb41-3a221c49fb0d"
      },
      "outputs": [
        {
          "output_type": "execute_result",
          "data": {
            "text/plain": [
              "<BarContainer object of 19 artists>"
            ]
          },
          "metadata": {},
          "execution_count": 7
        },
        {
          "output_type": "display_data",
          "data": {
            "text/plain": [
              "<Figure size 1440x504 with 1 Axes>"
            ],
            "image/png": "[encoded data removed]"
          },
          "metadata": {
            "needs_background": "light"
          }
        }
      ],
      "source": [
        "plt.figure(figsize=(20,7))\n",
        "generlist = df_movies['genres'].apply(lambda generlist_movie : str(generlist_movie).split(\"|\"))\n",
        "geners_count = {}\n",
        "\n",
        "for generlist_movie in generlist:\n",
        "    for gener in generlist_movie:\n",
        "        if(geners_count.get(gener,False)):\n",
        "            geners_count[gener]=geners_count[gener]+1\n",
        "        else:\n",
        "            geners_count[gener] = 1       \n",
        "geners_count.pop(\"(no genres listed)\")\n",
        "plt.bar(geners_count.keys(),geners_count.values(),color='m')"
      ]
    },
    {
      "cell_type": "code",
      "execution_count": 8,
      "metadata": {
        "colab": {
          "base_uri": "https://localhost:8080/",
          "height": 206
        },
        "id": "UQCfXTigM0aL",
        "outputId": "baa4e818-2644-436c-dd3a-03999a5def2e"
      },
      "outputs": [
        {
          "output_type": "execute_result",
          "data": {
            "text/plain": [
              "   userId  movieId  rating  timestamp\n",
              "0       1        1     4.0  964982703\n",
              "1       1        3     4.0  964981247\n",
              "2       1        6     4.0  964982224\n",
              "3       1       47     5.0  964983815\n",
              "4       1       50     5.0  964982931"
            ],
            "text/html": [
              "\n",
              "  <div id=\"df-a28830be-da55-448f-bb0e-230edb679ac7\">\n",
              "    <div class=\"colab-df-container\">\n",
              "      <div>\n",
              "<style scoped>\n",
              "    .dataframe tbody tr th:only-of-type {\n",
              "        vertical-align: middle;\n",
              "    }\n",
              "\n",
              "    .dataframe tbody tr th {\n",
              "        vertical-align: top;\n",
              "    }\n",
              "\n",
              "    .dataframe thead th {\n",
              "        text-align: right;\n",
              "    }\n",
              "</style>\n",
              "<table border=\"1\" class=\"dataframe\">\n",
              "  <thead>\n",
              "    <tr style=\"text-align: right;\">\n",
              "      <th></th>\n",
              "      <th>userId</th>\n",
              "      <th>movieId</th>\n",
              "      <th>rating</th>\n",
              "      <th>timestamp</th>\n",
              "    </tr>\n",
              "  </thead>\n",
              "  <tbody>\n",
              "    <tr>\n",
              "      <th>0</th>\n",
              "      <td>1</td>\n",
              "      <td>1</td>\n",
              "      <td>4.0</td>\n",
              "      <td>964982703</td>\n",
              "    </tr>\n",
              "    <tr>\n",
              "      <th>1</th>\n",
              "      <td>1</td>\n",
              "      <td>3</td>\n",
              "      <td>4.0</td>\n",
              "      <td>964981247</td>\n",
              "    </tr>\n",
              "    <tr>\n",
              "      <th>2</th>\n",
              "      <td>1</td>\n",
              "      <td>6</td>\n",
              "      <td>4.0</td>\n",
              "      <td>964982224</td>\n",
              "    </tr>\n",
              "    <tr>\n",
              "      <th>3</th>\n",
              "      <td>1</td>\n",
              "      <td>47</td>\n",
              "      <td>5.0</td>\n",
              "      <td>964983815</td>\n",
              "    </tr>\n",
              "    <tr>\n",
              "      <th>4</th>\n",
              "      <td>1</td>\n",
              "      <td>50</td>\n",
              "      <td>5.0</td>\n",
              "      <td>964982931</td>\n",
              "    </tr>\n",
              "  </tbody>\n",
              "</table>\n",
              "</div>\n",
              "      <button class=\"colab-df-convert\" onclick=\"convertToInteractive('df-a28830be-da55-448f-bb0e-230edb679ac7')\"\n",
              "              title=\"Convert this dataframe to an interactive table.\"\n",
              "              style=\"display:none;\">\n",
              "        \n",
              "  <svg xmlns=\"http://www.w3.org/2000/svg\" height=\"24px\"viewBox=\"0 0 24 24\"\n",
              "       width=\"24px\">\n",
              "    <path d=\"M0 0h24v24H0V0z\" fill=\"none\"/>\n",
              "    <path d=\"M18.56 5.44l.94 2.06.94-2.06 2.06-.94-2.06-.94-.94-2.06-.94 2.06-2.06.94zm-11 1L8.5 8.5l.94-2.06 2.06-.94-2.06-.94L8.5 2.5l-.94 2.06-2.06.94zm10 10l.94 2.06.94-2.06 2.06-.94-2.06-.94-.94-2.06-.94 2.06-2.06.94z\"/><path d=\"M17.41 7.96l-1.37-1.37c-.4-.4-.92-.59-1.43-.59-.52 0-1.04.2-1.43.59L10.3 9.45l-7.72 7.72c-.78.78-.78 2.05 0 2.83L4 21.41c.39.39.9.59 1.41.59.51 0 1.02-.2 1.41-.59l7.78-7.78 2.81-2.81c.8-.78.8-2.07 0-2.86zM5.41 20L4 18.59l7.72-7.72 1.47 1.35L5.41 20z\"/>\n",
              "  </svg>\n",
              "      </button>\n",
              "      \n",
              "  <style>\n",
              "    .colab-df-container {\n",
              "      display:flex;\n",
              "      flex-wrap:wrap;\n",
              "      gap: 12px;\n",
              "    }\n",
              "\n",
              "    .colab-df-convert {\n",
              "      background-color: #E8F0FE;\n",
              "      border: none;\n",
              "      border-radius: 50%;\n",
              "      cursor: pointer;\n",
              "      display: none;\n",
              "      fill: #1967D2;\n",
              "      height: 32px;\n",
              "      padding: 0 0 0 0;\n",
              "      width: 32px;\n",
              "    }\n",
              "\n",
              "    .colab-df-convert:hover {\n",
              "      background-color: #E2EBFA;\n",
              "      box-shadow: 0px 1px 2px rgba(60, 64, 67, 0.3), 0px 1px 3px 1px rgba(60, 64, 67, 0.15);\n",
              "      fill: #174EA6;\n",
              "    }\n",
              "\n",
              "    [theme=dark] .colab-df-convert {\n",
              "      background-color: #3B4455;\n",
              "      fill: #D2E3FC;\n",
              "    }\n",
              "\n",
              "    [theme=dark] .colab-df-convert:hover {\n",
              "      background-color: #434B5C;\n",
              "      box-shadow: 0px 1px 3px 1px rgba(0, 0, 0, 0.15);\n",
              "      filter: drop-shadow(0px 1px 2px rgba(0, 0, 0, 0.3));\n",
              "      fill: #FFFFFF;\n",
              "    }\n",
              "  </style>\n",
              "\n",
              "      <script>\n",
              "        const buttonEl =\n",
              "          document.querySelector('#df-a28830be-da55-448f-bb0e-230edb679ac7 button.colab-df-convert');\n",
              "        buttonEl.style.display =\n",
              "          google.colab.kernel.accessAllowed ? 'block' : 'none';\n",
              "\n",
              "        async function convertToInteractive(key) {\n",
              "          const element = document.querySelector('#df-a28830be-da55-448f-bb0e-230edb679ac7');\n",
              "          const dataTable =\n",
              "            await google.colab.kernel.invokeFunction('convertToInteractive',\n",
              "                                                     [key], {});\n",
              "          if (!dataTable) return;\n",
              "\n",
              "          const docLinkHtml = 'Like what you see? Visit the ' +\n",
              "            '<a target=\"_blank\" href=https://colab.research.google.com/notebooks/data_table.ipynb>data table notebook</a>'\n",
              "            + ' to learn more about interactive tables.';\n",
              "          element.innerHTML = '';\n",
              "          dataTable['output_type'] = 'display_data';\n",
              "          await google.colab.output.renderOutput(dataTable, element);\n",
              "          const docLink = document.createElement('div');\n",
              "          docLink.innerHTML = docLinkHtml;\n",
              "          element.appendChild(docLink);\n",
              "        }\n",
              "      </script>\n",
              "    </div>\n",
              "  </div>\n",
              "  "
            ]
          },
          "metadata": {},
          "execution_count": 8
        }
      ],
      "source": [
        "df_ratings.head(5)"
      ]
    },
    {
      "cell_type": "markdown",
      "metadata": {
        "id": "LlbgbgpKM0aN"
      },
      "source": [
        "### Distribution of users rating"
      ]
    },
    {
      "cell_type": "code",
      "execution_count": 9,
      "metadata": {
        "colab": {
          "base_uri": "https://localhost:8080/",
          "height": 336
        },
        "id": "d0RmHzP1M0aO",
        "outputId": "3a9d5a6a-6178-412f-f901-88599f59139d"
      },
      "outputs": [
        {
          "output_type": "stream",
          "name": "stderr",
          "text": [
            "/usr/local/lib/python3.7/dist-packages/seaborn/distributions.py:2619: FutureWarning: `distplot` is a deprecated function and will be removed in a future version. Please adapt your code to use either `displot` (a figure-level function with similar flexibility) or `histplot` (an axes-level function for histograms).\n",
            "  warnings.warn(msg, FutureWarning)\n"
          ]
        },
        {
          "output_type": "display_data",
          "data": {
            "text/plain": [
              "<Figure size 432x288 with 1 Axes>"
            ],
            "image/png": "[encoded data removed]"
          },
          "metadata": {
            "needs_background": "light"
          }
        }
      ],
      "source": [
        "sns.distplot(df_ratings[\"rating\"]);"
      ]
    },
    {
      "cell_type": "code",
      "execution_count": 13,
      "metadata": {
        "scrolled": true,
        "colab": {
          "base_uri": "https://localhost:8080/"
        },
        "id": "6uJeZeL7M0aQ",
        "outputId": "304a4029-27c3-48e6-d311-69540c0b3145"
      },
      "outputs": [
        {
          "output_type": "stream",
          "name": "stdout",
          "text": [
            "Shape of frames: \n",
            " Rating DataFrame(100836, 4)\n",
            " Movies DataFrame(9742, 3)\n"
          ]
        }
      ],
      "source": [
        "print(\"Shape of frames: \\n\"+ \" Rating DataFrame\"+ str(df_ratings.shape)+\"\\n Movies DataFrame\"+ str(df_movies.shape))"
      ]
    },
    {
      "cell_type": "code",
      "execution_count": 14,
      "metadata": {
        "id": "q5zUJ7xsM0aR"
      },
      "outputs": [],
      "source": [
        "merge_ratings_movies = pd.merge(df_movies, df_ratings, on='movieId', how='inner')"
      ]
    },
    {
      "cell_type": "code",
      "execution_count": 15,
      "metadata": {
        "colab": {
          "base_uri": "https://localhost:8080/",
          "height": 112
        },
        "id": "gy03k-AEM0aS",
        "outputId": "fb38c9cb-e92c-4746-cacc-e678cdc34ede"
      },
      "outputs": [
        {
          "output_type": "execute_result",
          "data": {
            "text/plain": [
              "   movieId             title                                       genres  \\\n",
              "0        1  Toy Story (1995)  Adventure|Animation|Children|Comedy|Fantasy   \n",
              "1        1  Toy Story (1995)  Adventure|Animation|Children|Comedy|Fantasy   \n",
              "\n",
              "   userId  rating  timestamp  \n",
              "0       1     4.0  964982703  \n",
              "1       5     4.0  847434962  "
            ],
            "text/html": [
              "\n",
              "  <div id=\"df-7677613f-1251-42b1-9e9d-cebee71b5128\">\n",
              "    <div class=\"colab-df-container\">\n",
              "      <div>\n",
              "<style scoped>\n",
              "    .dataframe tbody tr th:only-of-type {\n",
              "        vertical-align: middle;\n",
              "    }\n",
              "\n",
              "    .dataframe tbody tr th {\n",
              "        vertical-align: top;\n",
              "    }\n",
              "\n",
              "    .dataframe thead th {\n",
              "        text-align: right;\n",
              "    }\n",
              "</style>\n",
              "<table border=\"1\" class=\"dataframe\">\n",
              "  <thead>\n",
              "    <tr style=\"text-align: right;\">\n",
              "      <th></th>\n",
              "      <th>movieId</th>\n",
              "      <th>title</th>\n",
              "      <th>genres</th>\n",
              "      <th>userId</th>\n",
              "      <th>rating</th>\n",
              "      <th>timestamp</th>\n",
              "    </tr>\n",
              "  </thead>\n",
              "  <tbody>\n",
              "    <tr>\n",
              "      <th>0</th>\n",
              "      <td>1</td>\n",
              "      <td>Toy Story (1995)</td>\n",
              "      <td>Adventure|Animation|Children|Comedy|Fantasy</td>\n",
              "      <td>1</td>\n",
              "      <td>4.0</td>\n",
              "      <td>964982703</td>\n",
              "    </tr>\n",
              "    <tr>\n",
              "      <th>1</th>\n",
              "      <td>1</td>\n",
              "      <td>Toy Story (1995)</td>\n",
              "      <td>Adventure|Animation|Children|Comedy|Fantasy</td>\n",
              "      <td>5</td>\n",
              "      <td>4.0</td>\n",
              "      <td>847434962</td>\n",
              "    </tr>\n",
              "  </tbody>\n",
              "</table>\n",
              "</div>\n",
              "      <button class=\"colab-df-convert\" onclick=\"convertToInteractive('df-7677613f-1251-42b1-9e9d-cebee71b5128')\"\n",
              "              title=\"Convert this dataframe to an interactive table.\"\n",
              "              style=\"display:none;\">\n",
              "        \n",
              "  <svg xmlns=\"http://www.w3.org/2000/svg\" height=\"24px\"viewBox=\"0 0 24 24\"\n",
              "       width=\"24px\">\n",
              "    <path d=\"M0 0h24v24H0V0z\" fill=\"none\"/>\n",
              "    <path d=\"M18.56 5.44l.94 2.06.94-2.06 2.06-.94-2.06-.94-.94-2.06-.94 2.06-2.06.94zm-11 1L8.5 8.5l.94-2.06 2.06-.94-2.06-.94L8.5 2.5l-.94 2.06-2.06.94zm10 10l.94 2.06.94-2.06 2.06-.94-2.06-.94-.94-2.06-.94 2.06-2.06.94z\"/><path d=\"M17.41 7.96l-1.37-1.37c-.4-.4-.92-.59-1.43-.59-.52 0-1.04.2-1.43.59L10.3 9.45l-7.72 7.72c-.78.78-.78 2.05 0 2.83L4 21.41c.39.39.9.59 1.41.59.51 0 1.02-.2 1.41-.59l7.78-7.78 2.81-2.81c.8-.78.8-2.07 0-2.86zM5.41 20L4 18.59l7.72-7.72 1.47 1.35L5.41 20z\"/>\n",
              "  </svg>\n",
              "      </button>\n",
              "      \n",
              "  <style>\n",
              "    .colab-df-container {\n",
              "      display:flex;\n",
              "      flex-wrap:wrap;\n",
              "      gap: 12px;\n",
              "    }\n",
              "\n",
              "    .colab-df-convert {\n",
              "      background-color: #E8F0FE;\n",
              "      border: none;\n",
              "      border-radius: 50%;\n",
              "      cursor: pointer;\n",
              "      display: none;\n",
              "      fill: #1967D2;\n",
              "      height: 32px;\n",
              "      padding: 0 0 0 0;\n",
              "      width: 32px;\n",
              "    }\n",
              "\n",
              "    .colab-df-convert:hover {\n",
              "      background-color: #E2EBFA;\n",
              "      box-shadow: 0px 1px 2px rgba(60, 64, 67, 0.3), 0px 1px 3px 1px rgba(60, 64, 67, 0.15);\n",
              "      fill: #174EA6;\n",
              "    }\n",
              "\n",
              "    [theme=dark] .colab-df-convert {\n",
              "      background-color: #3B4455;\n",
              "      fill: #D2E3FC;\n",
              "    }\n",
              "\n",
              "    [theme=dark] .colab-df-convert:hover {\n",
              "      background-color: #434B5C;\n",
              "      box-shadow: 0px 1px 3px 1px rgba(0, 0, 0, 0.15);\n",
              "      filter: drop-shadow(0px 1px 2px rgba(0, 0, 0, 0.3));\n",
              "      fill: #FFFFFF;\n",
              "    }\n",
              "  </style>\n",
              "\n",
              "      <script>\n",
              "        const buttonEl =\n",
              "          document.querySelector('#df-7677613f-1251-42b1-9e9d-cebee71b5128 button.colab-df-convert');\n",
              "        buttonEl.style.display =\n",
              "          google.colab.kernel.accessAllowed ? 'block' : 'none';\n",
              "\n",
              "        async function convertToInteractive(key) {\n",
              "          const element = document.querySelector('#df-7677613f-1251-42b1-9e9d-cebee71b5128');\n",
              "          const dataTable =\n",
              "            await google.colab.kernel.invokeFunction('convertToInteractive',\n",
              "                                                     [key], {});\n",
              "          if (!dataTable) return;\n",
              "\n",
              "          const docLinkHtml = 'Like what you see? Visit the ' +\n",
              "            '<a target=\"_blank\" href=https://colab.research.google.com/notebooks/data_table.ipynb>data table notebook</a>'\n",
              "            + ' to learn more about interactive tables.';\n",
              "          element.innerHTML = '';\n",
              "          dataTable['output_type'] = 'display_data';\n",
              "          await google.colab.output.renderOutput(dataTable, element);\n",
              "          const docLink = document.createElement('div');\n",
              "          docLink.innerHTML = docLinkHtml;\n",
              "          element.appendChild(docLink);\n",
              "        }\n",
              "      </script>\n",
              "    </div>\n",
              "  </div>\n",
              "  "
            ]
          },
          "metadata": {},
          "execution_count": 15
        }
      ],
      "source": [
        "merge_ratings_movies.head(2)"
      ]
    },
    {
      "cell_type": "code",
      "execution_count": 16,
      "metadata": {
        "id": "0Bk9x4DVM0aU"
      },
      "outputs": [],
      "source": [
        "merge_ratings_movies = merge_ratings_movies.drop('timestamp', axis=1)"
      ]
    },
    {
      "cell_type": "code",
      "execution_count": 17,
      "metadata": {
        "colab": {
          "base_uri": "https://localhost:8080/"
        },
        "id": "LztjN0gEM0aV",
        "outputId": "3a8e614a-f55a-4b10-a4ed-017ab74ec152"
      },
      "outputs": [
        {
          "output_type": "execute_result",
          "data": {
            "text/plain": [
              "(100836, 5)"
            ]
          },
          "metadata": {},
          "execution_count": 17
        }
      ],
      "source": [
        "merge_ratings_movies.shape"
      ]
    },
    {
      "cell_type": "markdown",
      "metadata": {
        "id": "6E-tJJ6MM0aW"
      },
      "source": [
        "Grouping the rating based on user"
      ]
    },
    {
      "cell_type": "code",
      "execution_count": 18,
      "metadata": {
        "id": "tZ2itZ3GM0aX"
      },
      "outputs": [],
      "source": [
        "ratings_grouped_by_users = merge_ratings_movies.groupby('userId').agg([np.size, np.mean])"
      ]
    },
    {
      "cell_type": "code",
      "execution_count": 19,
      "metadata": {
        "colab": {
          "base_uri": "https://localhost:8080/",
          "height": 175
        },
        "id": "-qock6eIM0aZ",
        "outputId": "e90f2597-7f90-426b-e366-02a82aa97bb0"
      },
      "outputs": [
        {
          "output_type": "execute_result",
          "data": {
            "text/plain": [
              "       movieId               rating          \n",
              "          size          mean   size      mean\n",
              "userId                                       \n",
              "1          232   1854.603448    232  4.366379\n",
              "2           29  70350.275862     29  3.948276"
            ],
            "text/html": [
              "\n",
              "  <div id=\"df-3f484a14-959f-4726-8912-b65efd17fb45\">\n",
              "    <div class=\"colab-df-container\">\n",
              "      <div>\n",
              "<style scoped>\n",
              "    .dataframe tbody tr th:only-of-type {\n",
              "        vertical-align: middle;\n",
              "    }\n",
              "\n",
              "    .dataframe tbody tr th {\n",
              "        vertical-align: top;\n",
              "    }\n",
              "\n",
              "    .dataframe thead tr th {\n",
              "        text-align: left;\n",
              "    }\n",
              "\n",
              "    .dataframe thead tr:last-of-type th {\n",
              "        text-align: right;\n",
              "    }\n",
              "</style>\n",
              "<table border=\"1\" class=\"dataframe\">\n",
              "  <thead>\n",
              "    <tr>\n",
              "      <th></th>\n",
              "      <th colspan=\"2\" halign=\"left\">movieId</th>\n",
              "      <th colspan=\"2\" halign=\"left\">rating</th>\n",
              "    </tr>\n",
              "    <tr>\n",
              "      <th></th>\n",
              "      <th>size</th>\n",
              "      <th>mean</th>\n",
              "      <th>size</th>\n",
              "      <th>mean</th>\n",
              "    </tr>\n",
              "    <tr>\n",
              "      <th>userId</th>\n",
              "      <th></th>\n",
              "      <th></th>\n",
              "      <th></th>\n",
              "      <th></th>\n",
              "    </tr>\n",
              "  </thead>\n",
              "  <tbody>\n",
              "    <tr>\n",
              "      <th>1</th>\n",
              "      <td>232</td>\n",
              "      <td>1854.603448</td>\n",
              "      <td>232</td>\n",
              "      <td>4.366379</td>\n",
              "    </tr>\n",
              "    <tr>\n",
              "      <th>2</th>\n",
              "      <td>29</td>\n",
              "      <td>70350.275862</td>\n",
              "      <td>29</td>\n",
              "      <td>3.948276</td>\n",
              "    </tr>\n",
              "  </tbody>\n",
              "</table>\n",
              "</div>\n",
              "      <button class=\"colab-df-convert\" onclick=\"convertToInteractive('df-3f484a14-959f-4726-8912-b65efd17fb45')\"\n",
              "              title=\"Convert this dataframe to an interactive table.\"\n",
              "              style=\"display:none;\">\n",
              "        \n",
              "  <svg xmlns=\"http://www.w3.org/2000/svg\" height=\"24px\"viewBox=\"0 0 24 24\"\n",
              "       width=\"24px\">\n",
              "    <path d=\"M0 0h24v24H0V0z\" fill=\"none\"/>\n",
              "    <path d=\"M18.56 5.44l.94 2.06.94-2.06 2.06-.94-2.06-.94-.94-2.06-.94 2.06-2.06.94zm-11 1L8.5 8.5l.94-2.06 2.06-.94-2.06-.94L8.5 2.5l-.94 2.06-2.06.94zm10 10l.94 2.06.94-2.06 2.06-.94-2.06-.94-.94-2.06-.94 2.06-2.06.94z\"/><path d=\"M17.41 7.96l-1.37-1.37c-.4-.4-.92-.59-1.43-.59-.52 0-1.04.2-1.43.59L10.3 9.45l-7.72 7.72c-.78.78-.78 2.05 0 2.83L4 21.41c.39.39.9.59 1.41.59.51 0 1.02-.2 1.41-.59l7.78-7.78 2.81-2.81c.8-.78.8-2.07 0-2.86zM5.41 20L4 18.59l7.72-7.72 1.47 1.35L5.41 20z\"/>\n",
              "  </svg>\n",
              "      </button>\n",
              "      \n",
              "  <style>\n",
              "    .colab-df-container {\n",
              "      display:flex;\n",
              "      flex-wrap:wrap;\n",
              "      gap: 12px;\n",
              "    }\n",
              "\n",
              "    .colab-df-convert {\n",
              "      background-color: #E8F0FE;\n",
              "      border: none;\n",
              "      border-radius: 50%;\n",
              "      cursor: pointer;\n",
              "      display: none;\n",
              "      fill: #1967D2;\n",
              "      height: 32px;\n",
              "      padding: 0 0 0 0;\n",
              "      width: 32px;\n",
              "    }\n",
              "\n",
              "    .colab-df-convert:hover {\n",
              "      background-color: #E2EBFA;\n",
              "      box-shadow: 0px 1px 2px rgba(60, 64, 67, 0.3), 0px 1px 3px 1px rgba(60, 64, 67, 0.15);\n",
              "      fill: #174EA6;\n",
              "    }\n",
              "\n",
              "    [theme=dark] .colab-df-convert {\n",
              "      background-color: #3B4455;\n",
              "      fill: #D2E3FC;\n",
              "    }\n",
              "\n",
              "    [theme=dark] .colab-df-convert:hover {\n",
              "      background-color: #434B5C;\n",
              "      box-shadow: 0px 1px 3px 1px rgba(0, 0, 0, 0.15);\n",
              "      filter: drop-shadow(0px 1px 2px rgba(0, 0, 0, 0.3));\n",
              "      fill: #FFFFFF;\n",
              "    }\n",
              "  </style>\n",
              "\n",
              "      <script>\n",
              "        const buttonEl =\n",
              "          document.querySelector('#df-3f484a14-959f-4726-8912-b65efd17fb45 button.colab-df-convert');\n",
              "        buttonEl.style.display =\n",
              "          google.colab.kernel.accessAllowed ? 'block' : 'none';\n",
              "\n",
              "        async function convertToInteractive(key) {\n",
              "          const element = document.querySelector('#df-3f484a14-959f-4726-8912-b65efd17fb45');\n",
              "          const dataTable =\n",
              "            await google.colab.kernel.invokeFunction('convertToInteractive',\n",
              "                                                     [key], {});\n",
              "          if (!dataTable) return;\n",
              "\n",
              "          const docLinkHtml = 'Like what you see? Visit the ' +\n",
              "            '<a target=\"_blank\" href=https://colab.research.google.com/notebooks/data_table.ipynb>data table notebook</a>'\n",
              "            + ' to learn more about interactive tables.';\n",
              "          element.innerHTML = '';\n",
              "          dataTable['output_type'] = 'display_data';\n",
              "          await google.colab.output.renderOutput(dataTable, element);\n",
              "          const docLink = document.createElement('div');\n",
              "          docLink.innerHTML = docLinkHtml;\n",
              "          element.appendChild(docLink);\n",
              "        }\n",
              "      </script>\n",
              "    </div>\n",
              "  </div>\n",
              "  "
            ]
          },
          "metadata": {},
          "execution_count": 19
        }
      ],
      "source": [
        "ratings_grouped_by_users.head(2)"
      ]
    },
    {
      "cell_type": "code",
      "execution_count": 20,
      "metadata": {
        "id": "XFPfRTYVM0aa"
      },
      "outputs": [],
      "source": [
        "ratings_grouped_by_users = ratings_grouped_by_users.drop('movieId', axis = 1)"
      ]
    },
    {
      "cell_type": "markdown",
      "metadata": {
        "id": "5v8YQuSKM0ab"
      },
      "source": [
        "### Top 10 users who have rated most of the movies"
      ]
    },
    {
      "cell_type": "code",
      "execution_count": 21,
      "metadata": {
        "colab": {
          "base_uri": "https://localhost:8080/",
          "height": 361
        },
        "id": "uVRzuToEM0ac",
        "outputId": "c9bbaf95-a8d1-4794-9ec1-93bfbe3f0253"
      },
      "outputs": [
        {
          "output_type": "execute_result",
          "data": {
            "text/plain": [
              "<matplotlib.axes._subplots.AxesSubplot at 0x7f1e0268b210>"
            ]
          },
          "metadata": {},
          "execution_count": 21
        },
        {
          "output_type": "display_data",
          "data": {
            "text/plain": [
              "<Figure size 720x360 with 1 Axes>"
            ],
            "image/png": "[encoded data removed]"
          },
          "metadata": {
            "needs_background": "light"
          }
        }
      ],
      "source": [
        "ratings_grouped_by_users['rating']['size'].sort_values(ascending=False).head(10).plot(kind='bar', figsize = (10,5))"
      ]
    },
    {
      "cell_type": "code",
      "execution_count": 22,
      "metadata": {
        "id": "2zGtWq6WM0ad"
      },
      "outputs": [],
      "source": [
        "ratings_grouped_by_movies = merge_ratings_movies.groupby('movieId').agg([np.mean], np.size)"
      ]
    },
    {
      "cell_type": "code",
      "execution_count": 23,
      "metadata": {
        "colab": {
          "base_uri": "https://localhost:8080/"
        },
        "id": "5azwODPiM0ae",
        "outputId": "cd41d91d-1bf6-46a1-9dba-5b4b0945a072"
      },
      "outputs": [
        {
          "output_type": "execute_result",
          "data": {
            "text/plain": [
              "(9724, 2)"
            ]
          },
          "metadata": {},
          "execution_count": 23
        }
      ],
      "source": [
        "ratings_grouped_by_movies.shape"
      ]
    },
    {
      "cell_type": "code",
      "execution_count": 24,
      "metadata": {
        "scrolled": true,
        "colab": {
          "base_uri": "https://localhost:8080/",
          "height": 206
        },
        "id": "qIiXBG8yM0ag",
        "outputId": "0842e06b-7601-42f6-ce20-44da001fd57d"
      },
      "outputs": [
        {
          "output_type": "execute_result",
          "data": {
            "text/plain": [
              "             userId    rating\n",
              "               mean      mean\n",
              "movieId                      \n",
              "1        306.530233  3.920930\n",
              "2        329.554545  3.431818\n",
              "3        283.596154  3.259615"
            ],
            "text/html": [
              "\n",
              "  <div id=\"df-c8f7f140-5caa-4752-ac31-efdbdf403bec\">\n",
              "    <div class=\"colab-df-container\">\n",
              "      <div>\n",
              "<style scoped>\n",
              "    .dataframe tbody tr th:only-of-type {\n",
              "        vertical-align: middle;\n",
              "    }\n",
              "\n",
              "    .dataframe tbody tr th {\n",
              "        vertical-align: top;\n",
              "    }\n",
              "\n",
              "    .dataframe thead tr th {\n",
              "        text-align: left;\n",
              "    }\n",
              "\n",
              "    .dataframe thead tr:last-of-type th {\n",
              "        text-align: right;\n",
              "    }\n",
              "</style>\n",
              "<table border=\"1\" class=\"dataframe\">\n",
              "  <thead>\n",
              "    <tr>\n",
              "      <th></th>\n",
              "      <th>userId</th>\n",
              "      <th>rating</th>\n",
              "    </tr>\n",
              "    <tr>\n",
              "      <th></th>\n",
              "      <th>mean</th>\n",
              "      <th>mean</th>\n",
              "    </tr>\n",
              "    <tr>\n",
              "      <th>movieId</th>\n",
              "      <th></th>\n",
              "      <th></th>\n",
              "    </tr>\n",
              "  </thead>\n",
              "  <tbody>\n",
              "    <tr>\n",
              "      <th>1</th>\n",
              "      <td>306.530233</td>\n",
              "      <td>3.920930</td>\n",
              "    </tr>\n",
              "    <tr>\n",
              "      <th>2</th>\n",
              "      <td>329.554545</td>\n",
              "      <td>3.431818</td>\n",
              "    </tr>\n",
              "    <tr>\n",
              "      <th>3</th>\n",
              "      <td>283.596154</td>\n",
              "      <td>3.259615</td>\n",
              "    </tr>\n",
              "  </tbody>\n",
              "</table>\n",
              "</div>\n",
              "      <button class=\"colab-df-convert\" onclick=\"convertToInteractive('df-c8f7f140-5caa-4752-ac31-efdbdf403bec')\"\n",
              "              title=\"Convert this dataframe to an interactive table.\"\n",
              "              style=\"display:none;\">\n",
              "        \n",
              "  <svg xmlns=\"http://www.w3.org/2000/svg\" height=\"24px\"viewBox=\"0 0 24 24\"\n",
              "       width=\"24px\">\n",
              "    <path d=\"M0 0h24v24H0V0z\" fill=\"none\"/>\n",
              "    <path d=\"M18.56 5.44l.94 2.06.94-2.06 2.06-.94-2.06-.94-.94-2.06-.94 2.06-2.06.94zm-11 1L8.5 8.5l.94-2.06 2.06-.94-2.06-.94L8.5 2.5l-.94 2.06-2.06.94zm10 10l.94 2.06.94-2.06 2.06-.94-2.06-.94-.94-2.06-.94 2.06-2.06.94z\"/><path d=\"M17.41 7.96l-1.37-1.37c-.4-.4-.92-.59-1.43-.59-.52 0-1.04.2-1.43.59L10.3 9.45l-7.72 7.72c-.78.78-.78 2.05 0 2.83L4 21.41c.39.39.9.59 1.41.59.51 0 1.02-.2 1.41-.59l7.78-7.78 2.81-2.81c.8-.78.8-2.07 0-2.86zM5.41 20L4 18.59l7.72-7.72 1.47 1.35L5.41 20z\"/>\n",
              "  </svg>\n",
              "      </button>\n",
              "      \n",
              "  <style>\n",
              "    .colab-df-container {\n",
              "      display:flex;\n",
              "      flex-wrap:wrap;\n",
              "      gap: 12px;\n",
              "    }\n",
              "\n",
              "    .colab-df-convert {\n",
              "      background-color: #E8F0FE;\n",
              "      border: none;\n",
              "      border-radius: 50%;\n",
              "      cursor: pointer;\n",
              "      display: none;\n",
              "      fill: #1967D2;\n",
              "      height: 32px;\n",
              "      padding: 0 0 0 0;\n",
              "      width: 32px;\n",
              "    }\n",
              "\n",
              "    .colab-df-convert:hover {\n",
              "      background-color: #E2EBFA;\n",
              "      box-shadow: 0px 1px 2px rgba(60, 64, 67, 0.3), 0px 1px 3px 1px rgba(60, 64, 67, 0.15);\n",
              "      fill: #174EA6;\n",
              "    }\n",
              "\n",
              "    [theme=dark] .colab-df-convert {\n",
              "      background-color: #3B4455;\n",
              "      fill: #D2E3FC;\n",
              "    }\n",
              "\n",
              "    [theme=dark] .colab-df-convert:hover {\n",
              "      background-color: #434B5C;\n",
              "      box-shadow: 0px 1px 3px 1px rgba(0, 0, 0, 0.15);\n",
              "      filter: drop-shadow(0px 1px 2px rgba(0, 0, 0, 0.3));\n",
              "      fill: #FFFFFF;\n",
              "    }\n",
              "  </style>\n",
              "\n",
              "      <script>\n",
              "        const buttonEl =\n",
              "          document.querySelector('#df-c8f7f140-5caa-4752-ac31-efdbdf403bec button.colab-df-convert');\n",
              "        buttonEl.style.display =\n",
              "          google.colab.kernel.accessAllowed ? 'block' : 'none';\n",
              "\n",
              "        async function convertToInteractive(key) {\n",
              "          const element = document.querySelector('#df-c8f7f140-5caa-4752-ac31-efdbdf403bec');\n",
              "          const dataTable =\n",
              "            await google.colab.kernel.invokeFunction('convertToInteractive',\n",
              "                                                     [key], {});\n",
              "          if (!dataTable) return;\n",
              "\n",
              "          const docLinkHtml = 'Like what you see? Visit the ' +\n",
              "            '<a target=\"_blank\" href=https://colab.research.google.com/notebooks/data_table.ipynb>data table notebook</a>'\n",
              "            + ' to learn more about interactive tables.';\n",
              "          element.innerHTML = '';\n",
              "          dataTable['output_type'] = 'display_data';\n",
              "          await google.colab.output.renderOutput(dataTable, element);\n",
              "          const docLink = document.createElement('div');\n",
              "          docLink.innerHTML = docLinkHtml;\n",
              "          element.appendChild(docLink);\n",
              "        }\n",
              "      </script>\n",
              "    </div>\n",
              "  </div>\n",
              "  "
            ]
          },
          "metadata": {},
          "execution_count": 24
        }
      ],
      "source": [
        "ratings_grouped_by_movies.head(3)"
      ]
    },
    {
      "cell_type": "code",
      "execution_count": 25,
      "metadata": {
        "id": "aSpSHEW8M0ah"
      },
      "outputs": [],
      "source": [
        "ratings_grouped_by_movies = ratings_grouped_by_movies.drop('userId', axis=1)"
      ]
    },
    {
      "cell_type": "markdown",
      "metadata": {
        "id": "ucVs3UXZM0ai"
      },
      "source": [
        "### Movies with high average rating"
      ]
    },
    {
      "cell_type": "code",
      "execution_count": 26,
      "metadata": {
        "scrolled": false,
        "colab": {
          "base_uri": "https://localhost:8080/",
          "height": 374
        },
        "id": "pyKcCqU-M0ai",
        "outputId": "88cb1f39-bd9b-4887-883b-86e9b7bf315b"
      },
      "outputs": [
        {
          "output_type": "display_data",
          "data": {
            "text/plain": [
              "<Figure size 504x432 with 1 Axes>"
            ],
            "image/png": "[encoded data removed]"
          },
          "metadata": {
            "needs_background": "light"
          }
        }
      ],
      "source": [
        "ratings_grouped_by_movies['rating']['mean'].sort_values(ascending=False).head(10).plot(kind='barh', figsize=(7,6));"
      ]
    },
    {
      "cell_type": "markdown",
      "metadata": {
        "id": "WtQ07edtM0ak"
      },
      "source": [
        "### Movies with low average rating"
      ]
    },
    {
      "cell_type": "code",
      "execution_count": 27,
      "metadata": {
        "id": "PFOP524RM0al"
      },
      "outputs": [],
      "source": [
        "low_rated_movies_filter = ratings_grouped_by_movies['rating']['mean']< 1.5"
      ]
    },
    {
      "cell_type": "code",
      "execution_count": 28,
      "metadata": {
        "id": "81Uwinc6M0al"
      },
      "outputs": [],
      "source": [
        "low_rated_movies = ratings_grouped_by_movies[low_rated_movies_filter]"
      ]
    },
    {
      "cell_type": "code",
      "execution_count": 29,
      "metadata": {
        "scrolled": true,
        "colab": {
          "base_uri": "https://localhost:8080/",
          "height": 320
        },
        "id": "I3wbh6JcM0am",
        "outputId": "7c4a73c1-5f09-49e6-aa2f-be151cd51e5a"
      },
      "outputs": [
        {
          "output_type": "display_data",
          "data": {
            "text/plain": [
              "<Figure size 504x360 with 1 Axes>"
            ],
            "image/png": "[encoded data removed]"
          },
          "metadata": {
            "needs_background": "light"
          }
        }
      ],
      "source": [
        "low_rated_movies.head(20).plot(kind='barh', figsize=(7,5));"
      ]
    },
    {
      "cell_type": "code",
      "execution_count": 30,
      "metadata": {
        "colab": {
          "base_uri": "https://localhost:8080/",
          "height": 425
        },
        "id": "CFvjyeKGM0an",
        "outputId": "89ab486d-1919-43c2-c728-930a0ca5745a"
      },
      "outputs": [
        {
          "output_type": "execute_result",
          "data": {
            "text/plain": [
              "           rating\n",
              "             mean\n",
              "movieId          \n",
              "178      1.000000\n",
              "312      1.444444\n",
              "449      1.000000\n",
              "470      1.000000\n",
              "476      1.000000\n",
              "698      1.000000\n",
              "870      1.000000\n",
              "1163     1.000000\n",
              "1324     1.166667\n",
              "1325     1.250000"
            ],
            "text/html": [
              "\n",
              "  <div id=\"df-947d6389-2344-4b0d-b4e2-a2e50b7c5e7a\">\n",
              "    <div class=\"colab-df-container\">\n",
              "      <div>\n",
              "<style scoped>\n",
              "    .dataframe tbody tr th:only-of-type {\n",
              "        vertical-align: middle;\n",
              "    }\n",
              "\n",
              "    .dataframe tbody tr th {\n",
              "        vertical-align: top;\n",
              "    }\n",
              "\n",
              "    .dataframe thead tr th {\n",
              "        text-align: left;\n",
              "    }\n",
              "\n",
              "    .dataframe thead tr:last-of-type th {\n",
              "        text-align: right;\n",
              "    }\n",
              "</style>\n",
              "<table border=\"1\" class=\"dataframe\">\n",
              "  <thead>\n",
              "    <tr>\n",
              "      <th></th>\n",
              "      <th>rating</th>\n",
              "    </tr>\n",
              "    <tr>\n",
              "      <th></th>\n",
              "      <th>mean</th>\n",
              "    </tr>\n",
              "    <tr>\n",
              "      <th>movieId</th>\n",
              "      <th></th>\n",
              "    </tr>\n",
              "  </thead>\n",
              "  <tbody>\n",
              "    <tr>\n",
              "      <th>178</th>\n",
              "      <td>1.000000</td>\n",
              "    </tr>\n",
              "    <tr>\n",
              "      <th>312</th>\n",
              "      <td>1.444444</td>\n",
              "    </tr>\n",
              "    <tr>\n",
              "      <th>449</th>\n",
              "      <td>1.000000</td>\n",
              "    </tr>\n",
              "    <tr>\n",
              "      <th>470</th>\n",
              "      <td>1.000000</td>\n",
              "    </tr>\n",
              "    <tr>\n",
              "      <th>476</th>\n",
              "      <td>1.000000</td>\n",
              "    </tr>\n",
              "    <tr>\n",
              "      <th>698</th>\n",
              "      <td>1.000000</td>\n",
              "    </tr>\n",
              "    <tr>\n",
              "      <th>870</th>\n",
              "      <td>1.000000</td>\n",
              "    </tr>\n",
              "    <tr>\n",
              "      <th>1163</th>\n",
              "      <td>1.000000</td>\n",
              "    </tr>\n",
              "    <tr>\n",
              "      <th>1324</th>\n",
              "      <td>1.166667</td>\n",
              "    </tr>\n",
              "    <tr>\n",
              "      <th>1325</th>\n",
              "      <td>1.250000</td>\n",
              "    </tr>\n",
              "  </tbody>\n",
              "</table>\n",
              "</div>\n",
              "      <button class=\"colab-df-convert\" onclick=\"convertToInteractive('df-947d6389-2344-4b0d-b4e2-a2e50b7c5e7a')\"\n",
              "              title=\"Convert this dataframe to an interactive table.\"\n",
              "              style=\"display:none;\">\n",
              "        \n",
              "  <svg xmlns=\"http://www.w3.org/2000/svg\" height=\"24px\"viewBox=\"0 0 24 24\"\n",
              "       width=\"24px\">\n",
              "    <path d=\"M0 0h24v24H0V0z\" fill=\"none\"/>\n",
              "    <path d=\"M18.56 5.44l.94 2.06.94-2.06 2.06-.94-2.06-.94-.94-2.06-.94 2.06-2.06.94zm-11 1L8.5 8.5l.94-2.06 2.06-.94-2.06-.94L8.5 2.5l-.94 2.06-2.06.94zm10 10l.94 2.06.94-2.06 2.06-.94-2.06-.94-.94-2.06-.94 2.06-2.06.94z\"/><path d=\"M17.41 7.96l-1.37-1.37c-.4-.4-.92-.59-1.43-.59-.52 0-1.04.2-1.43.59L10.3 9.45l-7.72 7.72c-.78.78-.78 2.05 0 2.83L4 21.41c.39.39.9.59 1.41.59.51 0 1.02-.2 1.41-.59l7.78-7.78 2.81-2.81c.8-.78.8-2.07 0-2.86zM5.41 20L4 18.59l7.72-7.72 1.47 1.35L5.41 20z\"/>\n",
              "  </svg>\n",
              "      </button>\n",
              "      \n",
              "  <style>\n",
              "    .colab-df-container {\n",
              "      display:flex;\n",
              "      flex-wrap:wrap;\n",
              "      gap: 12px;\n",
              "    }\n",
              "\n",
              "    .colab-df-convert {\n",
              "      background-color: #E8F0FE;\n",
              "      border: none;\n",
              "      border-radius: 50%;\n",
              "      cursor: pointer;\n",
              "      display: none;\n",
              "      fill: #1967D2;\n",
              "      height: 32px;\n",
              "      padding: 0 0 0 0;\n",
              "      width: 32px;\n",
              "    }\n",
              "\n",
              "    .colab-df-convert:hover {\n",
              "      background-color: #E2EBFA;\n",
              "      box-shadow: 0px 1px 2px rgba(60, 64, 67, 0.3), 0px 1px 3px 1px rgba(60, 64, 67, 0.15);\n",
              "      fill: #174EA6;\n",
              "    }\n",
              "\n",
              "    [theme=dark] .colab-df-convert {\n",
              "      background-color: #3B4455;\n",
              "      fill: #D2E3FC;\n",
              "    }\n",
              "\n",
              "    [theme=dark] .colab-df-convert:hover {\n",
              "      background-color: #434B5C;\n",
              "      box-shadow: 0px 1px 3px 1px rgba(0, 0, 0, 0.15);\n",
              "      filter: drop-shadow(0px 1px 2px rgba(0, 0, 0, 0.3));\n",
              "      fill: #FFFFFF;\n",
              "    }\n",
              "  </style>\n",
              "\n",
              "      <script>\n",
              "        const buttonEl =\n",
              "          document.querySelector('#df-947d6389-2344-4b0d-b4e2-a2e50b7c5e7a button.colab-df-convert');\n",
              "        buttonEl.style.display =\n",
              "          google.colab.kernel.accessAllowed ? 'block' : 'none';\n",
              "\n",
              "        async function convertToInteractive(key) {\n",
              "          const element = document.querySelector('#df-947d6389-2344-4b0d-b4e2-a2e50b7c5e7a');\n",
              "          const dataTable =\n",
              "            await google.colab.kernel.invokeFunction('convertToInteractive',\n",
              "                                                     [key], {});\n",
              "          if (!dataTable) return;\n",
              "\n",
              "          const docLinkHtml = 'Like what you see? Visit the ' +\n",
              "            '<a target=\"_blank\" href=https://colab.research.google.com/notebooks/data_table.ipynb>data table notebook</a>'\n",
              "            + ' to learn more about interactive tables.';\n",
              "          element.innerHTML = '';\n",
              "          dataTable['output_type'] = 'display_data';\n",
              "          await google.colab.output.renderOutput(dataTable, element);\n",
              "          const docLink = document.createElement('div');\n",
              "          docLink.innerHTML = docLinkHtml;\n",
              "          element.appendChild(docLink);\n",
              "        }\n",
              "      </script>\n",
              "    </div>\n",
              "  </div>\n",
              "  "
            ]
          },
          "metadata": {},
          "execution_count": 30
        }
      ],
      "source": [
        "low_rated_movies.head(10)"
      ]
    },
    {
      "cell_type": "markdown",
      "metadata": {
        "id": "2iLF3EWvM0ao"
      },
      "source": [
        "# Content based filtering\n",
        "The concepts of Term Frequency (TF) and Inverse Document Frequency (IDF) are used in information retrieval systems and also content based filtering mechanisms (such as a content based recommender). They are used to determine the relative importance of a document / article / news item / movie etc.\n",
        "\n",
        "### Term Frequency (TF) and Inverse Document Frequency (IDF)\n",
        "TF is simply the frequency of a word in a document. IDF is the inverse of the document frequency among the whole corpus of documents. TF-IDF is used mainly because of two reasons: Suppose we search for “the rise of analytics” on Google. It is certain that “the” will occur more frequently than “analytics” but the relative importance of analytics is higher than the search query point of view. In such cases, TF-IDF weighting negates the effect of high frequency words in determining the importance of an item (document).\n",
        "\n",
        "We will consider genres as an important parameter to recommend user the movie he watches based on generes of movie user has already watched.\n",
        "\n",
        "![](https://mungingdata.files.wordpress.com/2017/11/equation.png?w=430&h=336)"
      ]
    },
    {
      "cell_type": "markdown",
      "metadata": {
        "id": "c9I9WY6AM0ar"
      },
      "source": [
        "For calculating distances, many similarity coefficients can be calculated. Most widely used similarity coefficients are Euclidean, Cosine, Pearson Correlation etc.\n",
        "\n",
        "**Cosine similarity**\n",
        "is a measure of similarity between two non-zero vectors of an inner product space that measures the cosine of the angle between them.\n",
        "Given two vectors of attributes, A and B, the cosine similarity, cos(θ), is represented using a dot product and magnitude as\n",
        "Inline-style: \n",
        "![alt text](https://alexn.org/assets/img/cosine-similarity.png)\n",
        "\n",
        "We will use cosine distance here. Here we are insterested in similarity. That means higher the value more similar they are. But as the function gives us the distance, we will deduct it from 1."
      ]
    },
    {
      "cell_type": "code",
      "execution_count": 31,
      "metadata": {
        "id": "Qp1jqhuvM0as"
      },
      "outputs": [],
      "source": [
        "# Define a TF-IDF Vectorizer Object.\n",
        "tfidf_movies_genres = TfidfVectorizer(token_pattern = '[a-zA-Z0-9\\-]+')\n",
        "\n",
        "#Replace NaN with an empty string\n",
        "df_movies['genres'] = df_movies['genres'].replace(to_replace=\"(no genres listed)\", value=\"\")\n",
        "\n",
        "#Construct the required TF-IDF matrix by fitting and transforming the data\n",
        "tfidf_movies_genres_matrix = tfidf_movies_genres.fit_transform(df_movies['genres'])\n",
        "# print(tfidf_movies_genres.get_feature_names())\n",
        "# Compute the cosine similarity matrix\n",
        "# print(tfidf_movies_genres_matrix.shape)\n",
        "# print(tfidf_movies_genres_matrix.dtype)\n",
        "cosine_sim_movies = linear_kernel(tfidf_movies_genres_matrix, tfidf_movies_genres_matrix)\n",
        "# print(cosine_sim_movies)"
      ]
    },
    {
      "cell_type": "code",
      "execution_count": 32,
      "metadata": {
        "id": "HeKbA94CM0at"
      },
      "outputs": [],
      "source": [
        "def get_recommendations_based_on_genres(movie_title, cosine_sim_movies=cosine_sim_movies):\n",
        "    \"\"\"\n",
        "    Calculates top 2 movies to recommend based on given movie titles genres. \n",
        "    :param movie_title: title of movie to be taken for base of recommendation\n",
        "    :param cosine_sim_movies: cosine similarity between movies \n",
        "    :return: Titles of movies recommended to user\n",
        "    \"\"\"\n",
        "    # Get the index of the movie that matches the title\n",
        "    idx_movie = df_movies.loc[df_movies['title'].isin([movie_title])]\n",
        "    idx_movie = idx_movie.index\n",
        "    \n",
        "    # Get the pairwsie similarity scores of all movies with that movie\n",
        "    sim_scores_movies = list(enumerate(cosine_sim_movies[idx_movie][0]))\n",
        "    \n",
        "    # Sort the movies based on the similarity scores\n",
        "    sim_scores_movies = sorted(sim_scores_movies, key=lambda x: x[1], reverse=True)\n",
        "\n",
        "    # Get the scores of the 10 most similar movies\n",
        "    sim_scores_movies = sim_scores_movies[1:3]\n",
        "    \n",
        "    # Get the movie indices\n",
        "    movie_indices = [i[0] for i in sim_scores_movies]\n",
        "    \n",
        "    # Return the top 2 most similar movies\n",
        "    return df_movies['title'].iloc[movie_indices]\n"
      ]
    },
    {
      "cell_type": "code",
      "execution_count": 33,
      "metadata": {
        "colab": {
          "base_uri": "https://localhost:8080/"
        },
        "id": "MWsQnqi4M0av",
        "outputId": "d56ed2a1-dfde-4cc7-ae10-15100b1b674d"
      },
      "outputs": [
        {
          "output_type": "execute_result",
          "data": {
            "text/plain": [
              "17                        Four Rooms (1995)\n",
              "18    Ace Ventura: When Nature Calls (1995)\n",
              "Name: title, dtype: object"
            ]
          },
          "metadata": {},
          "execution_count": 33
        }
      ],
      "source": [
        "get_recommendations_based_on_genres(\"Father of the Bride Part II (1995)\")"
      ]
    },
    {
      "cell_type": "code",
      "execution_count": 34,
      "metadata": {
        "colab": {
          "base_uri": "https://localhost:8080/"
        },
        "id": "d4EMSFfdM0aw",
        "outputId": "0154e546-9732-47ca-8055-51a402db2717"
      },
      "outputs": [
        {
          "output_type": "execute_result",
          "data": {
            "text/plain": [
              "{'101 Dalmatians (One Hundred and One Dalmatians) (1961)',\n",
              " '39 Steps, The (1935)',\n",
              " 'Ace Ventura: When Nature Calls (1995)',\n",
              " 'Adventures in Babysitting (1987)',\n",
              " 'Adventures of Robin Hood, The (1938)',\n",
              " 'Alamo, The (1960)',\n",
              " 'Alien Nation (1988)',\n",
              " 'Amateur (1994)',\n",
              " 'Amazing Panda Adventure, The (1995)',\n",
              " \"Antonia's Line (Antonia) (1995)\",\n",
              " 'Antz (1998)',\n",
              " 'Aristocats, The (1970)',\n",
              " 'Around the World in 80 Days (1956)',\n",
              " 'Assassins (1995)',\n",
              " 'Austin Powers: The Spy Who Shagged Me (1999)',\n",
              " 'BURN-E (2008)',\n",
              " 'Babes in Toyland (1934)',\n",
              " 'Backbeat (1993)',\n",
              " 'Barb Wire (1996)',\n",
              " 'Batman: Mystery of the Batwoman (2003)',\n",
              " 'Beat the Devil (1953)',\n",
              " 'Before the Rain (Pred dozhdot) (1994)',\n",
              " 'Ben-Hur (1959)',\n",
              " 'Big Bully (1996)',\n",
              " 'Big Country, The (1958)',\n",
              " 'Big Trouble in Little China (1986)',\n",
              " 'Black Hole, The (1979)',\n",
              " 'Blazing Saddles (1974)',\n",
              " 'Blues Brothers 2000 (1998)',\n",
              " 'Boot, Das (Boat, The) (1981)',\n",
              " 'Bride of Frankenstein, The (Bride of Frankenstein) (1935)',\n",
              " 'Broken Arrow (1996)',\n",
              " 'Brothers Bloom, The (2008)',\n",
              " \"Bug's Life, A (1998)\",\n",
              " 'Captain Blood (1935)',\n",
              " 'Carpool (1996)',\n",
              " 'Castle Freak (1995)',\n",
              " \"Cats Don't Dance (1997)\",\n",
              " 'Catwoman (2004)',\n",
              " 'Cemetery Man (Dellamorte Dellamore) (1994)',\n",
              " 'Chinatown (1974)',\n",
              " \"Cirque du Freak: The Vampire's Assistant (2009)\",\n",
              " \"City Slickers II: The Legend of Curly's Gold (1994)\",\n",
              " 'Clash of the Titans (1981)',\n",
              " 'Cliffhanger (1993)',\n",
              " 'Clueless (1995)',\n",
              " 'Coneheads (1993)',\n",
              " 'Crocodile Dundee II (1988)',\n",
              " 'Dangerous Minds (1995)',\n",
              " 'Dead Man Walking (1995)',\n",
              " \"Dead Men Don't Wear Plaid (1982)\",\n",
              " 'Dial M for Murder (1954)',\n",
              " 'Die Hard: With a Vengeance (1995)',\n",
              " 'Django Unchained (2012)',\n",
              " 'Doctor Dolittle (1967)',\n",
              " 'Dr. Strangelove or: How I Learned to Stop Worrying and Love the Bomb (1964)',\n",
              " 'Dragonheart (1996)',\n",
              " 'Drop Dead Fred (1991)',\n",
              " 'Drop Zone (1994)',\n",
              " 'Dungeons & Dragons (2000)',\n",
              " \"Eight Crazy Nights (Adam Sandler's Eight Crazy Nights) (2002)\",\n",
              " 'Escape from L.A. (1996)',\n",
              " 'Ewok Adventure, The (a.k.a. Caravan of Courage: An Ewok Adventure) (1984)',\n",
              " 'Explorers (1985)',\n",
              " 'Fantastic Mr. Fox (2009)',\n",
              " 'Fargo (1996)',\n",
              " 'Faust (1926)',\n",
              " 'Feast (2005)',\n",
              " 'Ferngully: The Last Rainforest (1992)',\n",
              " 'Fled (1996)',\n",
              " 'Four Rooms (1995)',\n",
              " 'Freaks (1932)',\n",
              " 'Freeway (1996)',\n",
              " 'Friday the 13th (1980)',\n",
              " 'Funny Face (1957)',\n",
              " 'Godzilla (Gojira) (1954)',\n",
              " 'Great Dictator, The (1940)',\n",
              " 'Hanna (2011)',\n",
              " 'Happiness of the Katakuris, The (Katakuri-ke no kôfuku) (2001)',\n",
              " 'Harlem Nights (1989)',\n",
              " 'Heartbreakers (2001)',\n",
              " 'Hellboy (2004)',\n",
              " 'Henry: Portrait of a Serial Killer (1986)',\n",
              " 'Hercules (1997)',\n",
              " 'Hideaway (1995)',\n",
              " 'Home (2015)',\n",
              " 'Hook (1991)',\n",
              " 'I Know What You Did Last Summer (1997)',\n",
              " 'In the Army Now (1994)',\n",
              " 'Indian in the Cupboard, The (1995)',\n",
              " 'Insomnia (2002)',\n",
              " 'Into the Woods (1991)',\n",
              " 'Jewel of the Nile, The (1985)',\n",
              " 'Jimmy Neutron: Boy Genius (2001)',\n",
              " 'Johnny Mnemonic (1995)',\n",
              " 'Journey to the Center of the Earth (1959)',\n",
              " 'Judge Dredd (1995)',\n",
              " 'Just Cause (1995)',\n",
              " 'Kaspar Hauser (1993)',\n",
              " \"King Solomon's Mines (1937)\",\n",
              " 'Kiss of Death (1995)',\n",
              " 'La Cérémonie (1995)',\n",
              " 'Leaving Las Vegas (1995)',\n",
              " 'Legends of the Fall (1994)',\n",
              " 'Lethal Weapon 2 (1989)',\n",
              " 'Librarian: Quest for the Spear, The (2004)',\n",
              " 'Life Is Beautiful (La Vita è bella) (1997)',\n",
              " 'Lilo & Stitch (2002)',\n",
              " 'Little Shop of Horrors (1986)',\n",
              " 'Léon: The Professional (a.k.a. The Professional) (Léon) (1994)',\n",
              " 'Man Who Knew Too Little, The (1997)',\n",
              " 'Man in the Iron Mask, The (1998)',\n",
              " 'Man on Fire (2004)',\n",
              " 'Mars Attacks! (1996)',\n",
              " 'Maverick (1994)',\n",
              " 'Medallion, The (2003)',\n",
              " 'Meet the Feebles (1989)',\n",
              " 'Misérables, Les (1995)',\n",
              " 'Monster House (2006)',\n",
              " 'Muppet Treasure Island (1996)',\n",
              " 'Murder at 1600 (1997)',\n",
              " 'Mystery Science Theater 3000: The Movie (1996)',\n",
              " 'National Treasure (2004)',\n",
              " 'NeverEnding Story III, The (1994)',\n",
              " 'New Adventures of Pippi Longstocking, The (1988)',\n",
              " 'Old Man and the Sea, The (1958)',\n",
              " 'Oliver & Company (1988)',\n",
              " \"On Her Majesty's Secret Service (1969)\",\n",
              " \"Once Upon a Time in the West (C'era una volta il West) (1968)\",\n",
              " 'Orlando (1992)',\n",
              " 'Othello (1995)',\n",
              " 'Persuasion (1995)',\n",
              " 'Phantom, The (1996)',\n",
              " 'Pinocchio (1940)',\n",
              " 'Pleasantville (1998)',\n",
              " 'Pokémon: The First Movie (1998)',\n",
              " 'Puppet Masters, The (1994)',\n",
              " 'Purple Rose of Cairo, The (1985)',\n",
              " 'Quest for Camelot (1998)',\n",
              " 'Ratatouille (2007)',\n",
              " 'Rescuers Down Under, The (1990)',\n",
              " 'Return from Witch Mountain (1978)',\n",
              " 'Return to Snowy River (a.k.a. The Man From Snowy River II) (1988)',\n",
              " 'River Wild, The (1994)',\n",
              " 'Robin Hood: Prince of Thieves (1991)',\n",
              " 'RoboCop (1987)',\n",
              " 'RoboCop 2 (1990)',\n",
              " 'Sabrina (1995)',\n",
              " 'Safe (1995)',\n",
              " 'Saw (2003)',\n",
              " 'Scooby-Doo (2002)',\n",
              " 'Scream 2 (1997)',\n",
              " 'Screamers (1995)',\n",
              " 'Scrooged (1988)',\n",
              " 'Secret Life of Walter Mitty, The (1947)',\n",
              " 'Set It Off (1996)',\n",
              " 'Shanghai Triad (Yao a yao yao dao waipo qiao) (1995)',\n",
              " 'Simple Wish, A (1997)',\n",
              " 'Sinbad and the Eye of the Tiger (1977)',\n",
              " 'Snakes on a Plane (2006)',\n",
              " 'Something Wicked This Way Comes (1983)',\n",
              " 'Song of the South (1946)',\n",
              " \"Sorcerer's Apprentice, The (2010)\",\n",
              " 'South Pacific (1958)',\n",
              " 'Spartacus (1960)',\n",
              " 'Splash (1984)',\n",
              " 'Stagecoach (1939)',\n",
              " 'Star Trek IV: The Voyage Home (1986)',\n",
              " 'Star Trek V: The Final Frontier (1989)',\n",
              " 'Stargate (1994)',\n",
              " 'Steamboat Willie (1928)',\n",
              " 'Street Fighter (1994)',\n",
              " 'Striking Distance (1993)',\n",
              " 'Striptease (1996)',\n",
              " 'Supercop (Police Story 3: Supercop) (Jing cha gu shi III: Chao ji jing cha) (1992)',\n",
              " 'Supercop 2 (Project S) (Chao ji ji hua) (1993)',\n",
              " 'Sword in the Stone, The (1963)',\n",
              " 'Talk of the Town, The (1942)',\n",
              " 'Tangled Ever After (2012)',\n",
              " 'Tarzan (1999)',\n",
              " 'The Mummy (2017)',\n",
              " 'Three Caballeros, The (1945)',\n",
              " 'Thumbelina (1994)',\n",
              " 'Time Lapse (2014)',\n",
              " 'To Be or Not to Be (1942)',\n",
              " 'Tokyo Tribe (2014)',\n",
              " 'Tom and Huck (1995)',\n",
              " 'Toy Story 2 (1999)',\n",
              " 'Train of Life (Train de vie) (1998)',\n",
              " 'Transformers: The Movie (1986)',\n",
              " 'True Grit (1969)',\n",
              " 'Underneath (1995)',\n",
              " 'Up (2009)',\n",
              " 'Valiant (2005)',\n",
              " 'Van Helsing (2004)',\n",
              " 'Village of the Damned (1995)',\n",
              " 'War of the Worlds, The (1953)',\n",
              " \"We're Back! A Dinosaur's Story (1993)\",\n",
              " 'Were the World Mine (2008)',\n",
              " 'What Dreams May Come (1998)',\n",
              " \"What's Love Got to Do with It? (1993)\",\n",
              " 'Witches, The (1990)',\n",
              " 'Wiz, The (1978)',\n",
              " 'Wizards of Waverly Place: The Movie (2009)'}"
            ]
          },
          "metadata": {},
          "execution_count": 34
        }
      ],
      "source": [
        "def get_recommendation_content_model(userId):\n",
        "    \"\"\"\n",
        "    Calculates top movies to be recommended to user based on movie user has watched.  \n",
        "    :param userId: userid of user\n",
        "    :return: Titles of movies recommended to user\n",
        "    \"\"\"\n",
        "    recommended_movie_list = []\n",
        "    movie_list = []\n",
        "    df_rating_filtered = df_ratings[df_ratings[\"userId\"]== userId]\n",
        "    for key, row in df_rating_filtered.iterrows():\n",
        "        movie_list.append((df_movies[\"title\"][row[\"movieId\"]==df_movies[\"movieId\"]]).values) \n",
        "    for index, movie in enumerate(movie_list):\n",
        "        for key, movie_recommended in get_recommendations_based_on_genres(movie[0]).iteritems():\n",
        "            recommended_movie_list.append(movie_recommended)\n",
        "\n",
        "    # removing already watched movie from recommended list    \n",
        "    for movie_title in recommended_movie_list:\n",
        "        if movie_title in movie_list:\n",
        "            recommended_movie_list.remove(movie_title)\n",
        "    \n",
        "    return set(recommended_movie_list)\n",
        "get_recommendation_content_model(1)"
      ]
    },
    {
      "cell_type": "markdown",
      "source": [
        "**Model evaluation with RNN**"
      ],
      "metadata": {
        "id": "55UJNN_4l8Qa"
      }
    },
    {
      "cell_type": "code",
      "source": [
        "df1 = movies.copy()\n",
        "df1 = df1[['movieId','title','genres']]\n",
        "df1"
      ],
      "metadata": {
        "colab": {
          "base_uri": "https://localhost:8080/",
          "height": 423
        },
        "id": "OxQBGmKAhjFl",
        "outputId": "c025a10d-b831-482e-f73e-014bf5429410"
      },
      "execution_count": 35,
      "outputs": [
        {
          "output_type": "execute_result",
          "data": {
            "text/plain": [
              "      movieId                                      title  \\\n",
              "0           1                           Toy Story (1995)   \n",
              "1           2                             Jumanji (1995)   \n",
              "2           3                    Grumpier Old Men (1995)   \n",
              "3           4                   Waiting to Exhale (1995)   \n",
              "4           5         Father of the Bride Part II (1995)   \n",
              "...       ...                                        ...   \n",
              "9737   193581  Black Butler: Book of the Atlantic (2017)   \n",
              "9738   193583               No Game No Life: Zero (2017)   \n",
              "9739   193585                               Flint (2017)   \n",
              "9740   193587        Bungo Stray Dogs: Dead Apple (2018)   \n",
              "9741   193609        Andrew Dice Clay: Dice Rules (1991)   \n",
              "\n",
              "                                           genres  \n",
              "0     Adventure|Animation|Children|Comedy|Fantasy  \n",
              "1                      Adventure|Children|Fantasy  \n",
              "2                                  Comedy|Romance  \n",
              "3                            Comedy|Drama|Romance  \n",
              "4                                          Comedy  \n",
              "...                                           ...  \n",
              "9737              Action|Animation|Comedy|Fantasy  \n",
              "9738                     Animation|Comedy|Fantasy  \n",
              "9739                                        Drama  \n",
              "9740                             Action|Animation  \n",
              "9741                                       Comedy  \n",
              "\n",
              "[9742 rows x 3 columns]"
            ],
            "text/html": [
              "\n",
              "  <div id=\"df-27471ed3-e4ec-42ef-89e0-7f9bc17f1500\">\n",
              "    <div class=\"colab-df-container\">\n",
              "      <div>\n",
              "<style scoped>\n",
              "    .dataframe tbody tr th:only-of-type {\n",
              "        vertical-align: middle;\n",
              "    }\n",
              "\n",
              "    .dataframe tbody tr th {\n",
              "        vertical-align: top;\n",
              "    }\n",
              "\n",
              "    .dataframe thead th {\n",
              "        text-align: right;\n",
              "    }\n",
              "</style>\n",
              "<table border=\"1\" class=\"dataframe\">\n",
              "  <thead>\n",
              "    <tr style=\"text-align: right;\">\n",
              "      <th></th>\n",
              "      <th>movieId</th>\n",
              "      <th>title</th>\n",
              "      <th>genres</th>\n",
              "    </tr>\n",
              "  </thead>\n",
              "  <tbody>\n",
              "    <tr>\n",
              "      <th>0</th>\n",
              "      <td>1</td>\n",
              "      <td>Toy Story (1995)</td>\n",
              "      <td>Adventure|Animation|Children|Comedy|Fantasy</td>\n",
              "    </tr>\n",
              "    <tr>\n",
              "      <th>1</th>\n",
              "      <td>2</td>\n",
              "      <td>Jumanji (1995)</td>\n",
              "      <td>Adventure|Children|Fantasy</td>\n",
              "    </tr>\n",
              "    <tr>\n",
              "      <th>2</th>\n",
              "      <td>3</td>\n",
              "      <td>Grumpier Old Men (1995)</td>\n",
              "      <td>Comedy|Romance</td>\n",
              "    </tr>\n",
              "    <tr>\n",
              "      <th>3</th>\n",
              "      <td>4</td>\n",
              "      <td>Waiting to Exhale (1995)</td>\n",
              "      <td>Comedy|Drama|Romance</td>\n",
              "    </tr>\n",
              "    <tr>\n",
              "      <th>4</th>\n",
              "      <td>5</td>\n",
              "      <td>Father of the Bride Part II (1995)</td>\n",
              "      <td>Comedy</td>\n",
              "    </tr>\n",
              "    <tr>\n",
              "      <th>...</th>\n",
              "      <td>...</td>\n",
              "      <td>...</td>\n",
              "      <td>...</td>\n",
              "    </tr>\n",
              "    <tr>\n",
              "      <th>9737</th>\n",
              "      <td>193581</td>\n",
              "      <td>Black Butler: Book of the Atlantic (2017)</td>\n",
              "      <td>Action|Animation|Comedy|Fantasy</td>\n",
              "    </tr>\n",
              "    <tr>\n",
              "      <th>9738</th>\n",
              "      <td>193583</td>\n",
              "      <td>No Game No Life: Zero (2017)</td>\n",
              "      <td>Animation|Comedy|Fantasy</td>\n",
              "    </tr>\n",
              "    <tr>\n",
              "      <th>9739</th>\n",
              "      <td>193585</td>\n",
              "      <td>Flint (2017)</td>\n",
              "      <td>Drama</td>\n",
              "    </tr>\n",
              "    <tr>\n",
              "      <th>9740</th>\n",
              "      <td>193587</td>\n",
              "      <td>Bungo Stray Dogs: Dead Apple (2018)</td>\n",
              "      <td>Action|Animation</td>\n",
              "    </tr>\n",
              "    <tr>\n",
              "      <th>9741</th>\n",
              "      <td>193609</td>\n",
              "      <td>Andrew Dice Clay: Dice Rules (1991)</td>\n",
              "      <td>Comedy</td>\n",
              "    </tr>\n",
              "  </tbody>\n",
              "</table>\n",
              "<p>9742 rows × 3 columns</p>\n",
              "</div>\n",
              "      <button class=\"colab-df-convert\" onclick=\"convertToInteractive('df-27471ed3-e4ec-42ef-89e0-7f9bc17f1500')\"\n",
              "              title=\"Convert this dataframe to an interactive table.\"\n",
              "              style=\"display:none;\">\n",
              "        \n",
              "  <svg xmlns=\"http://www.w3.org/2000/svg\" height=\"24px\"viewBox=\"0 0 24 24\"\n",
              "       width=\"24px\">\n",
              "    <path d=\"M0 0h24v24H0V0z\" fill=\"none\"/>\n",
              "    <path d=\"M18.56 5.44l.94 2.06.94-2.06 2.06-.94-2.06-.94-.94-2.06-.94 2.06-2.06.94zm-11 1L8.5 8.5l.94-2.06 2.06-.94-2.06-.94L8.5 2.5l-.94 2.06-2.06.94zm10 10l.94 2.06.94-2.06 2.06-.94-2.06-.94-.94-2.06-.94 2.06-2.06.94z\"/><path d=\"M17.41 7.96l-1.37-1.37c-.4-.4-.92-.59-1.43-.59-.52 0-1.04.2-1.43.59L10.3 9.45l-7.72 7.72c-.78.78-.78 2.05 0 2.83L4 21.41c.39.39.9.59 1.41.59.51 0 1.02-.2 1.41-.59l7.78-7.78 2.81-2.81c.8-.78.8-2.07 0-2.86zM5.41 20L4 18.59l7.72-7.72 1.47 1.35L5.41 20z\"/>\n",
              "  </svg>\n",
              "      </button>\n",
              "      \n",
              "  <style>\n",
              "    .colab-df-container {\n",
              "      display:flex;\n",
              "      flex-wrap:wrap;\n",
              "      gap: 12px;\n",
              "    }\n",
              "\n",
              "    .colab-df-convert {\n",
              "      background-color: #E8F0FE;\n",
              "      border: none;\n",
              "      border-radius: 50%;\n",
              "      cursor: pointer;\n",
              "      display: none;\n",
              "      fill: #1967D2;\n",
              "      height: 32px;\n",
              "      padding: 0 0 0 0;\n",
              "      width: 32px;\n",
              "    }\n",
              "\n",
              "    .colab-df-convert:hover {\n",
              "      background-color: #E2EBFA;\n",
              "      box-shadow: 0px 1px 2px rgba(60, 64, 67, 0.3), 0px 1px 3px 1px rgba(60, 64, 67, 0.15);\n",
              "      fill: #174EA6;\n",
              "    }\n",
              "\n",
              "    [theme=dark] .colab-df-convert {\n",
              "      background-color: #3B4455;\n",
              "      fill: #D2E3FC;\n",
              "    }\n",
              "\n",
              "    [theme=dark] .colab-df-convert:hover {\n",
              "      background-color: #434B5C;\n",
              "      box-shadow: 0px 1px 3px 1px rgba(0, 0, 0, 0.15);\n",
              "      filter: drop-shadow(0px 1px 2px rgba(0, 0, 0, 0.3));\n",
              "      fill: #FFFFFF;\n",
              "    }\n",
              "  </style>\n",
              "\n",
              "      <script>\n",
              "        const buttonEl =\n",
              "          document.querySelector('#df-27471ed3-e4ec-42ef-89e0-7f9bc17f1500 button.colab-df-convert');\n",
              "        buttonEl.style.display =\n",
              "          google.colab.kernel.accessAllowed ? 'block' : 'none';\n",
              "\n",
              "        async function convertToInteractive(key) {\n",
              "          const element = document.querySelector('#df-27471ed3-e4ec-42ef-89e0-7f9bc17f1500');\n",
              "          const dataTable =\n",
              "            await google.colab.kernel.invokeFunction('convertToInteractive',\n",
              "                                                     [key], {});\n",
              "          if (!dataTable) return;\n",
              "\n",
              "          const docLinkHtml = 'Like what you see? Visit the ' +\n",
              "            '<a target=\"_blank\" href=https://colab.research.google.com/notebooks/data_table.ipynb>data table notebook</a>'\n",
              "            + ' to learn more about interactive tables.';\n",
              "          element.innerHTML = '';\n",
              "          dataTable['output_type'] = 'display_data';\n",
              "          await google.colab.output.renderOutput(dataTable, element);\n",
              "          const docLink = document.createElement('div');\n",
              "          docLink.innerHTML = docLinkHtml;\n",
              "          element.appendChild(docLink);\n",
              "        }\n",
              "      </script>\n",
              "    </div>\n",
              "  </div>\n",
              "  "
            ]
          },
          "metadata": {},
          "execution_count": 35
        }
      ]
    },
    {
      "cell_type": "code",
      "source": [
        "df1['movieId']"
      ],
      "metadata": {
        "colab": {
          "base_uri": "https://localhost:8080/"
        },
        "id": "ocvGaWWDh7QY",
        "outputId": "2dc530a2-0806-4aab-e22f-2d2d99c23232"
      },
      "execution_count": 36,
      "outputs": [
        {
          "output_type": "execute_result",
          "data": {
            "text/plain": [
              "0            1\n",
              "1            2\n",
              "2            3\n",
              "3            4\n",
              "4            5\n",
              "         ...  \n",
              "9737    193581\n",
              "9738    193583\n",
              "9739    193585\n",
              "9740    193587\n",
              "9741    193609\n",
              "Name: movieId, Length: 9742, dtype: int64"
            ]
          },
          "metadata": {},
          "execution_count": 36
        }
      ]
    },
    {
      "cell_type": "code",
      "source": [
        "df1['movieId'] = df1['movieId']\n",
        "df1['movieId']"
      ],
      "metadata": {
        "colab": {
          "base_uri": "https://localhost:8080/"
        },
        "id": "x6Pff1YziIOc",
        "outputId": "edfaf69a-6e16-4362-9299-0248e24ec9de"
      },
      "execution_count": 37,
      "outputs": [
        {
          "output_type": "execute_result",
          "data": {
            "text/plain": [
              "0            1\n",
              "1            2\n",
              "2            3\n",
              "3            4\n",
              "4            5\n",
              "         ...  \n",
              "9737    193581\n",
              "9738    193583\n",
              "9739    193585\n",
              "9740    193587\n",
              "9741    193609\n",
              "Name: movieId, Length: 9742, dtype: int64"
            ]
          },
          "metadata": {},
          "execution_count": 37
        }
      ]
    },
    {
      "cell_type": "code",
      "source": [
        "df1.index = df1.pop('movieId')\n",
        "df1"
      ],
      "metadata": {
        "colab": {
          "base_uri": "https://localhost:8080/",
          "height": 455
        },
        "id": "x85yH3eykEr1",
        "outputId": "a310d508-a9b4-4408-9971-add66b6fae17"
      },
      "execution_count": 38,
      "outputs": [
        {
          "output_type": "execute_result",
          "data": {
            "text/plain": [
              "                                             title  \\\n",
              "movieId                                              \n",
              "1                                 Toy Story (1995)   \n",
              "2                                   Jumanji (1995)   \n",
              "3                          Grumpier Old Men (1995)   \n",
              "4                         Waiting to Exhale (1995)   \n",
              "5               Father of the Bride Part II (1995)   \n",
              "...                                            ...   \n",
              "193581   Black Butler: Book of the Atlantic (2017)   \n",
              "193583                No Game No Life: Zero (2017)   \n",
              "193585                                Flint (2017)   \n",
              "193587         Bungo Stray Dogs: Dead Apple (2018)   \n",
              "193609         Andrew Dice Clay: Dice Rules (1991)   \n",
              "\n",
              "                                              genres  \n",
              "movieId                                               \n",
              "1        Adventure|Animation|Children|Comedy|Fantasy  \n",
              "2                         Adventure|Children|Fantasy  \n",
              "3                                     Comedy|Romance  \n",
              "4                               Comedy|Drama|Romance  \n",
              "5                                             Comedy  \n",
              "...                                              ...  \n",
              "193581               Action|Animation|Comedy|Fantasy  \n",
              "193583                      Animation|Comedy|Fantasy  \n",
              "193585                                         Drama  \n",
              "193587                              Action|Animation  \n",
              "193609                                        Comedy  \n",
              "\n",
              "[9742 rows x 2 columns]"
            ],
            "text/html": [
              "\n",
              "  <div id=\"df-e2b5374f-c936-4519-af9c-d9bd2a13826d\">\n",
              "    <div class=\"colab-df-container\">\n",
              "      <div>\n",
              "<style scoped>\n",
              "    .dataframe tbody tr th:only-of-type {\n",
              "        vertical-align: middle;\n",
              "    }\n",
              "\n",
              "    .dataframe tbody tr th {\n",
              "        vertical-align: top;\n",
              "    }\n",
              "\n",
              "    .dataframe thead th {\n",
              "        text-align: right;\n",
              "    }\n",
              "</style>\n",
              "<table border=\"1\" class=\"dataframe\">\n",
              "  <thead>\n",
              "    <tr style=\"text-align: right;\">\n",
              "      <th></th>\n",
              "      <th>title</th>\n",
              "      <th>genres</th>\n",
              "    </tr>\n",
              "    <tr>\n",
              "      <th>movieId</th>\n",
              "      <th></th>\n",
              "      <th></th>\n",
              "    </tr>\n",
              "  </thead>\n",
              "  <tbody>\n",
              "    <tr>\n",
              "      <th>1</th>\n",
              "      <td>Toy Story (1995)</td>\n",
              "      <td>Adventure|Animation|Children|Comedy|Fantasy</td>\n",
              "    </tr>\n",
              "    <tr>\n",
              "      <th>2</th>\n",
              "      <td>Jumanji (1995)</td>\n",
              "      <td>Adventure|Children|Fantasy</td>\n",
              "    </tr>\n",
              "    <tr>\n",
              "      <th>3</th>\n",
              "      <td>Grumpier Old Men (1995)</td>\n",
              "      <td>Comedy|Romance</td>\n",
              "    </tr>\n",
              "    <tr>\n",
              "      <th>4</th>\n",
              "      <td>Waiting to Exhale (1995)</td>\n",
              "      <td>Comedy|Drama|Romance</td>\n",
              "    </tr>\n",
              "    <tr>\n",
              "      <th>5</th>\n",
              "      <td>Father of the Bride Part II (1995)</td>\n",
              "      <td>Comedy</td>\n",
              "    </tr>\n",
              "    <tr>\n",
              "      <th>...</th>\n",
              "      <td>...</td>\n",
              "      <td>...</td>\n",
              "    </tr>\n",
              "    <tr>\n",
              "      <th>193581</th>\n",
              "      <td>Black Butler: Book of the Atlantic (2017)</td>\n",
              "      <td>Action|Animation|Comedy|Fantasy</td>\n",
              "    </tr>\n",
              "    <tr>\n",
              "      <th>193583</th>\n",
              "      <td>No Game No Life: Zero (2017)</td>\n",
              "      <td>Animation|Comedy|Fantasy</td>\n",
              "    </tr>\n",
              "    <tr>\n",
              "      <th>193585</th>\n",
              "      <td>Flint (2017)</td>\n",
              "      <td>Drama</td>\n",
              "    </tr>\n",
              "    <tr>\n",
              "      <th>193587</th>\n",
              "      <td>Bungo Stray Dogs: Dead Apple (2018)</td>\n",
              "      <td>Action|Animation</td>\n",
              "    </tr>\n",
              "    <tr>\n",
              "      <th>193609</th>\n",
              "      <td>Andrew Dice Clay: Dice Rules (1991)</td>\n",
              "      <td>Comedy</td>\n",
              "    </tr>\n",
              "  </tbody>\n",
              "</table>\n",
              "<p>9742 rows × 2 columns</p>\n",
              "</div>\n",
              "      <button class=\"colab-df-convert\" onclick=\"convertToInteractive('df-e2b5374f-c936-4519-af9c-d9bd2a13826d')\"\n",
              "              title=\"Convert this dataframe to an interactive table.\"\n",
              "              style=\"display:none;\">\n",
              "        \n",
              "  <svg xmlns=\"http://www.w3.org/2000/svg\" height=\"24px\"viewBox=\"0 0 24 24\"\n",
              "       width=\"24px\">\n",
              "    <path d=\"M0 0h24v24H0V0z\" fill=\"none\"/>\n",
              "    <path d=\"M18.56 5.44l.94 2.06.94-2.06 2.06-.94-2.06-.94-.94-2.06-.94 2.06-2.06.94zm-11 1L8.5 8.5l.94-2.06 2.06-.94-2.06-.94L8.5 2.5l-.94 2.06-2.06.94zm10 10l.94 2.06.94-2.06 2.06-.94-2.06-.94-.94-2.06-.94 2.06-2.06.94z\"/><path d=\"M17.41 7.96l-1.37-1.37c-.4-.4-.92-.59-1.43-.59-.52 0-1.04.2-1.43.59L10.3 9.45l-7.72 7.72c-.78.78-.78 2.05 0 2.83L4 21.41c.39.39.9.59 1.41.59.51 0 1.02-.2 1.41-.59l7.78-7.78 2.81-2.81c.8-.78.8-2.07 0-2.86zM5.41 20L4 18.59l7.72-7.72 1.47 1.35L5.41 20z\"/>\n",
              "  </svg>\n",
              "      </button>\n",
              "      \n",
              "  <style>\n",
              "    .colab-df-container {\n",
              "      display:flex;\n",
              "      flex-wrap:wrap;\n",
              "      gap: 12px;\n",
              "    }\n",
              "\n",
              "    .colab-df-convert {\n",
              "      background-color: #E8F0FE;\n",
              "      border: none;\n",
              "      border-radius: 50%;\n",
              "      cursor: pointer;\n",
              "      display: none;\n",
              "      fill: #1967D2;\n",
              "      height: 32px;\n",
              "      padding: 0 0 0 0;\n",
              "      width: 32px;\n",
              "    }\n",
              "\n",
              "    .colab-df-convert:hover {\n",
              "      background-color: #E2EBFA;\n",
              "      box-shadow: 0px 1px 2px rgba(60, 64, 67, 0.3), 0px 1px 3px 1px rgba(60, 64, 67, 0.15);\n",
              "      fill: #174EA6;\n",
              "    }\n",
              "\n",
              "    [theme=dark] .colab-df-convert {\n",
              "      background-color: #3B4455;\n",
              "      fill: #D2E3FC;\n",
              "    }\n",
              "\n",
              "    [theme=dark] .colab-df-convert:hover {\n",
              "      background-color: #434B5C;\n",
              "      box-shadow: 0px 1px 3px 1px rgba(0, 0, 0, 0.15);\n",
              "      filter: drop-shadow(0px 1px 2px rgba(0, 0, 0, 0.3));\n",
              "      fill: #FFFFFF;\n",
              "    }\n",
              "  </style>\n",
              "\n",
              "      <script>\n",
              "        const buttonEl =\n",
              "          document.querySelector('#df-e2b5374f-c936-4519-af9c-d9bd2a13826d button.colab-df-convert');\n",
              "        buttonEl.style.display =\n",
              "          google.colab.kernel.accessAllowed ? 'block' : 'none';\n",
              "\n",
              "        async function convertToInteractive(key) {\n",
              "          const element = document.querySelector('#df-e2b5374f-c936-4519-af9c-d9bd2a13826d');\n",
              "          const dataTable =\n",
              "            await google.colab.kernel.invokeFunction('convertToInteractive',\n",
              "                                                     [key], {});\n",
              "          if (!dataTable) return;\n",
              "\n",
              "          const docLinkHtml = 'Like what you see? Visit the ' +\n",
              "            '<a target=\"_blank\" href=https://colab.research.google.com/notebooks/data_table.ipynb>data table notebook</a>'\n",
              "            + ' to learn more about interactive tables.';\n",
              "          element.innerHTML = '';\n",
              "          dataTable['output_type'] = 'display_data';\n",
              "          await google.colab.output.renderOutput(dataTable, element);\n",
              "          const docLink = document.createElement('div');\n",
              "          docLink.innerHTML = docLinkHtml;\n",
              "          element.appendChild(docLink);\n",
              "        }\n",
              "      </script>\n",
              "    </div>\n",
              "  </div>\n",
              "  "
            ]
          },
          "metadata": {},
          "execution_count": 38
        }
      ]
    },
    {
      "cell_type": "code",
      "source": [
        "# plot\n",
        "plt.figure(figsize = (15,6))\n",
        "plt.plot(movies.index,movies['movieId'],label = 'movieId')\n",
        "plt.plot(movies.index,movies['title'],label = 'title')\n",
        "plt.plot(movies.index,movies['genres'],label = 'genres')\n",
        "plt.legend()\n",
        "plt.title('movies')\n",
        "plt.savefig('/content/drive/MyDrive/MOVIE/piot.png')\n",
        "plt.show()\n"
      ],
      "metadata": {
        "colab": {
          "base_uri": "https://localhost:8080/",
          "height": 427
        },
        "id": "SoPwOT6ykKnd",
        "outputId": "337901eb-f6dd-4ce9-92be-d8cfc8e366dd"
      },
      "execution_count": 39,
      "outputs": [
        {
          "output_type": "stream",
          "name": "stderr",
          "text": [
            "/usr/local/lib/python3.7/dist-packages/matplotlib/backends/backend_agg.py:214: RuntimeWarning: Glyph 146 missing from current font.\n",
            "  font.set_text(s, 0.0, flags=flags)\n",
            "/usr/local/lib/python3.7/dist-packages/matplotlib/backends/backend_agg.py:214: RuntimeWarning: Glyph 150 missing from current font.\n",
            "  font.set_text(s, 0.0, flags=flags)\n",
            "/usr/local/lib/python3.7/dist-packages/matplotlib/backends/backend_agg.py:183: RuntimeWarning: Glyph 146 missing from current font.\n",
            "  font.set_text(s, 0, flags=flags)\n",
            "/usr/local/lib/python3.7/dist-packages/matplotlib/backends/backend_agg.py:183: RuntimeWarning: Glyph 150 missing from current font.\n",
            "  font.set_text(s, 0, flags=flags)\n"
          ]
        },
        {
          "output_type": "display_data",
          "data": {
            "text/plain": [
              "<Figure size 1080x432 with 1 Axes>"
            ],
            "image/png": "[encoded data removed]"
          },
          "metadata": {
            "needs_background": "light"
          }
        }
      ]
    },
    {
      "cell_type": "code",
      "source": [
        "\n",
        "values = df1['title'].to_numpy()"
      ],
      "metadata": {
        "id": "gDQqVXD227j8"
      },
      "execution_count": 40,
      "outputs": []
    },
    {
      "cell_type": "code",
      "source": [
        "def df_to_windowed_df(dataframe,first_date_str,last_date_str,n=3):\n",
        "    \n",
        "    first_movie = str_to_datetime(first_date_str)\n",
        "    last_movie = str_to_datetime(last_date_str)\n",
        "    target = first_date\n",
        "    dates =[]\n",
        "    X = []\n",
        "    Y = []\n",
        "    last_time = False\n",
        "    \n",
        "    while True:\n",
        "        \n",
        "        df_subset = dataframe.loc[:target_date].tail(n+1)\n",
        "        if len(df_subset) != n+1:\n",
        "            return\n",
        "        \n",
        "        values = df_subset['Close'].to_numpy()\n",
        "        x = values[:-1]\n",
        "        y = values[-1] # n-1 is input , y is the last value\n",
        "        dates.append(target_date)\n",
        "        X.append(x)\n",
        "        Y.append(y)\n",
        "        \n",
        "        next_movie = dataframe.loc[target_date:target_date+datetime.timedelta(days = 7)]\n",
        "               \n",
        "        if last_time:\n",
        "            break\n",
        "        \n",
        "        target_movie = next_movie\n",
        "        if target_movie == last_movie:\n",
        "            last_time = True"
      ],
      "metadata": {
        "id": "qOdNAD-L5UAg"
      },
      "execution_count": 41,
      "outputs": []
    },
    {
      "cell_type": "code",
      "source": [
        "def windowed_df_to_date_X_y(windowed_dataframe):\n",
        "    df_as_np = windowed_dataframe.to_numpy()\n",
        "    dates = df_as_np[:,0]\n",
        "    middle_matrix = df_as_np[:,1:-1]\n",
        "    X = np.expand_dims(middle_matrix,-1) # (number_of_sample,seq_len,input_dim)\n",
        "    Y = df_as_np[:,-1] # (number_of_sample,output_dim)\n",
        "    return dates,X.astype(np.float32),Y.astype(np.float32)\n",
        "\n",
        "#dates,X,y = windowed_df_to_date_X_y(windowed_df)\n",
        "\n",
        "#dates.shape,X.shape,y.shape"
      ],
      "metadata": {
        "id": "NxU4Gkf64net"
      },
      "execution_count": 42,
      "outputs": []
    },
    {
      "cell_type": "code",
      "source": [
        "# split train-val-test 80-10-10\n",
        "x = [1]\n",
        "y =[1] \n",
        "q_80 = int(len(movies)*.8)\n",
        "q_90 = int(len(movies)*.9)\n",
        "\n",
        "print(f'iteration at 80 percent: {q_80}, iteration at q90 percent: {q_90}')\n",
        "\n",
        "train,X_train,y_train = movies[:q_80],x[:q_80],y[:q_80]\n",
        "val,X_val,y_val = movies[q_80:q_90],x[q_80:q_90],y[q_80:q_90]\n",
        "test,X_test,y_test = movies[q_90:],x[q_90:],y[q_90:]\n",
        "\n",
        "\n",
        "\n"
      ],
      "metadata": {
        "colab": {
          "base_uri": "https://localhost:8080/"
        },
        "id": "pskaIFnS5bdt",
        "outputId": "e76b9fd9-5c9f-4b0b-f7ae-a2408dac388b"
      },
      "execution_count": 43,
      "outputs": [
        {
          "output_type": "stream",
          "name": "stdout",
          "text": [
            "iteration at 80 percent: 7793, iteration at q90 percent: 8767\n"
          ]
        }
      ]
    },
    {
      "cell_type": "code",
      "source": [
        "from tensorflow.keras.models import Sequential\n",
        "from tensorflow.keras.optimizers import Adam \n",
        "from tensorflow.keras import layers"
      ],
      "metadata": {
        "id": "SibAKM0yAWv4"
      },
      "execution_count": 44,
      "outputs": []
    },
    {
      "cell_type": "code",
      "source": [
        "model = Sequential([layers.Input((5,1)),\n",
        "                    layers.LSTM(64),\n",
        "                    layers.Dense(32,activation = 'relu'),\n",
        "                    layers.Dense(32,activation = 'relu'),\n",
        "                    layers.Dense(1)\n",
        "                   ])\n",
        "\n",
        "model.compile(loss = 'mse',\n",
        "             optimizer = Adam(learning_rate = 1e-3),\n",
        "             metrics = ['mean_absolute_error']\n",
        "             )\n",
        "\n",
        "model.summary()\n"
      ],
      "metadata": {
        "colab": {
          "base_uri": "https://localhost:8080/"
        },
        "id": "kn60MgX9AaeK",
        "outputId": "367d5491-81f1-4d2b-df4a-a2fab3bc0a68"
      },
      "execution_count": 49,
      "outputs": [
        {
          "output_type": "stream",
          "name": "stdout",
          "text": [
            "Model: \"sequential\"\n",
            "_________________________________________________________________\n",
            " Layer (type)                Output Shape              Param #   \n",
            "=================================================================\n",
            " lstm (LSTM)                 (None, 64)                16896     \n",
            "                                                                 \n",
            " dense (Dense)               (None, 32)                2080      \n",
            "                                                                 \n",
            " dense_1 (Dense)             (None, 32)                1056      \n",
            "                                                                 \n",
            " dense_2 (Dense)             (None, 1)                 33        \n",
            "                                                                 \n",
            "=================================================================\n",
            "Total params: 20,065\n",
            "Trainable params: 20,065\n",
            "Non-trainable params: 0\n",
            "_________________________________________________________________\n"
          ]
        }
      ]
    },
    {
      "cell_type": "markdown",
      "metadata": {
        "id": "aw7CkxmNM0ax"
      },
      "source": [
        "# Model evaluation with KNN\n",
        "Here the model is evaluated on based of if there is exact match of genres with the genres of movie which is already watch by user "
      ]
    },
    {
      "cell_type": "code",
      "execution_count": 50,
      "metadata": {
        "id": "uxLfFkBSM0ax"
      },
      "outputs": [],
      "source": [
        "from sklearn.neighbors import KNeighborsClassifier  \n",
        "def get_movie_label(movie_id):\n",
        "    \"\"\"\n",
        "    Get the cluster label to which movie belongs by KNN algorithm.  \n",
        "    :param movie_id: movie id\n",
        "    :return: genres label to movie belong\n",
        "    \"\"\"\n",
        "    classifier = KNeighborsClassifier(n_neighbors=5)\n",
        "    x= tfidf_movies_genres_matrix\n",
        "    y = df_movies.iloc[:,-1]\n",
        "    classifier.fit(x, y)\n",
        "    y_pred = classifier.predict(tfidf_movies_genres_matrix[movie_id])\n",
        "    return y_pred"
      ]
    },
    {
      "cell_type": "code",
      "execution_count": 51,
      "metadata": {
        "colab": {
          "base_uri": "https://localhost:8080/"
        },
        "id": "GC2jRnQsM0az",
        "outputId": "4f3046fa-610f-4bee-967e-7961b635f2dd"
      },
      "outputs": [
        {
          "output_type": "stream",
          "name": "stdout",
          "text": [
            "Hit:0.9325087251077807\n",
            "Fault:0.06749127489221926\n"
          ]
        }
      ],
      "source": [
        "true_count = 0\n",
        "false_count = 0\n",
        "def evaluate_content_based_model():\n",
        "    \"\"\"\n",
        "    Evaluate content based model.  \n",
        "    \"\"\"\n",
        "    for key, colums in df_movies.iterrows():\n",
        "        movies_recommended_by_model = get_recommendations_based_on_genres(colums[\"title\"])\n",
        "        predicted_genres  = get_movie_label(movies_recommended_by_model.index)\n",
        "        for predicted_genre in predicted_genres:\n",
        "            global true_count, false_count\n",
        "            if predicted_genre == colums[\"genres\"]:\n",
        "                true_count = true_count+1\n",
        "            else:\n",
        "#                 print(colums[\"genres\"])\n",
        "#                 print(predicted_genre)\n",
        "                false_count = false_count +1\n",
        "evaluate_content_based_model()\n",
        "total = true_count + false_count\n",
        "print(\"Hit:\"+ str(true_count/total))\n",
        "print(\"Fault:\" + str(false_count/total))"
      ]
    },
    {
      "cell_type": "code",
      "execution_count": 52,
      "metadata": {
        "id": "8LvT4lpBM0a0"
      },
      "outputs": [],
      "source": [
        "from sklearn.metrics import pairwise_distances\n",
        "from scipy.spatial.distance import cosine, correlation"
      ]
    },
    {
      "cell_type": "code",
      "execution_count": 53,
      "metadata": {
        "id": "KEA-3hRgM0a1"
      },
      "outputs": [],
      "source": [
        "df_movies = movies \n",
        "df_ratings = ratings "
      ]
    },
    {
      "cell_type": "markdown",
      "metadata": {
        "id": "Wns7VGaoM0a2"
      },
      "source": [
        "# Collaborative Filtering\n",
        "Types of collaborative filtering techniques\n",
        "* Memory based \n",
        " - User-Item Filtering\n",
        " - Item-Item Filtering\n",
        "* Model based \n",
        " - Matrix Factorization\n",
        " - Clustering\n",
        " - Deep Learning\n",
        " ![alt text](https://cdn-images-1.medium.com/max/1500/1*7uW5hLXztSu_FOmZOWpB6g.png)"
      ]
    },
    {
      "cell_type": "markdown",
      "metadata": {
        "id": "wJmXfXrRM0a3"
      },
      "source": [
        "## Memory Based Approach\n",
        " ![alt text](https://cdn-images-1.medium.com/max/1500/1*QvhetbRjCr1vryTch_2HZQ.jpeg)\n",
        "\n",
        "In either scenario, we builds a similarity matrix. For user-user collaborative filtering, the user-similarity matrix will consist of some distance metrics that measure the similarity between any two pairs of users. Likewise, the item-similarity matrix will measure the similarity between any two pairs of items.\n",
        "\n",
        "There are 3 distance similarity metrics that are usually used in collaborative filtering:\n",
        "\n",
        "- **Jaccard Similarity**\n",
        "- **Cosine Similarity** \n",
        "- **Pearson Similarity** "
      ]
    },
    {
      "cell_type": "markdown",
      "metadata": {
        "id": "oHx-NVHLM0a3"
      },
      "source": [
        "## Item-Item Filtering\n",
        "Item-item collaborative filtering, or item-based, or item-to-item, is a form of collaborative filtering for recommender systems based on the similarity between items calculated using people's ratings of those items.\n",
        "\n",
        "\n",
        "Item-item collaborative filtering was invented and used by Amazon.com\n",
        "![alt text](https://cdn-images-1.medium.com/max/1600/1*skK2fqWiBF7weHU8SjuCzw.png)\n",
        "ITEM-ITEM collaborative filtering look for items that are similar to the articles that user has already rated and recommend most similar articles. But what does that mean when we say item-item similarity? In this case we don’t mean whether two items are the same by attribute like Fountain pen and pilot pen are similar because both are pen. Instead, what similarity means is how people treat two items the same in terms of like and dislike.\n",
        "\n",
        "It is quite similar to previous algorithm, but instead of finding user’s look-alike, we try finding movie’s look-alike. Once we have movie’s look-alike matrix, we can easily recommend alike movies to user who have rated any movie from the dataset. This algorithm is far less resource consuming than user-user collaborative filtering. Hence, for a new user, the algorithm takes far lesser time than user-user collaborate as we don’t need all similarity scores between users. And with fixed number of movies, movie-movie look alike matrix is fixed over time."
      ]
    },
    {
      "cell_type": "markdown",
      "metadata": {
        "id": "bbxu9zlrM0a5"
      },
      "source": [
        "## Implementation of Item-Item Filtering"
      ]
    },
    {
      "cell_type": "code",
      "execution_count": 54,
      "metadata": {
        "id": "0c6KyC5oM0a5"
      },
      "outputs": [],
      "source": [
        "df_movies_ratings=pd.merge(df_movies, df_ratings)"
      ]
    },
    {
      "cell_type": "code",
      "execution_count": 55,
      "metadata": {
        "colab": {
          "base_uri": "https://localhost:8080/",
          "height": 423
        },
        "id": "XFVgKxn4M0a6",
        "outputId": "72d35073-d541-4449-c2db-61394e80cf0f"
      },
      "outputs": [
        {
          "output_type": "execute_result",
          "data": {
            "text/plain": [
              "        movieId                                      title  \\\n",
              "0             1                           Toy Story (1995)   \n",
              "1             1                           Toy Story (1995)   \n",
              "2             1                           Toy Story (1995)   \n",
              "3             1                           Toy Story (1995)   \n",
              "4             1                           Toy Story (1995)   \n",
              "...         ...                                        ...   \n",
              "100831   193581  Black Butler: Book of the Atlantic (2017)   \n",
              "100832   193583               No Game No Life: Zero (2017)   \n",
              "100833   193585                               Flint (2017)   \n",
              "100834   193587        Bungo Stray Dogs: Dead Apple (2018)   \n",
              "100835   193609        Andrew Dice Clay: Dice Rules (1991)   \n",
              "\n",
              "                                             genres  userId  rating  \\\n",
              "0       Adventure|Animation|Children|Comedy|Fantasy       1     4.0   \n",
              "1       Adventure|Animation|Children|Comedy|Fantasy       5     4.0   \n",
              "2       Adventure|Animation|Children|Comedy|Fantasy       7     4.5   \n",
              "3       Adventure|Animation|Children|Comedy|Fantasy      15     2.5   \n",
              "4       Adventure|Animation|Children|Comedy|Fantasy      17     4.5   \n",
              "...                                             ...     ...     ...   \n",
              "100831              Action|Animation|Comedy|Fantasy     184     4.0   \n",
              "100832                     Animation|Comedy|Fantasy     184     3.5   \n",
              "100833                                        Drama     184     3.5   \n",
              "100834                             Action|Animation     184     3.5   \n",
              "100835                                       Comedy     331     4.0   \n",
              "\n",
              "         timestamp  \n",
              "0        964982703  \n",
              "1        847434962  \n",
              "2       1106635946  \n",
              "3       1510577970  \n",
              "4       1305696483  \n",
              "...            ...  \n",
              "100831  1537109082  \n",
              "100832  1537109545  \n",
              "100833  1537109805  \n",
              "100834  1537110021  \n",
              "100835  1537157606  \n",
              "\n",
              "[100836 rows x 6 columns]"
            ],
            "text/html": [
              "\n",
              "  <div id=\"df-b7102614-2c01-4e63-8144-8ed9957904c7\">\n",
              "    <div class=\"colab-df-container\">\n",
              "      <div>\n",
              "<style scoped>\n",
              "    .dataframe tbody tr th:only-of-type {\n",
              "        vertical-align: middle;\n",
              "    }\n",
              "\n",
              "    .dataframe tbody tr th {\n",
              "        vertical-align: top;\n",
              "    }\n",
              "\n",
              "    .dataframe thead th {\n",
              "        text-align: right;\n",
              "    }\n",
              "</style>\n",
              "<table border=\"1\" class=\"dataframe\">\n",
              "  <thead>\n",
              "    <tr style=\"text-align: right;\">\n",
              "      <th></th>\n",
              "      <th>movieId</th>\n",
              "      <th>title</th>\n",
              "      <th>genres</th>\n",
              "      <th>userId</th>\n",
              "      <th>rating</th>\n",
              "      <th>timestamp</th>\n",
              "    </tr>\n",
              "  </thead>\n",
              "  <tbody>\n",
              "    <tr>\n",
              "      <th>0</th>\n",
              "      <td>1</td>\n",
              "      <td>Toy Story (1995)</td>\n",
              "      <td>Adventure|Animation|Children|Comedy|Fantasy</td>\n",
              "      <td>1</td>\n",
              "      <td>4.0</td>\n",
              "      <td>964982703</td>\n",
              "    </tr>\n",
              "    <tr>\n",
              "      <th>1</th>\n",
              "      <td>1</td>\n",
              "      <td>Toy Story (1995)</td>\n",
              "      <td>Adventure|Animation|Children|Comedy|Fantasy</td>\n",
              "      <td>5</td>\n",
              "      <td>4.0</td>\n",
              "      <td>847434962</td>\n",
              "    </tr>\n",
              "    <tr>\n",
              "      <th>2</th>\n",
              "      <td>1</td>\n",
              "      <td>Toy Story (1995)</td>\n",
              "      <td>Adventure|Animation|Children|Comedy|Fantasy</td>\n",
              "      <td>7</td>\n",
              "      <td>4.5</td>\n",
              "      <td>1106635946</td>\n",
              "    </tr>\n",
              "    <tr>\n",
              "      <th>3</th>\n",
              "      <td>1</td>\n",
              "      <td>Toy Story (1995)</td>\n",
              "      <td>Adventure|Animation|Children|Comedy|Fantasy</td>\n",
              "      <td>15</td>\n",
              "      <td>2.5</td>\n",
              "      <td>1510577970</td>\n",
              "    </tr>\n",
              "    <tr>\n",
              "      <th>4</th>\n",
              "      <td>1</td>\n",
              "      <td>Toy Story (1995)</td>\n",
              "      <td>Adventure|Animation|Children|Comedy|Fantasy</td>\n",
              "      <td>17</td>\n",
              "      <td>4.5</td>\n",
              "      <td>1305696483</td>\n",
              "    </tr>\n",
              "    <tr>\n",
              "      <th>...</th>\n",
              "      <td>...</td>\n",
              "      <td>...</td>\n",
              "      <td>...</td>\n",
              "      <td>...</td>\n",
              "      <td>...</td>\n",
              "      <td>...</td>\n",
              "    </tr>\n",
              "    <tr>\n",
              "      <th>100831</th>\n",
              "      <td>193581</td>\n",
              "      <td>Black Butler: Book of the Atlantic (2017)</td>\n",
              "      <td>Action|Animation|Comedy|Fantasy</td>\n",
              "      <td>184</td>\n",
              "      <td>4.0</td>\n",
              "      <td>1537109082</td>\n",
              "    </tr>\n",
              "    <tr>\n",
              "      <th>100832</th>\n",
              "      <td>193583</td>\n",
              "      <td>No Game No Life: Zero (2017)</td>\n",
              "      <td>Animation|Comedy|Fantasy</td>\n",
              "      <td>184</td>\n",
              "      <td>3.5</td>\n",
              "      <td>1537109545</td>\n",
              "    </tr>\n",
              "    <tr>\n",
              "      <th>100833</th>\n",
              "      <td>193585</td>\n",
              "      <td>Flint (2017)</td>\n",
              "      <td>Drama</td>\n",
              "      <td>184</td>\n",
              "      <td>3.5</td>\n",
              "      <td>1537109805</td>\n",
              "    </tr>\n",
              "    <tr>\n",
              "      <th>100834</th>\n",
              "      <td>193587</td>\n",
              "      <td>Bungo Stray Dogs: Dead Apple (2018)</td>\n",
              "      <td>Action|Animation</td>\n",
              "      <td>184</td>\n",
              "      <td>3.5</td>\n",
              "      <td>1537110021</td>\n",
              "    </tr>\n",
              "    <tr>\n",
              "      <th>100835</th>\n",
              "      <td>193609</td>\n",
              "      <td>Andrew Dice Clay: Dice Rules (1991)</td>\n",
              "      <td>Comedy</td>\n",
              "      <td>331</td>\n",
              "      <td>4.0</td>\n",
              "      <td>1537157606</td>\n",
              "    </tr>\n",
              "  </tbody>\n",
              "</table>\n",
              "<p>100836 rows × 6 columns</p>\n",
              "</div>\n",
              "      <button class=\"colab-df-convert\" onclick=\"convertToInteractive('df-b7102614-2c01-4e63-8144-8ed9957904c7')\"\n",
              "              title=\"Convert this dataframe to an interactive table.\"\n",
              "              style=\"display:none;\">\n",
              "        \n",
              "  <svg xmlns=\"http://www.w3.org/2000/svg\" height=\"24px\"viewBox=\"0 0 24 24\"\n",
              "       width=\"24px\">\n",
              "    <path d=\"M0 0h24v24H0V0z\" fill=\"none\"/>\n",
              "    <path d=\"M18.56 5.44l.94 2.06.94-2.06 2.06-.94-2.06-.94-.94-2.06-.94 2.06-2.06.94zm-11 1L8.5 8.5l.94-2.06 2.06-.94-2.06-.94L8.5 2.5l-.94 2.06-2.06.94zm10 10l.94 2.06.94-2.06 2.06-.94-2.06-.94-.94-2.06-.94 2.06-2.06.94z\"/><path d=\"M17.41 7.96l-1.37-1.37c-.4-.4-.92-.59-1.43-.59-.52 0-1.04.2-1.43.59L10.3 9.45l-7.72 7.72c-.78.78-.78 2.05 0 2.83L4 21.41c.39.39.9.59 1.41.59.51 0 1.02-.2 1.41-.59l7.78-7.78 2.81-2.81c.8-.78.8-2.07 0-2.86zM5.41 20L4 18.59l7.72-7.72 1.47 1.35L5.41 20z\"/>\n",
              "  </svg>\n",
              "      </button>\n",
              "      \n",
              "  <style>\n",
              "    .colab-df-container {\n",
              "      display:flex;\n",
              "      flex-wrap:wrap;\n",
              "      gap: 12px;\n",
              "    }\n",
              "\n",
              "    .colab-df-convert {\n",
              "      background-color: #E8F0FE;\n",
              "      border: none;\n",
              "      border-radius: 50%;\n",
              "      cursor: pointer;\n",
              "      display: none;\n",
              "      fill: #1967D2;\n",
              "      height: 32px;\n",
              "      padding: 0 0 0 0;\n",
              "      width: 32px;\n",
              "    }\n",
              "\n",
              "    .colab-df-convert:hover {\n",
              "      background-color: #E2EBFA;\n",
              "      box-shadow: 0px 1px 2px rgba(60, 64, 67, 0.3), 0px 1px 3px 1px rgba(60, 64, 67, 0.15);\n",
              "      fill: #174EA6;\n",
              "    }\n",
              "\n",
              "    [theme=dark] .colab-df-convert {\n",
              "      background-color: #3B4455;\n",
              "      fill: #D2E3FC;\n",
              "    }\n",
              "\n",
              "    [theme=dark] .colab-df-convert:hover {\n",
              "      background-color: #434B5C;\n",
              "      box-shadow: 0px 1px 3px 1px rgba(0, 0, 0, 0.15);\n",
              "      filter: drop-shadow(0px 1px 2px rgba(0, 0, 0, 0.3));\n",
              "      fill: #FFFFFF;\n",
              "    }\n",
              "  </style>\n",
              "\n",
              "      <script>\n",
              "        const buttonEl =\n",
              "          document.querySelector('#df-b7102614-2c01-4e63-8144-8ed9957904c7 button.colab-df-convert');\n",
              "        buttonEl.style.display =\n",
              "          google.colab.kernel.accessAllowed ? 'block' : 'none';\n",
              "\n",
              "        async function convertToInteractive(key) {\n",
              "          const element = document.querySelector('#df-b7102614-2c01-4e63-8144-8ed9957904c7');\n",
              "          const dataTable =\n",
              "            await google.colab.kernel.invokeFunction('convertToInteractive',\n",
              "                                                     [key], {});\n",
              "          if (!dataTable) return;\n",
              "\n",
              "          const docLinkHtml = 'Like what you see? Visit the ' +\n",
              "            '<a target=\"_blank\" href=https://colab.research.google.com/notebooks/data_table.ipynb>data table notebook</a>'\n",
              "            + ' to learn more about interactive tables.';\n",
              "          element.innerHTML = '';\n",
              "          dataTable['output_type'] = 'display_data';\n",
              "          await google.colab.output.renderOutput(dataTable, element);\n",
              "          const docLink = document.createElement('div');\n",
              "          docLink.innerHTML = docLinkHtml;\n",
              "          element.appendChild(docLink);\n",
              "        }\n",
              "      </script>\n",
              "    </div>\n",
              "  </div>\n",
              "  "
            ]
          },
          "metadata": {},
          "execution_count": 55
        }
      ],
      "source": [
        "df_movies_ratings"
      ]
    },
    {
      "cell_type": "markdown",
      "metadata": {
        "id": "pfVjDJ-CM0a7"
      },
      "source": [
        "Here Pivot table function is used as we want one to one maping between movies, user and their rating. \n",
        "So by default pivot_table command takes average if we have multiple values of one combination."
      ]
    },
    {
      "cell_type": "code",
      "execution_count": 56,
      "metadata": {
        "colab": {
          "base_uri": "https://localhost:8080/"
        },
        "id": "VfP_UOthM0a8",
        "outputId": "d7df06ca-e064-455d-d41b-8775ae19c1bb"
      },
      "outputs": [
        {
          "output_type": "execute_result",
          "data": {
            "text/plain": [
              "(9724, 610)"
            ]
          },
          "metadata": {},
          "execution_count": 56
        }
      ],
      "source": [
        "ratings_matrix_items = df_movies_ratings.pivot_table(index=['movieId'],columns=['userId'],values='rating').reset_index(drop=True)\n",
        "ratings_matrix_items.fillna( 0, inplace = True )\n",
        "ratings_matrix_items.shape"
      ]
    },
    {
      "cell_type": "code",
      "execution_count": 57,
      "metadata": {
        "colab": {
          "base_uri": "https://localhost:8080/",
          "height": 423
        },
        "id": "-QciLmihM0a8",
        "outputId": "376f9a33-28d0-409c-fc94-16ebfd6682c3"
      },
      "outputs": [
        {
          "output_type": "execute_result",
          "data": {
            "text/plain": [
              "userId  1    2    3    4    5    6    7    8    9    10   ...  601  602  603  \\\n",
              "0       4.0  0.0  0.0  0.0  4.0  0.0  4.5  0.0  0.0  0.0  ...  4.0  0.0  4.0   \n",
              "1       0.0  0.0  0.0  0.0  0.0  4.0  0.0  4.0  0.0  0.0  ...  0.0  4.0  0.0   \n",
              "2       4.0  0.0  0.0  0.0  0.0  5.0  0.0  0.0  0.0  0.0  ...  0.0  0.0  0.0   \n",
              "3       0.0  0.0  0.0  0.0  0.0  3.0  0.0  0.0  0.0  0.0  ...  0.0  0.0  0.0   \n",
              "4       0.0  0.0  0.0  0.0  0.0  5.0  0.0  0.0  0.0  0.0  ...  0.0  0.0  0.0   \n",
              "...     ...  ...  ...  ...  ...  ...  ...  ...  ...  ...  ...  ...  ...  ...   \n",
              "9719    0.0  0.0  0.0  0.0  0.0  0.0  0.0  0.0  0.0  0.0  ...  0.0  0.0  0.0   \n",
              "9720    0.0  0.0  0.0  0.0  0.0  0.0  0.0  0.0  0.0  0.0  ...  0.0  0.0  0.0   \n",
              "9721    0.0  0.0  0.0  0.0  0.0  0.0  0.0  0.0  0.0  0.0  ...  0.0  0.0  0.0   \n",
              "9722    0.0  0.0  0.0  0.0  0.0  0.0  0.0  0.0  0.0  0.0  ...  0.0  0.0  0.0   \n",
              "9723    0.0  0.0  0.0  0.0  0.0  0.0  0.0  0.0  0.0  0.0  ...  0.0  0.0  0.0   \n",
              "\n",
              "userId  604  605  606  607  608  609  610  \n",
              "0       3.0  4.0  2.5  4.0  2.5  3.0  5.0  \n",
              "1       5.0  3.5  0.0  0.0  2.0  0.0  0.0  \n",
              "2       0.0  0.0  0.0  0.0  2.0  0.0  0.0  \n",
              "3       0.0  0.0  0.0  0.0  0.0  0.0  0.0  \n",
              "4       3.0  0.0  0.0  0.0  0.0  0.0  0.0  \n",
              "...     ...  ...  ...  ...  ...  ...  ...  \n",
              "9719    0.0  0.0  0.0  0.0  0.0  0.0  0.0  \n",
              "9720    0.0  0.0  0.0  0.0  0.0  0.0  0.0  \n",
              "9721    0.0  0.0  0.0  0.0  0.0  0.0  0.0  \n",
              "9722    0.0  0.0  0.0  0.0  0.0  0.0  0.0  \n",
              "9723    0.0  0.0  0.0  0.0  0.0  0.0  0.0  \n",
              "\n",
              "[9724 rows x 610 columns]"
            ],
            "text/html": [
              "\n",
              "  <div id=\"df-8b195456-c143-4b62-b402-288a8378263c\">\n",
              "    <div class=\"colab-df-container\">\n",
              "      <div>\n",
              "<style scoped>\n",
              "    .dataframe tbody tr th:only-of-type {\n",
              "        vertical-align: middle;\n",
              "    }\n",
              "\n",
              "    .dataframe tbody tr th {\n",
              "        vertical-align: top;\n",
              "    }\n",
              "\n",
              "    .dataframe thead th {\n",
              "        text-align: right;\n",
              "    }\n",
              "</style>\n",
              "<table border=\"1\" class=\"dataframe\">\n",
              "  <thead>\n",
              "    <tr style=\"text-align: right;\">\n",
              "      <th>userId</th>\n",
              "      <th>1</th>\n",
              "      <th>2</th>\n",
              "      <th>3</th>\n",
              "      <th>4</th>\n",
              "      <th>5</th>\n",
              "      <th>6</th>\n",
              "      <th>7</th>\n",
              "      <th>8</th>\n",
              "      <th>9</th>\n",
              "      <th>10</th>\n",
              "      <th>...</th>\n",
              "      <th>601</th>\n",
              "      <th>602</th>\n",
              "      <th>603</th>\n",
              "      <th>604</th>\n",
              "      <th>605</th>\n",
              "      <th>606</th>\n",
              "      <th>607</th>\n",
              "      <th>608</th>\n",
              "      <th>609</th>\n",
              "      <th>610</th>\n",
              "    </tr>\n",
              "  </thead>\n",
              "  <tbody>\n",
              "    <tr>\n",
              "      <th>0</th>\n",
              "      <td>4.0</td>\n",
              "      <td>0.0</td>\n",
              "      <td>0.0</td>\n",
              "      <td>0.0</td>\n",
              "      <td>4.0</td>\n",
              "      <td>0.0</td>\n",
              "      <td>4.5</td>\n",
              "      <td>0.0</td>\n",
              "      <td>0.0</td>\n",
              "      <td>0.0</td>\n",
              "      <td>...</td>\n",
              "      <td>4.0</td>\n",
              "      <td>0.0</td>\n",
              "      <td>4.0</td>\n",
              "      <td>3.0</td>\n",
              "      <td>4.0</td>\n",
              "      <td>2.5</td>\n",
              "      <td>4.0</td>\n",
              "      <td>2.5</td>\n",
              "      <td>3.0</td>\n",
              "      <td>5.0</td>\n",
              "    </tr>\n",
              "    <tr>\n",
              "      <th>1</th>\n",
              "      <td>0.0</td>\n",
              "      <td>0.0</td>\n",
              "      <td>0.0</td>\n",
              "      <td>0.0</td>\n",
              "      <td>0.0</td>\n",
              "      <td>4.0</td>\n",
              "      <td>0.0</td>\n",
              "      <td>4.0</td>\n",
              "      <td>0.0</td>\n",
              "      <td>0.0</td>\n",
              "      <td>...</td>\n",
              "      <td>0.0</td>\n",
              "      <td>4.0</td>\n",
              "      <td>0.0</td>\n",
              "      <td>5.0</td>\n",
              "      <td>3.5</td>\n",
              "      <td>0.0</td>\n",
              "      <td>0.0</td>\n",
              "      <td>2.0</td>\n",
              "      <td>0.0</td>\n",
              "      <td>0.0</td>\n",
              "    </tr>\n",
              "    <tr>\n",
              "      <th>2</th>\n",
              "      <td>4.0</td>\n",
              "      <td>0.0</td>\n",
              "      <td>0.0</td>\n",
              "      <td>0.0</td>\n",
              "      <td>0.0</td>\n",
              "      <td>5.0</td>\n",
              "      <td>0.0</td>\n",
              "      <td>0.0</td>\n",
              "      <td>0.0</td>\n",
              "      <td>0.0</td>\n",
              "      <td>...</td>\n",
              "      <td>0.0</td>\n",
              "      <td>0.0</td>\n",
              "      <td>0.0</td>\n",
              "      <td>0.0</td>\n",
              "      <td>0.0</td>\n",
              "      <td>0.0</td>\n",
              "      <td>0.0</td>\n",
              "      <td>2.0</td>\n",
              "      <td>0.0</td>\n",
              "      <td>0.0</td>\n",
              "    </tr>\n",
              "    <tr>\n",
              "      <th>3</th>\n",
              "      <td>0.0</td>\n",
              "      <td>0.0</td>\n",
              "      <td>0.0</td>\n",
              "      <td>0.0</td>\n",
              "      <td>0.0</td>\n",
              "      <td>3.0</td>\n",
              "      <td>0.0</td>\n",
              "      <td>0.0</td>\n",
              "      <td>0.0</td>\n",
              "      <td>0.0</td>\n",
              "      <td>...</td>\n",
              "      <td>0.0</td>\n",
              "      <td>0.0</td>\n",
              "      <td>0.0</td>\n",
              "      <td>0.0</td>\n",
              "      <td>0.0</td>\n",
              "      <td>0.0</td>\n",
              "      <td>0.0</td>\n",
              "      <td>0.0</td>\n",
              "      <td>0.0</td>\n",
              "      <td>0.0</td>\n",
              "    </tr>\n",
              "    <tr>\n",
              "      <th>4</th>\n",
              "      <td>0.0</td>\n",
              "      <td>0.0</td>\n",
              "      <td>0.0</td>\n",
              "      <td>0.0</td>\n",
              "      <td>0.0</td>\n",
              "      <td>5.0</td>\n",
              "      <td>0.0</td>\n",
              "      <td>0.0</td>\n",
              "      <td>0.0</td>\n",
              "      <td>0.0</td>\n",
              "      <td>...</td>\n",
              "      <td>0.0</td>\n",
              "      <td>0.0</td>\n",
              "      <td>0.0</td>\n",
              "      <td>3.0</td>\n",
              "      <td>0.0</td>\n",
              "      <td>0.0</td>\n",
              "      <td>0.0</td>\n",
              "      <td>0.0</td>\n",
              "      <td>0.0</td>\n",
              "      <td>0.0</td>\n",
              "    </tr>\n",
              "    <tr>\n",
              "      <th>...</th>\n",
              "      <td>...</td>\n",
              "      <td>...</td>\n",
              "      <td>...</td>\n",
              "      <td>...</td>\n",
              "      <td>...</td>\n",
              "      <td>...</td>\n",
              "      <td>...</td>\n",
              "      <td>...</td>\n",
              "      <td>...</td>\n",
              "      <td>...</td>\n",
              "      <td>...</td>\n",
              "      <td>...</td>\n",
              "      <td>...</td>\n",
              "      <td>...</td>\n",
              "      <td>...</td>\n",
              "      <td>...</td>\n",
              "      <td>...</td>\n",
              "      <td>...</td>\n",
              "      <td>...</td>\n",
              "      <td>...</td>\n",
              "      <td>...</td>\n",
              "    </tr>\n",
              "    <tr>\n",
              "      <th>9719</th>\n",
              "      <td>0.0</td>\n",
              "      <td>0.0</td>\n",
              "      <td>0.0</td>\n",
              "      <td>0.0</td>\n",
              "      <td>0.0</td>\n",
              "      <td>0.0</td>\n",
              "      <td>0.0</td>\n",
              "      <td>0.0</td>\n",
              "      <td>0.0</td>\n",
              "      <td>0.0</td>\n",
              "      <td>...</td>\n",
              "      <td>0.0</td>\n",
              "      <td>0.0</td>\n",
              "      <td>0.0</td>\n",
              "      <td>0.0</td>\n",
              "      <td>0.0</td>\n",
              "      <td>0.0</td>\n",
              "      <td>0.0</td>\n",
              "      <td>0.0</td>\n",
              "      <td>0.0</td>\n",
              "      <td>0.0</td>\n",
              "    </tr>\n",
              "    <tr>\n",
              "      <th>9720</th>\n",
              "      <td>0.0</td>\n",
              "      <td>0.0</td>\n",
              "      <td>0.0</td>\n",
              "      <td>0.0</td>\n",
              "      <td>0.0</td>\n",
              "      <td>0.0</td>\n",
              "      <td>0.0</td>\n",
              "      <td>0.0</td>\n",
              "      <td>0.0</td>\n",
              "      <td>0.0</td>\n",
              "      <td>...</td>\n",
              "      <td>0.0</td>\n",
              "      <td>0.0</td>\n",
              "      <td>0.0</td>\n",
              "      <td>0.0</td>\n",
              "      <td>0.0</td>\n",
              "      <td>0.0</td>\n",
              "      <td>0.0</td>\n",
              "      <td>0.0</td>\n",
              "      <td>0.0</td>\n",
              "      <td>0.0</td>\n",
              "    </tr>\n",
              "    <tr>\n",
              "      <th>9721</th>\n",
              "      <td>0.0</td>\n",
              "      <td>0.0</td>\n",
              "      <td>0.0</td>\n",
              "      <td>0.0</td>\n",
              "      <td>0.0</td>\n",
              "      <td>0.0</td>\n",
              "      <td>0.0</td>\n",
              "      <td>0.0</td>\n",
              "      <td>0.0</td>\n",
              "      <td>0.0</td>\n",
              "      <td>...</td>\n",
              "      <td>0.0</td>\n",
              "      <td>0.0</td>\n",
              "      <td>0.0</td>\n",
              "      <td>0.0</td>\n",
              "      <td>0.0</td>\n",
              "      <td>0.0</td>\n",
              "      <td>0.0</td>\n",
              "      <td>0.0</td>\n",
              "      <td>0.0</td>\n",
              "      <td>0.0</td>\n",
              "    </tr>\n",
              "    <tr>\n",
              "      <th>9722</th>\n",
              "      <td>0.0</td>\n",
              "      <td>0.0</td>\n",
              "      <td>0.0</td>\n",
              "      <td>0.0</td>\n",
              "      <td>0.0</td>\n",
              "      <td>0.0</td>\n",
              "      <td>0.0</td>\n",
              "      <td>0.0</td>\n",
              "      <td>0.0</td>\n",
              "      <td>0.0</td>\n",
              "      <td>...</td>\n",
              "      <td>0.0</td>\n",
              "      <td>0.0</td>\n",
              "      <td>0.0</td>\n",
              "      <td>0.0</td>\n",
              "      <td>0.0</td>\n",
              "      <td>0.0</td>\n",
              "      <td>0.0</td>\n",
              "      <td>0.0</td>\n",
              "      <td>0.0</td>\n",
              "      <td>0.0</td>\n",
              "    </tr>\n",
              "    <tr>\n",
              "      <th>9723</th>\n",
              "      <td>0.0</td>\n",
              "      <td>0.0</td>\n",
              "      <td>0.0</td>\n",
              "      <td>0.0</td>\n",
              "      <td>0.0</td>\n",
              "      <td>0.0</td>\n",
              "      <td>0.0</td>\n",
              "      <td>0.0</td>\n",
              "      <td>0.0</td>\n",
              "      <td>0.0</td>\n",
              "      <td>...</td>\n",
              "      <td>0.0</td>\n",
              "      <td>0.0</td>\n",
              "      <td>0.0</td>\n",
              "      <td>0.0</td>\n",
              "      <td>0.0</td>\n",
              "      <td>0.0</td>\n",
              "      <td>0.0</td>\n",
              "      <td>0.0</td>\n",
              "      <td>0.0</td>\n",
              "      <td>0.0</td>\n",
              "    </tr>\n",
              "  </tbody>\n",
              "</table>\n",
              "<p>9724 rows × 610 columns</p>\n",
              "</div>\n",
              "      <button class=\"colab-df-convert\" onclick=\"convertToInteractive('df-8b195456-c143-4b62-b402-288a8378263c')\"\n",
              "              title=\"Convert this dataframe to an interactive table.\"\n",
              "              style=\"display:none;\">\n",
              "        \n",
              "  <svg xmlns=\"http://www.w3.org/2000/svg\" height=\"24px\"viewBox=\"0 0 24 24\"\n",
              "       width=\"24px\">\n",
              "    <path d=\"M0 0h24v24H0V0z\" fill=\"none\"/>\n",
              "    <path d=\"M18.56 5.44l.94 2.06.94-2.06 2.06-.94-2.06-.94-.94-2.06-.94 2.06-2.06.94zm-11 1L8.5 8.5l.94-2.06 2.06-.94-2.06-.94L8.5 2.5l-.94 2.06-2.06.94zm10 10l.94 2.06.94-2.06 2.06-.94-2.06-.94-.94-2.06-.94 2.06-2.06.94z\"/><path d=\"M17.41 7.96l-1.37-1.37c-.4-.4-.92-.59-1.43-.59-.52 0-1.04.2-1.43.59L10.3 9.45l-7.72 7.72c-.78.78-.78 2.05 0 2.83L4 21.41c.39.39.9.59 1.41.59.51 0 1.02-.2 1.41-.59l7.78-7.78 2.81-2.81c.8-.78.8-2.07 0-2.86zM5.41 20L4 18.59l7.72-7.72 1.47 1.35L5.41 20z\"/>\n",
              "  </svg>\n",
              "      </button>\n",
              "      \n",
              "  <style>\n",
              "    .colab-df-container {\n",
              "      display:flex;\n",
              "      flex-wrap:wrap;\n",
              "      gap: 12px;\n",
              "    }\n",
              "\n",
              "    .colab-df-convert {\n",
              "      background-color: #E8F0FE;\n",
              "      border: none;\n",
              "      border-radius: 50%;\n",
              "      cursor: pointer;\n",
              "      display: none;\n",
              "      fill: #1967D2;\n",
              "      height: 32px;\n",
              "      padding: 0 0 0 0;\n",
              "      width: 32px;\n",
              "    }\n",
              "\n",
              "    .colab-df-convert:hover {\n",
              "      background-color: #E2EBFA;\n",
              "      box-shadow: 0px 1px 2px rgba(60, 64, 67, 0.3), 0px 1px 3px 1px rgba(60, 64, 67, 0.15);\n",
              "      fill: #174EA6;\n",
              "    }\n",
              "\n",
              "    [theme=dark] .colab-df-convert {\n",
              "      background-color: #3B4455;\n",
              "      fill: #D2E3FC;\n",
              "    }\n",
              "\n",
              "    [theme=dark] .colab-df-convert:hover {\n",
              "      background-color: #434B5C;\n",
              "      box-shadow: 0px 1px 3px 1px rgba(0, 0, 0, 0.15);\n",
              "      filter: drop-shadow(0px 1px 2px rgba(0, 0, 0, 0.3));\n",
              "      fill: #FFFFFF;\n",
              "    }\n",
              "  </style>\n",
              "\n",
              "      <script>\n",
              "        const buttonEl =\n",
              "          document.querySelector('#df-8b195456-c143-4b62-b402-288a8378263c button.colab-df-convert');\n",
              "        buttonEl.style.display =\n",
              "          google.colab.kernel.accessAllowed ? 'block' : 'none';\n",
              "\n",
              "        async function convertToInteractive(key) {\n",
              "          const element = document.querySelector('#df-8b195456-c143-4b62-b402-288a8378263c');\n",
              "          const dataTable =\n",
              "            await google.colab.kernel.invokeFunction('convertToInteractive',\n",
              "                                                     [key], {});\n",
              "          if (!dataTable) return;\n",
              "\n",
              "          const docLinkHtml = 'Like what you see? Visit the ' +\n",
              "            '<a target=\"_blank\" href=https://colab.research.google.com/notebooks/data_table.ipynb>data table notebook</a>'\n",
              "            + ' to learn more about interactive tables.';\n",
              "          element.innerHTML = '';\n",
              "          dataTable['output_type'] = 'display_data';\n",
              "          await google.colab.output.renderOutput(dataTable, element);\n",
              "          const docLink = document.createElement('div');\n",
              "          docLink.innerHTML = docLinkHtml;\n",
              "          element.appendChild(docLink);\n",
              "        }\n",
              "      </script>\n",
              "    </div>\n",
              "  </div>\n",
              "  "
            ]
          },
          "metadata": {},
          "execution_count": 57
        }
      ],
      "source": [
        "ratings_matrix_items"
      ]
    },
    {
      "cell_type": "code",
      "execution_count": 58,
      "metadata": {
        "colab": {
          "base_uri": "https://localhost:8080/",
          "height": 487
        },
        "id": "80LMSwIZM0a9",
        "outputId": "f4e4066b-36fb-407f-aa0b-0545584063dc"
      },
      "outputs": [
        {
          "output_type": "execute_result",
          "data": {
            "text/plain": [
              "          0         1         2         3         4         5         6     \\\n",
              "0     0.000000  0.410562  0.296917  0.035573  0.308762  0.376316  0.277491   \n",
              "1     0.410562  0.000000  0.282438  0.106415  0.287795  0.297009  0.228576   \n",
              "2     0.296917  0.282438  0.000000  0.092406  0.417802  0.284257  0.402831   \n",
              "3     0.035573  0.106415  0.092406  0.000000  0.188376  0.089685  0.275035   \n",
              "4     0.308762  0.287795  0.417802  0.188376  0.000000  0.298969  0.474002   \n",
              "...        ...       ...       ...       ...       ...       ...       ...   \n",
              "9719  0.000000  0.000000  0.000000  0.000000  0.000000  0.000000  0.000000   \n",
              "9720  0.000000  0.000000  0.000000  0.000000  0.000000  0.000000  0.000000   \n",
              "9721  0.000000  0.000000  0.000000  0.000000  0.000000  0.000000  0.000000   \n",
              "9722  0.000000  0.000000  0.000000  0.000000  0.000000  0.000000  0.000000   \n",
              "9723  0.000000  0.000000  0.000000  0.000000  0.000000  0.000000  0.000000   \n",
              "\n",
              "          7         8         9     ...  9714  9715  9716  9717  9718  9719  \\\n",
              "0     0.131629  0.232586  0.395573  ...   0.0   0.0   0.0   0.0   0.0   0.0   \n",
              "1     0.172498  0.044835  0.417693  ...   0.0   0.0   0.0   0.0   0.0   0.0   \n",
              "2     0.313434  0.304840  0.242954  ...   0.0   0.0   0.0   0.0   0.0   0.0   \n",
              "3     0.158022  0.000000  0.095598  ...   0.0   0.0   0.0   0.0   0.0   0.0   \n",
              "4     0.283523  0.335058  0.218061  ...   0.0   0.0   0.0   0.0   0.0   0.0   \n",
              "...        ...       ...       ...  ...   ...   ...   ...   ...   ...   ...   \n",
              "9719  0.000000  0.000000  0.000000  ...   1.0   1.0   1.0   1.0   1.0   0.0   \n",
              "9720  0.000000  0.000000  0.000000  ...   1.0   1.0   1.0   1.0   1.0   1.0   \n",
              "9721  0.000000  0.000000  0.000000  ...   1.0   1.0   1.0   1.0   1.0   1.0   \n",
              "9722  0.000000  0.000000  0.000000  ...   1.0   1.0   1.0   1.0   1.0   1.0   \n",
              "9723  0.000000  0.000000  0.072542  ...   0.0   0.0   0.0   0.0   0.0   0.0   \n",
              "\n",
              "      9720  9721  9722  9723  \n",
              "0      0.0   0.0   0.0   0.0  \n",
              "1      0.0   0.0   0.0   0.0  \n",
              "2      0.0   0.0   0.0   0.0  \n",
              "3      0.0   0.0   0.0   0.0  \n",
              "4      0.0   0.0   0.0   0.0  \n",
              "...    ...   ...   ...   ...  \n",
              "9719   1.0   1.0   1.0   0.0  \n",
              "9720   0.0   1.0   1.0   0.0  \n",
              "9721   1.0   0.0   1.0   0.0  \n",
              "9722   1.0   1.0   0.0   0.0  \n",
              "9723   0.0   0.0   0.0   0.0  \n",
              "\n",
              "[9724 rows x 9724 columns]"
            ],
            "text/html": [
              "\n",
              "  <div id=\"df-dcca1389-f029-493b-b5fa-750aaf7b358e\">\n",
              "    <div class=\"colab-df-container\">\n",
              "      <div>\n",
              "<style scoped>\n",
              "    .dataframe tbody tr th:only-of-type {\n",
              "        vertical-align: middle;\n",
              "    }\n",
              "\n",
              "    .dataframe tbody tr th {\n",
              "        vertical-align: top;\n",
              "    }\n",
              "\n",
              "    .dataframe thead th {\n",
              "        text-align: right;\n",
              "    }\n",
              "</style>\n",
              "<table border=\"1\" class=\"dataframe\">\n",
              "  <thead>\n",
              "    <tr style=\"text-align: right;\">\n",
              "      <th></th>\n",
              "      <th>0</th>\n",
              "      <th>1</th>\n",
              "      <th>2</th>\n",
              "      <th>3</th>\n",
              "      <th>4</th>\n",
              "      <th>5</th>\n",
              "      <th>6</th>\n",
              "      <th>7</th>\n",
              "      <th>8</th>\n",
              "      <th>9</th>\n",
              "      <th>...</th>\n",
              "      <th>9714</th>\n",
              "      <th>9715</th>\n",
              "      <th>9716</th>\n",
              "      <th>9717</th>\n",
              "      <th>9718</th>\n",
              "      <th>9719</th>\n",
              "      <th>9720</th>\n",
              "      <th>9721</th>\n",
              "      <th>9722</th>\n",
              "      <th>9723</th>\n",
              "    </tr>\n",
              "  </thead>\n",
              "  <tbody>\n",
              "    <tr>\n",
              "      <th>0</th>\n",
              "      <td>0.000000</td>\n",
              "      <td>0.410562</td>\n",
              "      <td>0.296917</td>\n",
              "      <td>0.035573</td>\n",
              "      <td>0.308762</td>\n",
              "      <td>0.376316</td>\n",
              "      <td>0.277491</td>\n",
              "      <td>0.131629</td>\n",
              "      <td>0.232586</td>\n",
              "      <td>0.395573</td>\n",
              "      <td>...</td>\n",
              "      <td>0.0</td>\n",
              "      <td>0.0</td>\n",
              "      <td>0.0</td>\n",
              "      <td>0.0</td>\n",
              "      <td>0.0</td>\n",
              "      <td>0.0</td>\n",
              "      <td>0.0</td>\n",
              "      <td>0.0</td>\n",
              "      <td>0.0</td>\n",
              "      <td>0.0</td>\n",
              "    </tr>\n",
              "    <tr>\n",
              "      <th>1</th>\n",
              "      <td>0.410562</td>\n",
              "      <td>0.000000</td>\n",
              "      <td>0.282438</td>\n",
              "      <td>0.106415</td>\n",
              "      <td>0.287795</td>\n",
              "      <td>0.297009</td>\n",
              "      <td>0.228576</td>\n",
              "      <td>0.172498</td>\n",
              "      <td>0.044835</td>\n",
              "      <td>0.417693</td>\n",
              "      <td>...</td>\n",
              "      <td>0.0</td>\n",
              "      <td>0.0</td>\n",
              "      <td>0.0</td>\n",
              "      <td>0.0</td>\n",
              "      <td>0.0</td>\n",
              "      <td>0.0</td>\n",
              "      <td>0.0</td>\n",
              "      <td>0.0</td>\n",
              "      <td>0.0</td>\n",
              "      <td>0.0</td>\n",
              "    </tr>\n",
              "    <tr>\n",
              "      <th>2</th>\n",
              "      <td>0.296917</td>\n",
              "      <td>0.282438</td>\n",
              "      <td>0.000000</td>\n",
              "      <td>0.092406</td>\n",
              "      <td>0.417802</td>\n",
              "      <td>0.284257</td>\n",
              "      <td>0.402831</td>\n",
              "      <td>0.313434</td>\n",
              "      <td>0.304840</td>\n",
              "      <td>0.242954</td>\n",
              "      <td>...</td>\n",
              "      <td>0.0</td>\n",
              "      <td>0.0</td>\n",
              "      <td>0.0</td>\n",
              "      <td>0.0</td>\n",
              "      <td>0.0</td>\n",
              "      <td>0.0</td>\n",
              "      <td>0.0</td>\n",
              "      <td>0.0</td>\n",
              "      <td>0.0</td>\n",
              "      <td>0.0</td>\n",
              "    </tr>\n",
              "    <tr>\n",
              "      <th>3</th>\n",
              "      <td>0.035573</td>\n",
              "      <td>0.106415</td>\n",
              "      <td>0.092406</td>\n",
              "      <td>0.000000</td>\n",
              "      <td>0.188376</td>\n",
              "      <td>0.089685</td>\n",
              "      <td>0.275035</td>\n",
              "      <td>0.158022</td>\n",
              "      <td>0.000000</td>\n",
              "      <td>0.095598</td>\n",
              "      <td>...</td>\n",
              "      <td>0.0</td>\n",
              "      <td>0.0</td>\n",
              "      <td>0.0</td>\n",
              "      <td>0.0</td>\n",
              "      <td>0.0</td>\n",
              "      <td>0.0</td>\n",
              "      <td>0.0</td>\n",
              "      <td>0.0</td>\n",
              "      <td>0.0</td>\n",
              "      <td>0.0</td>\n",
              "    </tr>\n",
              "    <tr>\n",
              "      <th>4</th>\n",
              "      <td>0.308762</td>\n",
              "      <td>0.287795</td>\n",
              "      <td>0.417802</td>\n",
              "      <td>0.188376</td>\n",
              "      <td>0.000000</td>\n",
              "      <td>0.298969</td>\n",
              "      <td>0.474002</td>\n",
              "      <td>0.283523</td>\n",
              "      <td>0.335058</td>\n",
              "      <td>0.218061</td>\n",
              "      <td>...</td>\n",
              "      <td>0.0</td>\n",
              "      <td>0.0</td>\n",
              "      <td>0.0</td>\n",
              "      <td>0.0</td>\n",
              "      <td>0.0</td>\n",
              "      <td>0.0</td>\n",
              "      <td>0.0</td>\n",
              "      <td>0.0</td>\n",
              "      <td>0.0</td>\n",
              "      <td>0.0</td>\n",
              "    </tr>\n",
              "    <tr>\n",
              "      <th>...</th>\n",
              "      <td>...</td>\n",
              "      <td>...</td>\n",
              "      <td>...</td>\n",
              "      <td>...</td>\n",
              "      <td>...</td>\n",
              "      <td>...</td>\n",
              "      <td>...</td>\n",
              "      <td>...</td>\n",
              "      <td>...</td>\n",
              "      <td>...</td>\n",
              "      <td>...</td>\n",
              "      <td>...</td>\n",
              "      <td>...</td>\n",
              "      <td>...</td>\n",
              "      <td>...</td>\n",
              "      <td>...</td>\n",
              "      <td>...</td>\n",
              "      <td>...</td>\n",
              "      <td>...</td>\n",
              "      <td>...</td>\n",
              "      <td>...</td>\n",
              "    </tr>\n",
              "    <tr>\n",
              "      <th>9719</th>\n",
              "      <td>0.000000</td>\n",
              "      <td>0.000000</td>\n",
              "      <td>0.000000</td>\n",
              "      <td>0.000000</td>\n",
              "      <td>0.000000</td>\n",
              "      <td>0.000000</td>\n",
              "      <td>0.000000</td>\n",
              "      <td>0.000000</td>\n",
              "      <td>0.000000</td>\n",
              "      <td>0.000000</td>\n",
              "      <td>...</td>\n",
              "      <td>1.0</td>\n",
              "      <td>1.0</td>\n",
              "      <td>1.0</td>\n",
              "      <td>1.0</td>\n",
              "      <td>1.0</td>\n",
              "      <td>0.0</td>\n",
              "      <td>1.0</td>\n",
              "      <td>1.0</td>\n",
              "      <td>1.0</td>\n",
              "      <td>0.0</td>\n",
              "    </tr>\n",
              "    <tr>\n",
              "      <th>9720</th>\n",
              "      <td>0.000000</td>\n",
              "      <td>0.000000</td>\n",
              "      <td>0.000000</td>\n",
              "      <td>0.000000</td>\n",
              "      <td>0.000000</td>\n",
              "      <td>0.000000</td>\n",
              "      <td>0.000000</td>\n",
              "      <td>0.000000</td>\n",
              "      <td>0.000000</td>\n",
              "      <td>0.000000</td>\n",
              "      <td>...</td>\n",
              "      <td>1.0</td>\n",
              "      <td>1.0</td>\n",
              "      <td>1.0</td>\n",
              "      <td>1.0</td>\n",
              "      <td>1.0</td>\n",
              "      <td>1.0</td>\n",
              "      <td>0.0</td>\n",
              "      <td>1.0</td>\n",
              "      <td>1.0</td>\n",
              "      <td>0.0</td>\n",
              "    </tr>\n",
              "    <tr>\n",
              "      <th>9721</th>\n",
              "      <td>0.000000</td>\n",
              "      <td>0.000000</td>\n",
              "      <td>0.000000</td>\n",
              "      <td>0.000000</td>\n",
              "      <td>0.000000</td>\n",
              "      <td>0.000000</td>\n",
              "      <td>0.000000</td>\n",
              "      <td>0.000000</td>\n",
              "      <td>0.000000</td>\n",
              "      <td>0.000000</td>\n",
              "      <td>...</td>\n",
              "      <td>1.0</td>\n",
              "      <td>1.0</td>\n",
              "      <td>1.0</td>\n",
              "      <td>1.0</td>\n",
              "      <td>1.0</td>\n",
              "      <td>1.0</td>\n",
              "      <td>1.0</td>\n",
              "      <td>0.0</td>\n",
              "      <td>1.0</td>\n",
              "      <td>0.0</td>\n",
              "    </tr>\n",
              "    <tr>\n",
              "      <th>9722</th>\n",
              "      <td>0.000000</td>\n",
              "      <td>0.000000</td>\n",
              "      <td>0.000000</td>\n",
              "      <td>0.000000</td>\n",
              "      <td>0.000000</td>\n",
              "      <td>0.000000</td>\n",
              "      <td>0.000000</td>\n",
              "      <td>0.000000</td>\n",
              "      <td>0.000000</td>\n",
              "      <td>0.000000</td>\n",
              "      <td>...</td>\n",
              "      <td>1.0</td>\n",
              "      <td>1.0</td>\n",
              "      <td>1.0</td>\n",
              "      <td>1.0</td>\n",
              "      <td>1.0</td>\n",
              "      <td>1.0</td>\n",
              "      <td>1.0</td>\n",
              "      <td>1.0</td>\n",
              "      <td>0.0</td>\n",
              "      <td>0.0</td>\n",
              "    </tr>\n",
              "    <tr>\n",
              "      <th>9723</th>\n",
              "      <td>0.000000</td>\n",
              "      <td>0.000000</td>\n",
              "      <td>0.000000</td>\n",
              "      <td>0.000000</td>\n",
              "      <td>0.000000</td>\n",
              "      <td>0.000000</td>\n",
              "      <td>0.000000</td>\n",
              "      <td>0.000000</td>\n",
              "      <td>0.000000</td>\n",
              "      <td>0.072542</td>\n",
              "      <td>...</td>\n",
              "      <td>0.0</td>\n",
              "      <td>0.0</td>\n",
              "      <td>0.0</td>\n",
              "      <td>0.0</td>\n",
              "      <td>0.0</td>\n",
              "      <td>0.0</td>\n",
              "      <td>0.0</td>\n",
              "      <td>0.0</td>\n",
              "      <td>0.0</td>\n",
              "      <td>0.0</td>\n",
              "    </tr>\n",
              "  </tbody>\n",
              "</table>\n",
              "<p>9724 rows × 9724 columns</p>\n",
              "</div>\n",
              "      <button class=\"colab-df-convert\" onclick=\"convertToInteractive('df-dcca1389-f029-493b-b5fa-750aaf7b358e')\"\n",
              "              title=\"Convert this dataframe to an interactive table.\"\n",
              "              style=\"display:none;\">\n",
              "        \n",
              "  <svg xmlns=\"http://www.w3.org/2000/svg\" height=\"24px\"viewBox=\"0 0 24 24\"\n",
              "       width=\"24px\">\n",
              "    <path d=\"M0 0h24v24H0V0z\" fill=\"none\"/>\n",
              "    <path d=\"M18.56 5.44l.94 2.06.94-2.06 2.06-.94-2.06-.94-.94-2.06-.94 2.06-2.06.94zm-11 1L8.5 8.5l.94-2.06 2.06-.94-2.06-.94L8.5 2.5l-.94 2.06-2.06.94zm10 10l.94 2.06.94-2.06 2.06-.94-2.06-.94-.94-2.06-.94 2.06-2.06.94z\"/><path d=\"M17.41 7.96l-1.37-1.37c-.4-.4-.92-.59-1.43-.59-.52 0-1.04.2-1.43.59L10.3 9.45l-7.72 7.72c-.78.78-.78 2.05 0 2.83L4 21.41c.39.39.9.59 1.41.59.51 0 1.02-.2 1.41-.59l7.78-7.78 2.81-2.81c.8-.78.8-2.07 0-2.86zM5.41 20L4 18.59l7.72-7.72 1.47 1.35L5.41 20z\"/>\n",
              "  </svg>\n",
              "      </button>\n",
              "      \n",
              "  <style>\n",
              "    .colab-df-container {\n",
              "      display:flex;\n",
              "      flex-wrap:wrap;\n",
              "      gap: 12px;\n",
              "    }\n",
              "\n",
              "    .colab-df-convert {\n",
              "      background-color: #E8F0FE;\n",
              "      border: none;\n",
              "      border-radius: 50%;\n",
              "      cursor: pointer;\n",
              "      display: none;\n",
              "      fill: #1967D2;\n",
              "      height: 32px;\n",
              "      padding: 0 0 0 0;\n",
              "      width: 32px;\n",
              "    }\n",
              "\n",
              "    .colab-df-convert:hover {\n",
              "      background-color: #E2EBFA;\n",
              "      box-shadow: 0px 1px 2px rgba(60, 64, 67, 0.3), 0px 1px 3px 1px rgba(60, 64, 67, 0.15);\n",
              "      fill: #174EA6;\n",
              "    }\n",
              "\n",
              "    [theme=dark] .colab-df-convert {\n",
              "      background-color: #3B4455;\n",
              "      fill: #D2E3FC;\n",
              "    }\n",
              "\n",
              "    [theme=dark] .colab-df-convert:hover {\n",
              "      background-color: #434B5C;\n",
              "      box-shadow: 0px 1px 3px 1px rgba(0, 0, 0, 0.15);\n",
              "      filter: drop-shadow(0px 1px 2px rgba(0, 0, 0, 0.3));\n",
              "      fill: #FFFFFF;\n",
              "    }\n",
              "  </style>\n",
              "\n",
              "      <script>\n",
              "        const buttonEl =\n",
              "          document.querySelector('#df-dcca1389-f029-493b-b5fa-750aaf7b358e button.colab-df-convert');\n",
              "        buttonEl.style.display =\n",
              "          google.colab.kernel.accessAllowed ? 'block' : 'none';\n",
              "\n",
              "        async function convertToInteractive(key) {\n",
              "          const element = document.querySelector('#df-dcca1389-f029-493b-b5fa-750aaf7b358e');\n",
              "          const dataTable =\n",
              "            await google.colab.kernel.invokeFunction('convertToInteractive',\n",
              "                                                     [key], {});\n",
              "          if (!dataTable) return;\n",
              "\n",
              "          const docLinkHtml = 'Like what you see? Visit the ' +\n",
              "            '<a target=\"_blank\" href=https://colab.research.google.com/notebooks/data_table.ipynb>data table notebook</a>'\n",
              "            + ' to learn more about interactive tables.';\n",
              "          element.innerHTML = '';\n",
              "          dataTable['output_type'] = 'display_data';\n",
              "          await google.colab.output.renderOutput(dataTable, element);\n",
              "          const docLink = document.createElement('div');\n",
              "          docLink.innerHTML = docLinkHtml;\n",
              "          element.appendChild(docLink);\n",
              "        }\n",
              "      </script>\n",
              "    </div>\n",
              "  </div>\n",
              "  "
            ]
          },
          "metadata": {},
          "execution_count": 58
        }
      ],
      "source": [
        "movie_similarity = 1 - pairwise_distances( ratings_matrix_items, metric=\"cosine\" )\n",
        "np.fill_diagonal( movie_similarity, 0 ) #Filling diagonals with 0s for future use when sorting is done\n",
        "ratings_matrix_items = pd.DataFrame( movie_similarity )\n",
        "ratings_matrix_items\n"
      ]
    },
    {
      "cell_type": "markdown",
      "metadata": {
        "id": "7UmKqb3pM0a_"
      },
      "source": [
        "Below function will take the movie name as a input and will find the movies which are similar to this movie.\n",
        "This function first find the index of movie in movies frame and then take the similarity of movie and align in movies dataframe so that we can get the similarity of the movie with all other movies."
      ]
    },
    {
      "cell_type": "code",
      "execution_count": 59,
      "metadata": {
        "id": "0Mg82TIaM0a_"
      },
      "outputs": [],
      "source": [
        "def item_similarity(movieName): \n",
        "    \"\"\"\n",
        "    recomendates similar movies\n",
        "   :param data: name of the movie \n",
        "   \"\"\"\n",
        "    try:\n",
        "        #user_inp=input('Enter the reference movie title based on which recommendations are to be made: ')\n",
        "        user_inp=movieName\n",
        "        inp=df_movies[df_movies['title']==user_inp].index.tolist()\n",
        "        inp=inp[0]\n",
        "\n",
        "        df_movies['similarity'] = ratings_matrix_items.iloc[inp]\n",
        "        df_movies.columns = ['movie_id', 'title', 'release_date','similarity']\n",
        "    except:\n",
        "        print(\"Sorry, the movie is not in the database!\")"
      ]
    },
    {
      "cell_type": "markdown",
      "metadata": {
        "id": "R03ocMwuM0bA"
      },
      "source": [
        "Here we provide the user id of the user for which we have to recommend movies.\n",
        "Then we find the movies which are rated 5 or 4.5 by the user for whom we want to recommend movies.\n",
        "We are finding this because as we know that in Item-Item similarity approach we recommended movies to the user based on his previous selection.\n",
        "So to foster our algorithm we are finding movies which are liked by the user most and on bases of that we will recommend movies with are similar to movies highly rated by the user.\n",
        "Then our function has appended the similarity of the movie highly rated by the user to our movies data frame.\n",
        "Now we will sort the frame as per the similarity in descending order so that we can get the movies which are highly similar to movie highly rated bu our customer.\n",
        "Now we filter the movies which are most similar as per the similarity so if similarity is greater than 0.45 then we are considering the movies.\n",
        "Now the function goes ahead and see which all movies user has seen and then filter out the movies which he has not seen and than recommended that movies to him."
      ]
    },
    {
      "cell_type": "code",
      "execution_count": 60,
      "metadata": {
        "id": "n8QeZOUrM0bB"
      },
      "outputs": [],
      "source": [
        "def recommendedMoviesAsperItemSimilarity(user_id):\n",
        "    \"\"\"\n",
        "     Recommending movie which user hasn't watched as per Item Similarity\n",
        "    :param user_id: user_id to whom movie needs to be recommended\n",
        "    :return: movieIds to user \n",
        "    \"\"\"\n",
        "    user_movie= df_movies_ratings[(df_movies_ratings.userId==user_id) & df_movies_ratings.rating.isin([5,4.5])][['title']]\n",
        "    user_movie=user_movie.iloc[0,0]\n",
        "    item_similarity(user_movie)\n",
        "    sorted_movies_as_per_userChoice=df_movies.sort_values( [\"similarity\"], ascending = False )\n",
        "    sorted_movies_as_per_userChoice=sorted_movies_as_per_userChoice[sorted_movies_as_per_userChoice['similarity'] >=0.45]['movie_id']\n",
        "    recommended_movies=list()\n",
        "    df_recommended_item=pd.DataFrame()\n",
        "    user2Movies= df_ratings[df_ratings['userId']== user_id]['movieId']\n",
        "    for movieId in sorted_movies_as_per_userChoice:\n",
        "            if movieId not in user2Movies:\n",
        "                df_new= df_ratings[(df_ratings.movieId==movieId)]\n",
        "                df_recommended_item=pd.concat([df_recommended_item,df_new])\n",
        "            best10=df_recommended_item.sort_values([\"rating\"], ascending = False )[1:10] \n",
        "    return best10['movieId']"
      ]
    },
    {
      "cell_type": "code",
      "execution_count": 61,
      "metadata": {
        "id": "Ya2iYbb-M0bC"
      },
      "outputs": [],
      "source": [
        "def movieIdToTitle(listMovieIDs):\n",
        "    \"\"\"\n",
        "     Converting movieId to titles\n",
        "    :param user_id: List of movies\n",
        "    :return: movie titles\n",
        "    \"\"\"\n",
        "    movie_titles= list()\n",
        "    for id in listMovieIDs:\n",
        "        movie_titles.append(df_movies[df_movies['movie_id']==id]['title'])\n",
        "    return movie_titles"
      ]
    },
    {
      "cell_type": "code",
      "execution_count": 62,
      "metadata": {
        "colab": {
          "base_uri": "https://localhost:8080/"
        },
        "id": "X4hVBfZ5M0bD",
        "outputId": "70ee7cc0-8b1d-4f3a-bd35-f5eddab6cd9b"
      },
      "outputs": [
        {
          "output_type": "stream",
          "name": "stdout",
          "text": [
            "Recommended movies,:\n",
            " [659    Godfather, The (1972)\n",
            "Name: title, dtype: object, 922    Godfather: Part II, The (1974)\n",
            "Name: title, dtype: object, 510    Silence of the Lambs, The (1991)\n",
            "Name: title, dtype: object, 922    Godfather: Part II, The (1974)\n",
            "Name: title, dtype: object, 922    Godfather: Part II, The (1974)\n",
            "Name: title, dtype: object, 659    Godfather, The (1972)\n",
            "Name: title, dtype: object, 659    Godfather, The (1972)\n",
            "Name: title, dtype: object, 659    Godfather, The (1972)\n",
            "Name: title, dtype: object, 1644    Willow (1988)\n",
            "Name: title, dtype: object]\n"
          ]
        }
      ],
      "source": [
        "user_id=50\n",
        "print(\"Recommended movies,:\\n\",movieIdToTitle(recommendedMoviesAsperItemSimilarity(user_id)))"
      ]
    },
    {
      "cell_type": "markdown",
      "metadata": {
        "id": "GqM2VUBGM0bD"
      },
      "source": [
        "## User-Item Filtering\n",
        "The underlying assumption of the collaborative filtering approach is that if a person A has the same opinion as a person B on an issue, A is more likely to have B's opinion on a different issue than that of a randomly chosen person.\n",
        "![alt text](https://cdn-images-1.medium.com/max/1500/0*o0zVW2O6Rv-LI5Mu.png)\n",
        "\n",
        "Here we find look alike users based on similarity and recommend movies which first user’s look-alike has chosen in past. This algorithm is very effective but takes a lot of time and resources. It requires to compute every user pair information which takes time. Therefore, for big base platforms, this algorithm is hard to implement without a very strong parallelizable system."
      ]
    },
    {
      "cell_type": "markdown",
      "metadata": {
        "id": "-egMfHLqM0bF"
      },
      "source": [
        "## Implementation of User-Item Filtering"
      ]
    },
    {
      "cell_type": "markdown",
      "metadata": {
        "id": "NwjPqeG-M0bF"
      },
      "source": [
        "In similar way as we did for ItemItem similarity we will create a matrix but here we will keep rows as user and columns as movieId as we want a vector of different users.\n",
        "Then in similar ways we will find distance and similarity between users."
      ]
    },
    {
      "cell_type": "code",
      "execution_count": 63,
      "metadata": {
        "colab": {
          "base_uri": "https://localhost:8080/",
          "height": 487
        },
        "id": "Ebm9ivNOM0bG",
        "outputId": "6e6ac81c-28ae-4c74-bc3c-d3dd1aeda624"
      },
      "outputs": [
        {
          "output_type": "execute_result",
          "data": {
            "text/plain": [
              "          0         1         2         3         4         5         6    \\\n",
              "0    0.000000  0.027283  0.059720  0.194395  0.129080  0.128152  0.158744   \n",
              "1    0.027283  0.000000  0.000000  0.003726  0.016614  0.025333  0.027585   \n",
              "2    0.059720  0.000000  0.000000  0.002251  0.005020  0.003936  0.000000   \n",
              "3    0.194395  0.003726  0.002251  0.000000  0.128659  0.088491  0.115120   \n",
              "4    0.129080  0.016614  0.005020  0.128659  0.000000  0.300349  0.108342   \n",
              "..        ...       ...       ...       ...       ...       ...       ...   \n",
              "605  0.164191  0.028429  0.012993  0.200395  0.106435  0.102123  0.200035   \n",
              "606  0.269389  0.012948  0.019247  0.131746  0.152866  0.162182  0.186114   \n",
              "607  0.291097  0.046211  0.021128  0.149858  0.135535  0.178809  0.323541   \n",
              "608  0.093572  0.027565  0.000000  0.032198  0.261232  0.214234  0.090840   \n",
              "609  0.145321  0.102427  0.032119  0.107683  0.060792  0.052668  0.193219   \n",
              "\n",
              "          7         8         9    ...       600       601       602  \\\n",
              "0    0.136968  0.064263  0.016875  ...  0.080554  0.164455  0.221486   \n",
              "1    0.027257  0.000000  0.067445  ...  0.202671  0.016866  0.011997   \n",
              "2    0.004941  0.000000  0.000000  ...  0.005048  0.004892  0.024992   \n",
              "3    0.062969  0.011361  0.031163  ...  0.085938  0.128273  0.307973   \n",
              "4    0.429075  0.000000  0.030611  ...  0.068048  0.418747  0.110148   \n",
              "..        ...       ...       ...  ...       ...       ...       ...   \n",
              "605  0.099388  0.075898  0.088963  ...  0.178084  0.116534  0.300669   \n",
              "606  0.185142  0.011844  0.010451  ...  0.092525  0.199910  0.203540   \n",
              "607  0.187233  0.100435  0.077424  ...  0.158355  0.197514  0.232771   \n",
              "608  0.423993  0.000000  0.021766  ...  0.035653  0.335231  0.061941   \n",
              "609  0.078153  0.074399  0.121072  ...  0.222491  0.087528  0.163094   \n",
              "\n",
              "          603       604       605       606       607       608       609  \n",
              "0    0.070669  0.153625  0.164191  0.269389  0.291097  0.093572  0.145321  \n",
              "1    0.000000  0.000000  0.028429  0.012948  0.046211  0.027565  0.102427  \n",
              "2    0.000000  0.010694  0.012993  0.019247  0.021128  0.000000  0.032119  \n",
              "3    0.052985  0.084584  0.200395  0.131746  0.149858  0.032198  0.107683  \n",
              "4    0.258773  0.148758  0.106435  0.152866  0.135535  0.261232  0.060792  \n",
              "..        ...       ...       ...       ...       ...       ...       ...  \n",
              "605  0.066032  0.148141  0.000000  0.153063  0.262558  0.069622  0.201104  \n",
              "606  0.137834  0.118780  0.153063  0.000000  0.283081  0.149190  0.139114  \n",
              "607  0.155306  0.178142  0.262558  0.283081  0.000000  0.121993  0.322055  \n",
              "608  0.236601  0.097610  0.069622  0.149190  0.121993  0.000000  0.053225  \n",
              "609  0.052552  0.119295  0.201104  0.139114  0.322055  0.053225  0.000000  \n",
              "\n",
              "[610 rows x 610 columns]"
            ],
            "text/html": [
              "\n",
              "  <div id=\"df-30d331a7-e6cb-4f18-a701-725440f13d81\">\n",
              "    <div class=\"colab-df-container\">\n",
              "      <div>\n",
              "<style scoped>\n",
              "    .dataframe tbody tr th:only-of-type {\n",
              "        vertical-align: middle;\n",
              "    }\n",
              "\n",
              "    .dataframe tbody tr th {\n",
              "        vertical-align: top;\n",
              "    }\n",
              "\n",
              "    .dataframe thead th {\n",
              "        text-align: right;\n",
              "    }\n",
              "</style>\n",
              "<table border=\"1\" class=\"dataframe\">\n",
              "  <thead>\n",
              "    <tr style=\"text-align: right;\">\n",
              "      <th></th>\n",
              "      <th>0</th>\n",
              "      <th>1</th>\n",
              "      <th>2</th>\n",
              "      <th>3</th>\n",
              "      <th>4</th>\n",
              "      <th>5</th>\n",
              "      <th>6</th>\n",
              "      <th>7</th>\n",
              "      <th>8</th>\n",
              "      <th>9</th>\n",
              "      <th>...</th>\n",
              "      <th>600</th>\n",
              "      <th>601</th>\n",
              "      <th>602</th>\n",
              "      <th>603</th>\n",
              "      <th>604</th>\n",
              "      <th>605</th>\n",
              "      <th>606</th>\n",
              "      <th>607</th>\n",
              "      <th>608</th>\n",
              "      <th>609</th>\n",
              "    </tr>\n",
              "  </thead>\n",
              "  <tbody>\n",
              "    <tr>\n",
              "      <th>0</th>\n",
              "      <td>0.000000</td>\n",
              "      <td>0.027283</td>\n",
              "      <td>0.059720</td>\n",
              "      <td>0.194395</td>\n",
              "      <td>0.129080</td>\n",
              "      <td>0.128152</td>\n",
              "      <td>0.158744</td>\n",
              "      <td>0.136968</td>\n",
              "      <td>0.064263</td>\n",
              "      <td>0.016875</td>\n",
              "      <td>...</td>\n",
              "      <td>0.080554</td>\n",
              "      <td>0.164455</td>\n",
              "      <td>0.221486</td>\n",
              "      <td>0.070669</td>\n",
              "      <td>0.153625</td>\n",
              "      <td>0.164191</td>\n",
              "      <td>0.269389</td>\n",
              "      <td>0.291097</td>\n",
              "      <td>0.093572</td>\n",
              "      <td>0.145321</td>\n",
              "    </tr>\n",
              "    <tr>\n",
              "      <th>1</th>\n",
              "      <td>0.027283</td>\n",
              "      <td>0.000000</td>\n",
              "      <td>0.000000</td>\n",
              "      <td>0.003726</td>\n",
              "      <td>0.016614</td>\n",
              "      <td>0.025333</td>\n",
              "      <td>0.027585</td>\n",
              "      <td>0.027257</td>\n",
              "      <td>0.000000</td>\n",
              "      <td>0.067445</td>\n",
              "      <td>...</td>\n",
              "      <td>0.202671</td>\n",
              "      <td>0.016866</td>\n",
              "      <td>0.011997</td>\n",
              "      <td>0.000000</td>\n",
              "      <td>0.000000</td>\n",
              "      <td>0.028429</td>\n",
              "      <td>0.012948</td>\n",
              "      <td>0.046211</td>\n",
              "      <td>0.027565</td>\n",
              "      <td>0.102427</td>\n",
              "    </tr>\n",
              "    <tr>\n",
              "      <th>2</th>\n",
              "      <td>0.059720</td>\n",
              "      <td>0.000000</td>\n",
              "      <td>0.000000</td>\n",
              "      <td>0.002251</td>\n",
              "      <td>0.005020</td>\n",
              "      <td>0.003936</td>\n",
              "      <td>0.000000</td>\n",
              "      <td>0.004941</td>\n",
              "      <td>0.000000</td>\n",
              "      <td>0.000000</td>\n",
              "      <td>...</td>\n",
              "      <td>0.005048</td>\n",
              "      <td>0.004892</td>\n",
              "      <td>0.024992</td>\n",
              "      <td>0.000000</td>\n",
              "      <td>0.010694</td>\n",
              "      <td>0.012993</td>\n",
              "      <td>0.019247</td>\n",
              "      <td>0.021128</td>\n",
              "      <td>0.000000</td>\n",
              "      <td>0.032119</td>\n",
              "    </tr>\n",
              "    <tr>\n",
              "      <th>3</th>\n",
              "      <td>0.194395</td>\n",
              "      <td>0.003726</td>\n",
              "      <td>0.002251</td>\n",
              "      <td>0.000000</td>\n",
              "      <td>0.128659</td>\n",
              "      <td>0.088491</td>\n",
              "      <td>0.115120</td>\n",
              "      <td>0.062969</td>\n",
              "      <td>0.011361</td>\n",
              "      <td>0.031163</td>\n",
              "      <td>...</td>\n",
              "      <td>0.085938</td>\n",
              "      <td>0.128273</td>\n",
              "      <td>0.307973</td>\n",
              "      <td>0.052985</td>\n",
              "      <td>0.084584</td>\n",
              "      <td>0.200395</td>\n",
              "      <td>0.131746</td>\n",
              "      <td>0.149858</td>\n",
              "      <td>0.032198</td>\n",
              "      <td>0.107683</td>\n",
              "    </tr>\n",
              "    <tr>\n",
              "      <th>4</th>\n",
              "      <td>0.129080</td>\n",
              "      <td>0.016614</td>\n",
              "      <td>0.005020</td>\n",
              "      <td>0.128659</td>\n",
              "      <td>0.000000</td>\n",
              "      <td>0.300349</td>\n",
              "      <td>0.108342</td>\n",
              "      <td>0.429075</td>\n",
              "      <td>0.000000</td>\n",
              "      <td>0.030611</td>\n",
              "      <td>...</td>\n",
              "      <td>0.068048</td>\n",
              "      <td>0.418747</td>\n",
              "      <td>0.110148</td>\n",
              "      <td>0.258773</td>\n",
              "      <td>0.148758</td>\n",
              "      <td>0.106435</td>\n",
              "      <td>0.152866</td>\n",
              "      <td>0.135535</td>\n",
              "      <td>0.261232</td>\n",
              "      <td>0.060792</td>\n",
              "    </tr>\n",
              "    <tr>\n",
              "      <th>...</th>\n",
              "      <td>...</td>\n",
              "      <td>...</td>\n",
              "      <td>...</td>\n",
              "      <td>...</td>\n",
              "      <td>...</td>\n",
              "      <td>...</td>\n",
              "      <td>...</td>\n",
              "      <td>...</td>\n",
              "      <td>...</td>\n",
              "      <td>...</td>\n",
              "      <td>...</td>\n",
              "      <td>...</td>\n",
              "      <td>...</td>\n",
              "      <td>...</td>\n",
              "      <td>...</td>\n",
              "      <td>...</td>\n",
              "      <td>...</td>\n",
              "      <td>...</td>\n",
              "      <td>...</td>\n",
              "      <td>...</td>\n",
              "      <td>...</td>\n",
              "    </tr>\n",
              "    <tr>\n",
              "      <th>605</th>\n",
              "      <td>0.164191</td>\n",
              "      <td>0.028429</td>\n",
              "      <td>0.012993</td>\n",
              "      <td>0.200395</td>\n",
              "      <td>0.106435</td>\n",
              "      <td>0.102123</td>\n",
              "      <td>0.200035</td>\n",
              "      <td>0.099388</td>\n",
              "      <td>0.075898</td>\n",
              "      <td>0.088963</td>\n",
              "      <td>...</td>\n",
              "      <td>0.178084</td>\n",
              "      <td>0.116534</td>\n",
              "      <td>0.300669</td>\n",
              "      <td>0.066032</td>\n",
              "      <td>0.148141</td>\n",
              "      <td>0.000000</td>\n",
              "      <td>0.153063</td>\n",
              "      <td>0.262558</td>\n",
              "      <td>0.069622</td>\n",
              "      <td>0.201104</td>\n",
              "    </tr>\n",
              "    <tr>\n",
              "      <th>606</th>\n",
              "      <td>0.269389</td>\n",
              "      <td>0.012948</td>\n",
              "      <td>0.019247</td>\n",
              "      <td>0.131746</td>\n",
              "      <td>0.152866</td>\n",
              "      <td>0.162182</td>\n",
              "      <td>0.186114</td>\n",
              "      <td>0.185142</td>\n",
              "      <td>0.011844</td>\n",
              "      <td>0.010451</td>\n",
              "      <td>...</td>\n",
              "      <td>0.092525</td>\n",
              "      <td>0.199910</td>\n",
              "      <td>0.203540</td>\n",
              "      <td>0.137834</td>\n",
              "      <td>0.118780</td>\n",
              "      <td>0.153063</td>\n",
              "      <td>0.000000</td>\n",
              "      <td>0.283081</td>\n",
              "      <td>0.149190</td>\n",
              "      <td>0.139114</td>\n",
              "    </tr>\n",
              "    <tr>\n",
              "      <th>607</th>\n",
              "      <td>0.291097</td>\n",
              "      <td>0.046211</td>\n",
              "      <td>0.021128</td>\n",
              "      <td>0.149858</td>\n",
              "      <td>0.135535</td>\n",
              "      <td>0.178809</td>\n",
              "      <td>0.323541</td>\n",
              "      <td>0.187233</td>\n",
              "      <td>0.100435</td>\n",
              "      <td>0.077424</td>\n",
              "      <td>...</td>\n",
              "      <td>0.158355</td>\n",
              "      <td>0.197514</td>\n",
              "      <td>0.232771</td>\n",
              "      <td>0.155306</td>\n",
              "      <td>0.178142</td>\n",
              "      <td>0.262558</td>\n",
              "      <td>0.283081</td>\n",
              "      <td>0.000000</td>\n",
              "      <td>0.121993</td>\n",
              "      <td>0.322055</td>\n",
              "    </tr>\n",
              "    <tr>\n",
              "      <th>608</th>\n",
              "      <td>0.093572</td>\n",
              "      <td>0.027565</td>\n",
              "      <td>0.000000</td>\n",
              "      <td>0.032198</td>\n",
              "      <td>0.261232</td>\n",
              "      <td>0.214234</td>\n",
              "      <td>0.090840</td>\n",
              "      <td>0.423993</td>\n",
              "      <td>0.000000</td>\n",
              "      <td>0.021766</td>\n",
              "      <td>...</td>\n",
              "      <td>0.035653</td>\n",
              "      <td>0.335231</td>\n",
              "      <td>0.061941</td>\n",
              "      <td>0.236601</td>\n",
              "      <td>0.097610</td>\n",
              "      <td>0.069622</td>\n",
              "      <td>0.149190</td>\n",
              "      <td>0.121993</td>\n",
              "      <td>0.000000</td>\n",
              "      <td>0.053225</td>\n",
              "    </tr>\n",
              "    <tr>\n",
              "      <th>609</th>\n",
              "      <td>0.145321</td>\n",
              "      <td>0.102427</td>\n",
              "      <td>0.032119</td>\n",
              "      <td>0.107683</td>\n",
              "      <td>0.060792</td>\n",
              "      <td>0.052668</td>\n",
              "      <td>0.193219</td>\n",
              "      <td>0.078153</td>\n",
              "      <td>0.074399</td>\n",
              "      <td>0.121072</td>\n",
              "      <td>...</td>\n",
              "      <td>0.222491</td>\n",
              "      <td>0.087528</td>\n",
              "      <td>0.163094</td>\n",
              "      <td>0.052552</td>\n",
              "      <td>0.119295</td>\n",
              "      <td>0.201104</td>\n",
              "      <td>0.139114</td>\n",
              "      <td>0.322055</td>\n",
              "      <td>0.053225</td>\n",
              "      <td>0.000000</td>\n",
              "    </tr>\n",
              "  </tbody>\n",
              "</table>\n",
              "<p>610 rows × 610 columns</p>\n",
              "</div>\n",
              "      <button class=\"colab-df-convert\" onclick=\"convertToInteractive('df-30d331a7-e6cb-4f18-a701-725440f13d81')\"\n",
              "              title=\"Convert this dataframe to an interactive table.\"\n",
              "              style=\"display:none;\">\n",
              "        \n",
              "  <svg xmlns=\"http://www.w3.org/2000/svg\" height=\"24px\"viewBox=\"0 0 24 24\"\n",
              "       width=\"24px\">\n",
              "    <path d=\"M0 0h24v24H0V0z\" fill=\"none\"/>\n",
              "    <path d=\"M18.56 5.44l.94 2.06.94-2.06 2.06-.94-2.06-.94-.94-2.06-.94 2.06-2.06.94zm-11 1L8.5 8.5l.94-2.06 2.06-.94-2.06-.94L8.5 2.5l-.94 2.06-2.06.94zm10 10l.94 2.06.94-2.06 2.06-.94-2.06-.94-.94-2.06-.94 2.06-2.06.94z\"/><path d=\"M17.41 7.96l-1.37-1.37c-.4-.4-.92-.59-1.43-.59-.52 0-1.04.2-1.43.59L10.3 9.45l-7.72 7.72c-.78.78-.78 2.05 0 2.83L4 21.41c.39.39.9.59 1.41.59.51 0 1.02-.2 1.41-.59l7.78-7.78 2.81-2.81c.8-.78.8-2.07 0-2.86zM5.41 20L4 18.59l7.72-7.72 1.47 1.35L5.41 20z\"/>\n",
              "  </svg>\n",
              "      </button>\n",
              "      \n",
              "  <style>\n",
              "    .colab-df-container {\n",
              "      display:flex;\n",
              "      flex-wrap:wrap;\n",
              "      gap: 12px;\n",
              "    }\n",
              "\n",
              "    .colab-df-convert {\n",
              "      background-color: #E8F0FE;\n",
              "      border: none;\n",
              "      border-radius: 50%;\n",
              "      cursor: pointer;\n",
              "      display: none;\n",
              "      fill: #1967D2;\n",
              "      height: 32px;\n",
              "      padding: 0 0 0 0;\n",
              "      width: 32px;\n",
              "    }\n",
              "\n",
              "    .colab-df-convert:hover {\n",
              "      background-color: #E2EBFA;\n",
              "      box-shadow: 0px 1px 2px rgba(60, 64, 67, 0.3), 0px 1px 3px 1px rgba(60, 64, 67, 0.15);\n",
              "      fill: #174EA6;\n",
              "    }\n",
              "\n",
              "    [theme=dark] .colab-df-convert {\n",
              "      background-color: #3B4455;\n",
              "      fill: #D2E3FC;\n",
              "    }\n",
              "\n",
              "    [theme=dark] .colab-df-convert:hover {\n",
              "      background-color: #434B5C;\n",
              "      box-shadow: 0px 1px 3px 1px rgba(0, 0, 0, 0.15);\n",
              "      filter: drop-shadow(0px 1px 2px rgba(0, 0, 0, 0.3));\n",
              "      fill: #FFFFFF;\n",
              "    }\n",
              "  </style>\n",
              "\n",
              "      <script>\n",
              "        const buttonEl =\n",
              "          document.querySelector('#df-30d331a7-e6cb-4f18-a701-725440f13d81 button.colab-df-convert');\n",
              "        buttonEl.style.display =\n",
              "          google.colab.kernel.accessAllowed ? 'block' : 'none';\n",
              "\n",
              "        async function convertToInteractive(key) {\n",
              "          const element = document.querySelector('#df-30d331a7-e6cb-4f18-a701-725440f13d81');\n",
              "          const dataTable =\n",
              "            await google.colab.kernel.invokeFunction('convertToInteractive',\n",
              "                                                     [key], {});\n",
              "          if (!dataTable) return;\n",
              "\n",
              "          const docLinkHtml = 'Like what you see? Visit the ' +\n",
              "            '<a target=\"_blank\" href=https://colab.research.google.com/notebooks/data_table.ipynb>data table notebook</a>'\n",
              "            + ' to learn more about interactive tables.';\n",
              "          element.innerHTML = '';\n",
              "          dataTable['output_type'] = 'display_data';\n",
              "          await google.colab.output.renderOutput(dataTable, element);\n",
              "          const docLink = document.createElement('div');\n",
              "          docLink.innerHTML = docLinkHtml;\n",
              "          element.appendChild(docLink);\n",
              "        }\n",
              "      </script>\n",
              "    </div>\n",
              "  </div>\n",
              "  "
            ]
          },
          "metadata": {},
          "execution_count": 63
        }
      ],
      "source": [
        "ratings_matrix_users = df_movies_ratings.pivot_table(index=['userId'],columns=['movieId'],values='rating').reset_index(drop=True)\n",
        "ratings_matrix_users.fillna( 0, inplace = True )\n",
        "movie_similarity = 1 - pairwise_distances( ratings_matrix_users, metric=\"cosine\" )\n",
        "np.fill_diagonal( movie_similarity, 0 ) #Filling diagonals with 0s for future use when sorting is done\n",
        "ratings_matrix_users = pd.DataFrame( movie_similarity )\n",
        "ratings_matrix_users\n"
      ]
    },
    {
      "cell_type": "markdown",
      "metadata": {
        "id": "yxHkX7uoM0bH"
      },
      "source": [
        "Here now we have similarity of users in colums with respective users in row. So if we find maximum value in a column we will get the user with highest similarity. So now we can have a pair of users which are similar."
      ]
    },
    {
      "cell_type": "code",
      "execution_count": 64,
      "metadata": {
        "colab": {
          "base_uri": "https://localhost:8080/"
        },
        "id": "_LAnUG6gM0bI",
        "outputId": "4b749337-5c2f-4e8b-ba9e-b1d055dcb56d"
      },
      "outputs": [
        {
          "output_type": "execute_result",
          "data": {
            "text/plain": [
              "0      265\n",
              "1      365\n",
              "2      312\n",
              "3      390\n",
              "4      469\n",
              "      ... \n",
              "605    473\n",
              "606    569\n",
              "607    479\n",
              "608    339\n",
              "609    248\n",
              "Length: 610, dtype: int64"
            ]
          },
          "metadata": {},
          "execution_count": 64
        }
      ],
      "source": [
        "ratings_matrix_users.idxmax(axis=1)"
      ]
    },
    {
      "cell_type": "code",
      "execution_count": 65,
      "metadata": {
        "colab": {
          "base_uri": "https://localhost:8080/"
        },
        "id": "SGZHx0_8M0bJ",
        "outputId": "46a2e043-bc7b-4030-ca41-08750991af4e"
      },
      "outputs": [
        {
          "output_type": "execute_result",
          "data": {
            "text/plain": [
              "547     76\n",
              "241    467\n",
              "277    337\n",
              "348    454\n",
              "218    238\n",
              "407    278\n",
              "352     45\n",
              "97     600\n",
              "381     20\n",
              "607    479\n",
              "dtype: int64"
            ]
          },
          "metadata": {},
          "execution_count": 65
        }
      ],
      "source": [
        "ratings_matrix_users.idxmax(axis=1).sample( 10, random_state = 10 )"
      ]
    },
    {
      "cell_type": "code",
      "execution_count": 66,
      "metadata": {
        "id": "0d5FS-piM0bK"
      },
      "outputs": [],
      "source": [
        "similar_user_series= ratings_matrix_users.idxmax(axis=1)\n",
        "df_similar_user= similar_user_series.to_frame()"
      ]
    },
    {
      "cell_type": "code",
      "execution_count": 67,
      "metadata": {
        "id": "aFFyYR65M0bL"
      },
      "outputs": [],
      "source": [
        "df_similar_user.columns=['similarUser']"
      ]
    },
    {
      "cell_type": "code",
      "execution_count": 68,
      "metadata": {
        "colab": {
          "base_uri": "https://localhost:8080/",
          "height": 423
        },
        "id": "2JctKDI4M0bM",
        "outputId": "26b4afd6-427d-44e3-e27b-c547f4f69942"
      },
      "outputs": [
        {
          "output_type": "execute_result",
          "data": {
            "text/plain": [
              "     similarUser\n",
              "0            265\n",
              "1            365\n",
              "2            312\n",
              "3            390\n",
              "4            469\n",
              "..           ...\n",
              "605          473\n",
              "606          569\n",
              "607          479\n",
              "608          339\n",
              "609          248\n",
              "\n",
              "[610 rows x 1 columns]"
            ],
            "text/html": [
              "\n",
              "  <div id=\"df-7d363f08-0706-4a3d-ac75-002d64d18b5a\">\n",
              "    <div class=\"colab-df-container\">\n",
              "      <div>\n",
              "<style scoped>\n",
              "    .dataframe tbody tr th:only-of-type {\n",
              "        vertical-align: middle;\n",
              "    }\n",
              "\n",
              "    .dataframe tbody tr th {\n",
              "        vertical-align: top;\n",
              "    }\n",
              "\n",
              "    .dataframe thead th {\n",
              "        text-align: right;\n",
              "    }\n",
              "</style>\n",
              "<table border=\"1\" class=\"dataframe\">\n",
              "  <thead>\n",
              "    <tr style=\"text-align: right;\">\n",
              "      <th></th>\n",
              "      <th>similarUser</th>\n",
              "    </tr>\n",
              "  </thead>\n",
              "  <tbody>\n",
              "    <tr>\n",
              "      <th>0</th>\n",
              "      <td>265</td>\n",
              "    </tr>\n",
              "    <tr>\n",
              "      <th>1</th>\n",
              "      <td>365</td>\n",
              "    </tr>\n",
              "    <tr>\n",
              "      <th>2</th>\n",
              "      <td>312</td>\n",
              "    </tr>\n",
              "    <tr>\n",
              "      <th>3</th>\n",
              "      <td>390</td>\n",
              "    </tr>\n",
              "    <tr>\n",
              "      <th>4</th>\n",
              "      <td>469</td>\n",
              "    </tr>\n",
              "    <tr>\n",
              "      <th>...</th>\n",
              "      <td>...</td>\n",
              "    </tr>\n",
              "    <tr>\n",
              "      <th>605</th>\n",
              "      <td>473</td>\n",
              "    </tr>\n",
              "    <tr>\n",
              "      <th>606</th>\n",
              "      <td>569</td>\n",
              "    </tr>\n",
              "    <tr>\n",
              "      <th>607</th>\n",
              "      <td>479</td>\n",
              "    </tr>\n",
              "    <tr>\n",
              "      <th>608</th>\n",
              "      <td>339</td>\n",
              "    </tr>\n",
              "    <tr>\n",
              "      <th>609</th>\n",
              "      <td>248</td>\n",
              "    </tr>\n",
              "  </tbody>\n",
              "</table>\n",
              "<p>610 rows × 1 columns</p>\n",
              "</div>\n",
              "      <button class=\"colab-df-convert\" onclick=\"convertToInteractive('df-7d363f08-0706-4a3d-ac75-002d64d18b5a')\"\n",
              "              title=\"Convert this dataframe to an interactive table.\"\n",
              "              style=\"display:none;\">\n",
              "        \n",
              "  <svg xmlns=\"http://www.w3.org/2000/svg\" height=\"24px\"viewBox=\"0 0 24 24\"\n",
              "       width=\"24px\">\n",
              "    <path d=\"M0 0h24v24H0V0z\" fill=\"none\"/>\n",
              "    <path d=\"M18.56 5.44l.94 2.06.94-2.06 2.06-.94-2.06-.94-.94-2.06-.94 2.06-2.06.94zm-11 1L8.5 8.5l.94-2.06 2.06-.94-2.06-.94L8.5 2.5l-.94 2.06-2.06.94zm10 10l.94 2.06.94-2.06 2.06-.94-2.06-.94-.94-2.06-.94 2.06-2.06.94z\"/><path d=\"M17.41 7.96l-1.37-1.37c-.4-.4-.92-.59-1.43-.59-.52 0-1.04.2-1.43.59L10.3 9.45l-7.72 7.72c-.78.78-.78 2.05 0 2.83L4 21.41c.39.39.9.59 1.41.59.51 0 1.02-.2 1.41-.59l7.78-7.78 2.81-2.81c.8-.78.8-2.07 0-2.86zM5.41 20L4 18.59l7.72-7.72 1.47 1.35L5.41 20z\"/>\n",
              "  </svg>\n",
              "      </button>\n",
              "      \n",
              "  <style>\n",
              "    .colab-df-container {\n",
              "      display:flex;\n",
              "      flex-wrap:wrap;\n",
              "      gap: 12px;\n",
              "    }\n",
              "\n",
              "    .colab-df-convert {\n",
              "      background-color: #E8F0FE;\n",
              "      border: none;\n",
              "      border-radius: 50%;\n",
              "      cursor: pointer;\n",
              "      display: none;\n",
              "      fill: #1967D2;\n",
              "      height: 32px;\n",
              "      padding: 0 0 0 0;\n",
              "      width: 32px;\n",
              "    }\n",
              "\n",
              "    .colab-df-convert:hover {\n",
              "      background-color: #E2EBFA;\n",
              "      box-shadow: 0px 1px 2px rgba(60, 64, 67, 0.3), 0px 1px 3px 1px rgba(60, 64, 67, 0.15);\n",
              "      fill: #174EA6;\n",
              "    }\n",
              "\n",
              "    [theme=dark] .colab-df-convert {\n",
              "      background-color: #3B4455;\n",
              "      fill: #D2E3FC;\n",
              "    }\n",
              "\n",
              "    [theme=dark] .colab-df-convert:hover {\n",
              "      background-color: #434B5C;\n",
              "      box-shadow: 0px 1px 3px 1px rgba(0, 0, 0, 0.15);\n",
              "      filter: drop-shadow(0px 1px 2px rgba(0, 0, 0, 0.3));\n",
              "      fill: #FFFFFF;\n",
              "    }\n",
              "  </style>\n",
              "\n",
              "      <script>\n",
              "        const buttonEl =\n",
              "          document.querySelector('#df-7d363f08-0706-4a3d-ac75-002d64d18b5a button.colab-df-convert');\n",
              "        buttonEl.style.display =\n",
              "          google.colab.kernel.accessAllowed ? 'block' : 'none';\n",
              "\n",
              "        async function convertToInteractive(key) {\n",
              "          const element = document.querySelector('#df-7d363f08-0706-4a3d-ac75-002d64d18b5a');\n",
              "          const dataTable =\n",
              "            await google.colab.kernel.invokeFunction('convertToInteractive',\n",
              "                                                     [key], {});\n",
              "          if (!dataTable) return;\n",
              "\n",
              "          const docLinkHtml = 'Like what you see? Visit the ' +\n",
              "            '<a target=\"_blank\" href=https://colab.research.google.com/notebooks/data_table.ipynb>data table notebook</a>'\n",
              "            + ' to learn more about interactive tables.';\n",
              "          element.innerHTML = '';\n",
              "          dataTable['output_type'] = 'display_data';\n",
              "          await google.colab.output.renderOutput(dataTable, element);\n",
              "          const docLink = document.createElement('div');\n",
              "          docLink.innerHTML = docLinkHtml;\n",
              "          element.appendChild(docLink);\n",
              "        }\n",
              "      </script>\n",
              "    </div>\n",
              "  </div>\n",
              "  "
            ]
          },
          "metadata": {},
          "execution_count": 68
        }
      ],
      "source": [
        "df_similar_user"
      ]
    },
    {
      "cell_type": "markdown",
      "metadata": {
        "id": "PKiRDMP4M0bM"
      },
      "source": [
        "Below function takes id of the user to whom we have to recommend movies. On basis of that, we find the user which is similar to that user and then filter the movies which are highly rated by the user to recommend them to given user."
      ]
    },
    {
      "cell_type": "code",
      "execution_count": 69,
      "metadata": {
        "id": "hcG18-qrM0bN"
      },
      "outputs": [],
      "source": [
        "movieId_recommended=list()\n",
        "def getRecommendedMoviesAsperUserSimilarity(userId):\n",
        "    \"\"\"\n",
        "     Recommending movies which user hasn't watched as per User Similarity\n",
        "    :param user_id: user_id to whom movie needs to be recommended\n",
        "    :return: movieIds to user \n",
        "    \"\"\"\n",
        "    user2Movies= df_ratings[df_ratings['userId']== userId]['movieId']\n",
        "    sim_user=df_similar_user.iloc[0,0]\n",
        "    df_recommended=pd.DataFrame(columns=['movieId','title','genres','userId','rating','timestamp'])\n",
        "    for movieId in df_ratings[df_ratings['userId']== sim_user]['movieId']:\n",
        "        if movieId not in user2Movies:\n",
        "            df_new= df_movies_ratings[(df_movies_ratings.userId==sim_user) & (df_movies_ratings.movieId==movieId)]\n",
        "            df_recommended=pd.concat([df_recommended,df_new])\n",
        "        best10=df_recommended.sort_values(['rating'], ascending = False )[1:10]  \n",
        "    return best10['movieId']"
      ]
    },
    {
      "cell_type": "code",
      "execution_count": 70,
      "metadata": {
        "colab": {
          "base_uri": "https://localhost:8080/"
        },
        "id": "XZZJA7-CM0bO",
        "outputId": "bf35a482-851e-49eb-92e7-de4a7470a32d"
      },
      "outputs": [
        {
          "output_type": "stream",
          "name": "stdout",
          "text": [
            "Movies you should watch are:\n",
            "\n",
            "[1431    Rocky (1976)\n",
            "Name: title, dtype: object, 742    African Queen, The (1951)\n",
            "Name: title, dtype: object, 733    It's a Wonderful Life (1946)\n",
            "Name: title, dtype: object, 939    Terminator, The (1984)\n",
            "Name: title, dtype: object, 969    Back to the Future (1985)\n",
            "Name: title, dtype: object, 510    Silence of the Lambs, The (1991)\n",
            "Name: title, dtype: object, 1057    Star Trek II: The Wrath of Khan (1982)\n",
            "Name: title, dtype: object, 1059    Star Trek IV: The Voyage Home (1986)\n",
            "Name: title, dtype: object, 1939    Matrix, The (1999)\n",
            "Name: title, dtype: object]\n"
          ]
        }
      ],
      "source": [
        "user_id=50\n",
        "recommend_movies= movieIdToTitle(getRecommendedMoviesAsperUserSimilarity(user_id))\n",
        "print(\"Movies you should watch are:\\n\")\n",
        "print(recommend_movies)"
      ]
    },
    {
      "cell_type": "markdown",
      "metadata": {
        "id": "7B8l_iynM0bP"
      },
      "source": [
        "# Evaluating the model"
      ]
    },
    {
      "cell_type": "code",
      "execution_count": 71,
      "metadata": {
        "id": "iaJTsZaVM0bP"
      },
      "outputs": [],
      "source": [
        "def get_user_similar_movies( user1, user2 ):\n",
        "    \n",
        "    \"\"\"\n",
        "     Returning common movies and ratings of same for both the users\n",
        "    :param user1,user2: user ids of 2 users need to compare\n",
        "    :return: movieIds to user \n",
        "    \"\"\"\n",
        "    common_movies = df_movies_ratings[df_movies_ratings.userId == user1].merge(\n",
        "      df_movies_ratings[df_movies_ratings.userId == user2],\n",
        "      on = \"movieId\",\n",
        "      how = \"inner\" )\n",
        "    common_movies.drop(['movieId','genres_x','genres_y', 'timestamp_x','timestamp_y','title_y'],axis=1,inplace=True)\n",
        "    return common_movies"
      ]
    },
    {
      "cell_type": "code",
      "execution_count": 72,
      "metadata": {
        "colab": {
          "base_uri": "https://localhost:8080/",
          "height": 143
        },
        "id": "20jinvP6M0bR",
        "outputId": "f8f68891-262f-4db3-f95a-b6b25d4d686c"
      },
      "outputs": [
        {
          "output_type": "execute_result",
          "data": {
            "text/plain": [
              "                                      title_x  userId_x  rating_x  userId_y  \\\n",
              "0                         Forrest Gump (1994)       587       4.0       511   \n",
              "1  Life Is Beautiful (La Vita è bella) (1997)       587       5.0       511   \n",
              "2                          Matrix, The (1999)       587       4.0       511   \n",
              "\n",
              "   rating_y  \n",
              "0       4.5  \n",
              "1       4.5  \n",
              "2       5.0  "
            ],
            "text/html": [
              "\n",
              "  <div id=\"df-f1a24d0c-d857-451e-a822-905529366326\">\n",
              "    <div class=\"colab-df-container\">\n",
              "      <div>\n",
              "<style scoped>\n",
              "    .dataframe tbody tr th:only-of-type {\n",
              "        vertical-align: middle;\n",
              "    }\n",
              "\n",
              "    .dataframe tbody tr th {\n",
              "        vertical-align: top;\n",
              "    }\n",
              "\n",
              "    .dataframe thead th {\n",
              "        text-align: right;\n",
              "    }\n",
              "</style>\n",
              "<table border=\"1\" class=\"dataframe\">\n",
              "  <thead>\n",
              "    <tr style=\"text-align: right;\">\n",
              "      <th></th>\n",
              "      <th>title_x</th>\n",
              "      <th>userId_x</th>\n",
              "      <th>rating_x</th>\n",
              "      <th>userId_y</th>\n",
              "      <th>rating_y</th>\n",
              "    </tr>\n",
              "  </thead>\n",
              "  <tbody>\n",
              "    <tr>\n",
              "      <th>0</th>\n",
              "      <td>Forrest Gump (1994)</td>\n",
              "      <td>587</td>\n",
              "      <td>4.0</td>\n",
              "      <td>511</td>\n",
              "      <td>4.5</td>\n",
              "    </tr>\n",
              "    <tr>\n",
              "      <th>1</th>\n",
              "      <td>Life Is Beautiful (La Vita è bella) (1997)</td>\n",
              "      <td>587</td>\n",
              "      <td>5.0</td>\n",
              "      <td>511</td>\n",
              "      <td>4.5</td>\n",
              "    </tr>\n",
              "    <tr>\n",
              "      <th>2</th>\n",
              "      <td>Matrix, The (1999)</td>\n",
              "      <td>587</td>\n",
              "      <td>4.0</td>\n",
              "      <td>511</td>\n",
              "      <td>5.0</td>\n",
              "    </tr>\n",
              "  </tbody>\n",
              "</table>\n",
              "</div>\n",
              "      <button class=\"colab-df-convert\" onclick=\"convertToInteractive('df-f1a24d0c-d857-451e-a822-905529366326')\"\n",
              "              title=\"Convert this dataframe to an interactive table.\"\n",
              "              style=\"display:none;\">\n",
              "        \n",
              "  <svg xmlns=\"http://www.w3.org/2000/svg\" height=\"24px\"viewBox=\"0 0 24 24\"\n",
              "       width=\"24px\">\n",
              "    <path d=\"M0 0h24v24H0V0z\" fill=\"none\"/>\n",
              "    <path d=\"M18.56 5.44l.94 2.06.94-2.06 2.06-.94-2.06-.94-.94-2.06-.94 2.06-2.06.94zm-11 1L8.5 8.5l.94-2.06 2.06-.94-2.06-.94L8.5 2.5l-.94 2.06-2.06.94zm10 10l.94 2.06.94-2.06 2.06-.94-2.06-.94-.94-2.06-.94 2.06-2.06.94z\"/><path d=\"M17.41 7.96l-1.37-1.37c-.4-.4-.92-.59-1.43-.59-.52 0-1.04.2-1.43.59L10.3 9.45l-7.72 7.72c-.78.78-.78 2.05 0 2.83L4 21.41c.39.39.9.59 1.41.59.51 0 1.02-.2 1.41-.59l7.78-7.78 2.81-2.81c.8-.78.8-2.07 0-2.86zM5.41 20L4 18.59l7.72-7.72 1.47 1.35L5.41 20z\"/>\n",
              "  </svg>\n",
              "      </button>\n",
              "      \n",
              "  <style>\n",
              "    .colab-df-container {\n",
              "      display:flex;\n",
              "      flex-wrap:wrap;\n",
              "      gap: 12px;\n",
              "    }\n",
              "\n",
              "    .colab-df-convert {\n",
              "      background-color: #E8F0FE;\n",
              "      border: none;\n",
              "      border-radius: 50%;\n",
              "      cursor: pointer;\n",
              "      display: none;\n",
              "      fill: #1967D2;\n",
              "      height: 32px;\n",
              "      padding: 0 0 0 0;\n",
              "      width: 32px;\n",
              "    }\n",
              "\n",
              "    .colab-df-convert:hover {\n",
              "      background-color: #E2EBFA;\n",
              "      box-shadow: 0px 1px 2px rgba(60, 64, 67, 0.3), 0px 1px 3px 1px rgba(60, 64, 67, 0.15);\n",
              "      fill: #174EA6;\n",
              "    }\n",
              "\n",
              "    [theme=dark] .colab-df-convert {\n",
              "      background-color: #3B4455;\n",
              "      fill: #D2E3FC;\n",
              "    }\n",
              "\n",
              "    [theme=dark] .colab-df-convert:hover {\n",
              "      background-color: #434B5C;\n",
              "      box-shadow: 0px 1px 3px 1px rgba(0, 0, 0, 0.15);\n",
              "      filter: drop-shadow(0px 1px 2px rgba(0, 0, 0, 0.3));\n",
              "      fill: #FFFFFF;\n",
              "    }\n",
              "  </style>\n",
              "\n",
              "      <script>\n",
              "        const buttonEl =\n",
              "          document.querySelector('#df-f1a24d0c-d857-451e-a822-905529366326 button.colab-df-convert');\n",
              "        buttonEl.style.display =\n",
              "          google.colab.kernel.accessAllowed ? 'block' : 'none';\n",
              "\n",
              "        async function convertToInteractive(key) {\n",
              "          const element = document.querySelector('#df-f1a24d0c-d857-451e-a822-905529366326');\n",
              "          const dataTable =\n",
              "            await google.colab.kernel.invokeFunction('convertToInteractive',\n",
              "                                                     [key], {});\n",
              "          if (!dataTable) return;\n",
              "\n",
              "          const docLinkHtml = 'Like what you see? Visit the ' +\n",
              "            '<a target=\"_blank\" href=https://colab.research.google.com/notebooks/data_table.ipynb>data table notebook</a>'\n",
              "            + ' to learn more about interactive tables.';\n",
              "          element.innerHTML = '';\n",
              "          dataTable['output_type'] = 'display_data';\n",
              "          await google.colab.output.renderOutput(dataTable, element);\n",
              "          const docLink = document.createElement('div');\n",
              "          docLink.innerHTML = docLinkHtml;\n",
              "          element.appendChild(docLink);\n",
              "        }\n",
              "      </script>\n",
              "    </div>\n",
              "  </div>\n",
              "  "
            ]
          },
          "metadata": {},
          "execution_count": 72
        }
      ],
      "source": [
        "get_user_similar_movies(587,511)"
      ]
    },
    {
      "cell_type": "markdown",
      "metadata": {
        "id": "elFAaZpRM0bR"
      },
      "source": [
        "## Pros and Cons of two methods\n",
        "\n",
        "Challenges with User similarity\n",
        "- The challenge with calculating user similarity is the user need to have some prior purchases and should have rated them.\n",
        "- This recommendation technique does not work for new users.\n",
        "- The system need to wait until the user make some purchases and rates them. Only then similar users can be found and recommendations can be made. This is called cold start problem."
      ]
    },
    {
      "cell_type": "markdown",
      "metadata": {
        "id": "RAeag85VM0bS"
      },
      "source": [
        "# Single Value Decomposition"
      ]
    },
    {
      "cell_type": "markdown",
      "metadata": {
        "id": "GgKTQuRHM0bT"
      },
      "source": [
        "Singular value decomposition is a method of decomposing a matrix into three other matrices:"
      ]
    },
    {
      "cell_type": "markdown",
      "metadata": {
        "id": "Ij5MFK_MM0bU"
      },
      "source": [
        "<img src=\"https://cdn-images-1.medium.com/max/1600/0*i4rDKIAE0o1ZXtBd.\">"
      ]
    },
    {
      "cell_type": "markdown",
      "metadata": {
        "id": "fc3vp_byM0bV"
      },
      "source": [
        "<div align=\"center\">\n",
        "  (1)\n",
        "</div>"
      ]
    },
    {
      "cell_type": "markdown",
      "metadata": {
        "id": "L6dNIV2uM0bW"
      },
      "source": [
        "Where:\n",
        "\n",
        "    A is an m × n matrix\n",
        "    U is an m × r orthogonal matrix\n",
        "    S is an r × r diagonal matrix\n",
        "    V is an r × n orthogonal matrix"
      ]
    },
    {
      "cell_type": "markdown",
      "metadata": {
        "id": "tGMKoUhSM0bW"
      },
      "source": [
        "<img src=\"https://cdn-images-1.medium.com/max/1600/0*mpQRslOtBoqfcdP7.\">"
      ]
    },
    {
      "cell_type": "markdown",
      "metadata": {
        "id": "1s0DeLH2M0bX"
      },
      "source": [
        "Note how we’ve collapsed the diagonal matrix, S, into a vector, thus simplifying the expression into a single summation. The variables, {sᵢ}, are called singular values and are normally arranged from largest to smallest:"
      ]
    },
    {
      "cell_type": "markdown",
      "metadata": {
        "id": "rNH1KcLuM0bY"
      },
      "source": [
        "<img src=\"https://cdn-images-1.medium.com/max/1600/0*7J7tN93BocfX5ZbA.\">"
      ]
    },
    {
      "cell_type": "markdown",
      "metadata": {
        "id": "k96GgamBM0bY"
      },
      "source": [
        "The columns of U are called left singular vectors, while those of V are called right singular vectors.\n",
        "\n",
        "We know that U and V are orthogonal, that is:"
      ]
    },
    {
      "cell_type": "markdown",
      "metadata": {
        "id": "2CEr_cxXM0bZ"
      },
      "source": [
        "<img src=\"https://cdn-images-1.medium.com/max/1600/0*SHyyI8TOYFxCbLbw.\">"
      ]
    },
    {
      "cell_type": "markdown",
      "metadata": {
        "id": "8iG6tEIOM0bn"
      },
      "source": [
        "Where I is the identity matrix. Only the diagonals of the identity matrix are 1, with all other values being 0. Note that because U is not square we cannot say that U Transpose(U)=I, so U is only orthogonal in one direction.\n",
        "\n",
        "Using the orthogonality property, we can rearrange (1) into the following pair of eigenvalue equations:"
      ]
    },
    {
      "cell_type": "markdown",
      "metadata": {
        "id": "faKEsLrVM0bo"
      },
      "source": [
        "### Data reduction\n",
        "A typical machine learning problem might have several hundred or more variables, while many machine learning algorithms will break down if presented with more than a few dozen. This makes singular value decomposition indispensable in ML for variable reduction.\n",
        "\n",
        "We have already seen in Equation (6) how an SVD with a reduced number of singular values can closely approximate a matrix. This can be used for data compression by storing the truncated forms of U, S, and V in place of A and for variable reduction by replacing A with U."
      ]
    },
    {
      "cell_type": "markdown",
      "metadata": {
        "id": "G_TJbUDOM0bp"
      },
      "source": [
        "## Matrix Factorization"
      ]
    },
    {
      "cell_type": "markdown",
      "metadata": {
        "id": "-5mPRBvUM0bp"
      },
      "source": [
        "Memory-based collaborative filtering approaches that compute distance relationships between items or users have these two major issues:\n",
        "\n",
        "* It doesn’t scale particularly well to massive datasets, especially for real-time recommendations based on user behavior similarities — which takes a lot of computations.\n",
        "* Ratings matrices may be overfitting to noisy representations of user tastes and preferences. When we use distance based “neighborhood” approaches on raw data, we match to sparse low-level details that we assume represent the user’s preference vector instead of the vector itself."
      ]
    },
    {
      "cell_type": "markdown",
      "metadata": {
        "id": "9XGstu4wM0bq"
      },
      "source": [
        "<img src=\"https://cdn-images-1.medium.com/max/1600/1*bWAAyciKq580ArTix_O3nw.jpeg\">"
      ]
    },
    {
      "cell_type": "markdown",
      "metadata": {
        "id": "OUUwvx8UM0br"
      },
      "source": [
        "Thus we need to apply Dimensionality Reduction technique to derive the tastes and preferences from the raw data, otherwise known as doing <b>low-rank matrix factorization</b>.\n",
        "\n",
        "   * We can discover hidden correlations / features in the raw data.\n",
        "   * We can remove redundant and noisy features that are not useful.\n",
        "   * We can interpret and visualize the data easier.\n",
        "   * We can also access easier data storage and processing.\n"
      ]
    },
    {
      "cell_type": "markdown",
      "metadata": {
        "id": "kPDdMziHM0br"
      },
      "source": [
        "### Let's try out the same in Python"
      ]
    },
    {
      "cell_type": "code",
      "execution_count": 73,
      "metadata": {
        "id": "t8MDG27yM0bs"
      },
      "outputs": [],
      "source": [
        "# Import libraries\n",
        "import numpy as np\n",
        "import pandas as pd\n",
        "\n",
        "# Reading ratings file\n",
        "ratings = pd.read_csv('/content/drive/MyDrive/MOVIE/ratings.csv', sep=',', encoding='latin-1', usecols=['userId','movieId','rating','timestamp'])\n",
        "\n",
        "# Reading users file\n",
        "#users = pd.read_csv('users.dat', sep='\\t', encoding='latin-1', usecols=['user_id', 'gender', 'zipcode', 'age_desc', 'occ_desc'])\n",
        "\n",
        "# Reading movies file\n",
        "movies = pd.read_csv('/content/drive/MyDrive/MOVIE/movies.csv', sep=',', encoding='latin-1', usecols=['movieId','title','genres'])"
      ]
    },
    {
      "cell_type": "code",
      "execution_count": 74,
      "metadata": {
        "colab": {
          "base_uri": "https://localhost:8080/"
        },
        "id": "d84F11zXM0bt",
        "outputId": "76d3aec0-eb60-45b2-eb0f-c88f526d5eb6"
      },
      "outputs": [
        {
          "output_type": "stream",
          "name": "stdout",
          "text": [
            "Number of users = 610 | Number of movies = 9724\n"
          ]
        }
      ],
      "source": [
        "n_users = ratings.userId.unique().shape[0]\n",
        "n_movies = ratings.movieId.unique().shape[0]\n",
        "print('Number of users = ' + str(n_users) + ' | Number of movies = ' + str(n_movies))"
      ]
    },
    {
      "cell_type": "markdown",
      "metadata": {
        "id": "nNqx75JCM0bu"
      },
      "source": [
        "Now we want the format of our ratings matrix to be one row per user and one column per movie. To do so, we willl pivot ratings to get that and call the new variable Ratings (with a capital *R)."
      ]
    },
    {
      "cell_type": "code",
      "execution_count": 75,
      "metadata": {
        "colab": {
          "base_uri": "https://localhost:8080/",
          "height": 267
        },
        "id": "PrpjL_RVM0bu",
        "outputId": "bf3f8ef1-c855-474b-bbfd-95a703ca6758"
      },
      "outputs": [
        {
          "output_type": "execute_result",
          "data": {
            "text/plain": [
              "movieId  1       2       3       4       5       6       7       8       \\\n",
              "userId                                                                    \n",
              "1           4.0     0.0     4.0     0.0     0.0     4.0     0.0     0.0   \n",
              "2           0.0     0.0     0.0     0.0     0.0     0.0     0.0     0.0   \n",
              "3           0.0     0.0     0.0     0.0     0.0     0.0     0.0     0.0   \n",
              "4           0.0     0.0     0.0     0.0     0.0     0.0     0.0     0.0   \n",
              "5           4.0     0.0     0.0     0.0     0.0     0.0     0.0     0.0   \n",
              "\n",
              "movieId  9       10      ...  193565  193567  193571  193573  193579  193581  \\\n",
              "userId                   ...                                                   \n",
              "1           0.0     0.0  ...     0.0     0.0     0.0     0.0     0.0     0.0   \n",
              "2           0.0     0.0  ...     0.0     0.0     0.0     0.0     0.0     0.0   \n",
              "3           0.0     0.0  ...     0.0     0.0     0.0     0.0     0.0     0.0   \n",
              "4           0.0     0.0  ...     0.0     0.0     0.0     0.0     0.0     0.0   \n",
              "5           0.0     0.0  ...     0.0     0.0     0.0     0.0     0.0     0.0   \n",
              "\n",
              "movieId  193583  193585  193587  193609  \n",
              "userId                                   \n",
              "1           0.0     0.0     0.0     0.0  \n",
              "2           0.0     0.0     0.0     0.0  \n",
              "3           0.0     0.0     0.0     0.0  \n",
              "4           0.0     0.0     0.0     0.0  \n",
              "5           0.0     0.0     0.0     0.0  \n",
              "\n",
              "[5 rows x 9724 columns]"
            ],
            "text/html": [
              "\n",
              "  <div id=\"df-a73e14bd-7efc-4ce8-a2b9-f73e65145171\">\n",
              "    <div class=\"colab-df-container\">\n",
              "      <div>\n",
              "<style scoped>\n",
              "    .dataframe tbody tr th:only-of-type {\n",
              "        vertical-align: middle;\n",
              "    }\n",
              "\n",
              "    .dataframe tbody tr th {\n",
              "        vertical-align: top;\n",
              "    }\n",
              "\n",
              "    .dataframe thead th {\n",
              "        text-align: right;\n",
              "    }\n",
              "</style>\n",
              "<table border=\"1\" class=\"dataframe\">\n",
              "  <thead>\n",
              "    <tr style=\"text-align: right;\">\n",
              "      <th>movieId</th>\n",
              "      <th>1</th>\n",
              "      <th>2</th>\n",
              "      <th>3</th>\n",
              "      <th>4</th>\n",
              "      <th>5</th>\n",
              "      <th>6</th>\n",
              "      <th>7</th>\n",
              "      <th>8</th>\n",
              "      <th>9</th>\n",
              "      <th>10</th>\n",
              "      <th>...</th>\n",
              "      <th>193565</th>\n",
              "      <th>193567</th>\n",
              "      <th>193571</th>\n",
              "      <th>193573</th>\n",
              "      <th>193579</th>\n",
              "      <th>193581</th>\n",
              "      <th>193583</th>\n",
              "      <th>193585</th>\n",
              "      <th>193587</th>\n",
              "      <th>193609</th>\n",
              "    </tr>\n",
              "    <tr>\n",
              "      <th>userId</th>\n",
              "      <th></th>\n",
              "      <th></th>\n",
              "      <th></th>\n",
              "      <th></th>\n",
              "      <th></th>\n",
              "      <th></th>\n",
              "      <th></th>\n",
              "      <th></th>\n",
              "      <th></th>\n",
              "      <th></th>\n",
              "      <th></th>\n",
              "      <th></th>\n",
              "      <th></th>\n",
              "      <th></th>\n",
              "      <th></th>\n",
              "      <th></th>\n",
              "      <th></th>\n",
              "      <th></th>\n",
              "      <th></th>\n",
              "      <th></th>\n",
              "      <th></th>\n",
              "    </tr>\n",
              "  </thead>\n",
              "  <tbody>\n",
              "    <tr>\n",
              "      <th>1</th>\n",
              "      <td>4.0</td>\n",
              "      <td>0.0</td>\n",
              "      <td>4.0</td>\n",
              "      <td>0.0</td>\n",
              "      <td>0.0</td>\n",
              "      <td>4.0</td>\n",
              "      <td>0.0</td>\n",
              "      <td>0.0</td>\n",
              "      <td>0.0</td>\n",
              "      <td>0.0</td>\n",
              "      <td>...</td>\n",
              "      <td>0.0</td>\n",
              "      <td>0.0</td>\n",
              "      <td>0.0</td>\n",
              "      <td>0.0</td>\n",
              "      <td>0.0</td>\n",
              "      <td>0.0</td>\n",
              "      <td>0.0</td>\n",
              "      <td>0.0</td>\n",
              "      <td>0.0</td>\n",
              "      <td>0.0</td>\n",
              "    </tr>\n",
              "    <tr>\n",
              "      <th>2</th>\n",
              "      <td>0.0</td>\n",
              "      <td>0.0</td>\n",
              "      <td>0.0</td>\n",
              "      <td>0.0</td>\n",
              "      <td>0.0</td>\n",
              "      <td>0.0</td>\n",
              "      <td>0.0</td>\n",
              "      <td>0.0</td>\n",
              "      <td>0.0</td>\n",
              "      <td>0.0</td>\n",
              "      <td>...</td>\n",
              "      <td>0.0</td>\n",
              "      <td>0.0</td>\n",
              "      <td>0.0</td>\n",
              "      <td>0.0</td>\n",
              "      <td>0.0</td>\n",
              "      <td>0.0</td>\n",
              "      <td>0.0</td>\n",
              "      <td>0.0</td>\n",
              "      <td>0.0</td>\n",
              "      <td>0.0</td>\n",
              "    </tr>\n",
              "    <tr>\n",
              "      <th>3</th>\n",
              "      <td>0.0</td>\n",
              "      <td>0.0</td>\n",
              "      <td>0.0</td>\n",
              "      <td>0.0</td>\n",
              "      <td>0.0</td>\n",
              "      <td>0.0</td>\n",
              "      <td>0.0</td>\n",
              "      <td>0.0</td>\n",
              "      <td>0.0</td>\n",
              "      <td>0.0</td>\n",
              "      <td>...</td>\n",
              "      <td>0.0</td>\n",
              "      <td>0.0</td>\n",
              "      <td>0.0</td>\n",
              "      <td>0.0</td>\n",
              "      <td>0.0</td>\n",
              "      <td>0.0</td>\n",
              "      <td>0.0</td>\n",
              "      <td>0.0</td>\n",
              "      <td>0.0</td>\n",
              "      <td>0.0</td>\n",
              "    </tr>\n",
              "    <tr>\n",
              "      <th>4</th>\n",
              "      <td>0.0</td>\n",
              "      <td>0.0</td>\n",
              "      <td>0.0</td>\n",
              "      <td>0.0</td>\n",
              "      <td>0.0</td>\n",
              "      <td>0.0</td>\n",
              "      <td>0.0</td>\n",
              "      <td>0.0</td>\n",
              "      <td>0.0</td>\n",
              "      <td>0.0</td>\n",
              "      <td>...</td>\n",
              "      <td>0.0</td>\n",
              "      <td>0.0</td>\n",
              "      <td>0.0</td>\n",
              "      <td>0.0</td>\n",
              "      <td>0.0</td>\n",
              "      <td>0.0</td>\n",
              "      <td>0.0</td>\n",
              "      <td>0.0</td>\n",
              "      <td>0.0</td>\n",
              "      <td>0.0</td>\n",
              "    </tr>\n",
              "    <tr>\n",
              "      <th>5</th>\n",
              "      <td>4.0</td>\n",
              "      <td>0.0</td>\n",
              "      <td>0.0</td>\n",
              "      <td>0.0</td>\n",
              "      <td>0.0</td>\n",
              "      <td>0.0</td>\n",
              "      <td>0.0</td>\n",
              "      <td>0.0</td>\n",
              "      <td>0.0</td>\n",
              "      <td>0.0</td>\n",
              "      <td>...</td>\n",
              "      <td>0.0</td>\n",
              "      <td>0.0</td>\n",
              "      <td>0.0</td>\n",
              "      <td>0.0</td>\n",
              "      <td>0.0</td>\n",
              "      <td>0.0</td>\n",
              "      <td>0.0</td>\n",
              "      <td>0.0</td>\n",
              "      <td>0.0</td>\n",
              "      <td>0.0</td>\n",
              "    </tr>\n",
              "  </tbody>\n",
              "</table>\n",
              "<p>5 rows × 9724 columns</p>\n",
              "</div>\n",
              "      <button class=\"colab-df-convert\" onclick=\"convertToInteractive('df-a73e14bd-7efc-4ce8-a2b9-f73e65145171')\"\n",
              "              title=\"Convert this dataframe to an interactive table.\"\n",
              "              style=\"display:none;\">\n",
              "        \n",
              "  <svg xmlns=\"http://www.w3.org/2000/svg\" height=\"24px\"viewBox=\"0 0 24 24\"\n",
              "       width=\"24px\">\n",
              "    <path d=\"M0 0h24v24H0V0z\" fill=\"none\"/>\n",
              "    <path d=\"M18.56 5.44l.94 2.06.94-2.06 2.06-.94-2.06-.94-.94-2.06-.94 2.06-2.06.94zm-11 1L8.5 8.5l.94-2.06 2.06-.94-2.06-.94L8.5 2.5l-.94 2.06-2.06.94zm10 10l.94 2.06.94-2.06 2.06-.94-2.06-.94-.94-2.06-.94 2.06-2.06.94z\"/><path d=\"M17.41 7.96l-1.37-1.37c-.4-.4-.92-.59-1.43-.59-.52 0-1.04.2-1.43.59L10.3 9.45l-7.72 7.72c-.78.78-.78 2.05 0 2.83L4 21.41c.39.39.9.59 1.41.59.51 0 1.02-.2 1.41-.59l7.78-7.78 2.81-2.81c.8-.78.8-2.07 0-2.86zM5.41 20L4 18.59l7.72-7.72 1.47 1.35L5.41 20z\"/>\n",
              "  </svg>\n",
              "      </button>\n",
              "      \n",
              "  <style>\n",
              "    .colab-df-container {\n",
              "      display:flex;\n",
              "      flex-wrap:wrap;\n",
              "      gap: 12px;\n",
              "    }\n",
              "\n",
              "    .colab-df-convert {\n",
              "      background-color: #E8F0FE;\n",
              "      border: none;\n",
              "      border-radius: 50%;\n",
              "      cursor: pointer;\n",
              "      display: none;\n",
              "      fill: #1967D2;\n",
              "      height: 32px;\n",
              "      padding: 0 0 0 0;\n",
              "      width: 32px;\n",
              "    }\n",
              "\n",
              "    .colab-df-convert:hover {\n",
              "      background-color: #E2EBFA;\n",
              "      box-shadow: 0px 1px 2px rgba(60, 64, 67, 0.3), 0px 1px 3px 1px rgba(60, 64, 67, 0.15);\n",
              "      fill: #174EA6;\n",
              "    }\n",
              "\n",
              "    [theme=dark] .colab-df-convert {\n",
              "      background-color: #3B4455;\n",
              "      fill: #D2E3FC;\n",
              "    }\n",
              "\n",
              "    [theme=dark] .colab-df-convert:hover {\n",
              "      background-color: #434B5C;\n",
              "      box-shadow: 0px 1px 3px 1px rgba(0, 0, 0, 0.15);\n",
              "      filter: drop-shadow(0px 1px 2px rgba(0, 0, 0, 0.3));\n",
              "      fill: #FFFFFF;\n",
              "    }\n",
              "  </style>\n",
              "\n",
              "      <script>\n",
              "        const buttonEl =\n",
              "          document.querySelector('#df-a73e14bd-7efc-4ce8-a2b9-f73e65145171 button.colab-df-convert');\n",
              "        buttonEl.style.display =\n",
              "          google.colab.kernel.accessAllowed ? 'block' : 'none';\n",
              "\n",
              "        async function convertToInteractive(key) {\n",
              "          const element = document.querySelector('#df-a73e14bd-7efc-4ce8-a2b9-f73e65145171');\n",
              "          const dataTable =\n",
              "            await google.colab.kernel.invokeFunction('convertToInteractive',\n",
              "                                                     [key], {});\n",
              "          if (!dataTable) return;\n",
              "\n",
              "          const docLinkHtml = 'Like what you see? Visit the ' +\n",
              "            '<a target=\"_blank\" href=https://colab.research.google.com/notebooks/data_table.ipynb>data table notebook</a>'\n",
              "            + ' to learn more about interactive tables.';\n",
              "          element.innerHTML = '';\n",
              "          dataTable['output_type'] = 'display_data';\n",
              "          await google.colab.output.renderOutput(dataTable, element);\n",
              "          const docLink = document.createElement('div');\n",
              "          docLink.innerHTML = docLinkHtml;\n",
              "          element.appendChild(docLink);\n",
              "        }\n",
              "      </script>\n",
              "    </div>\n",
              "  </div>\n",
              "  "
            ]
          },
          "metadata": {},
          "execution_count": 75
        }
      ],
      "source": [
        "Ratings = ratings.pivot(index = 'userId', columns ='movieId', values = 'rating').fillna(0)\n",
        "Ratings.head()"
      ]
    },
    {
      "cell_type": "markdown",
      "metadata": {
        "id": "XrcT8vvTM0bw"
      },
      "source": [
        "Last but not least, we need to de-normalize the data (normalize by each users mean) and convert it from a dataframe to a numpy array."
      ]
    },
    {
      "cell_type": "code",
      "execution_count": 76,
      "metadata": {
        "scrolled": false,
        "colab": {
          "base_uri": "https://localhost:8080/"
        },
        "id": "er5D6p0zM0bw",
        "outputId": "a6a12b11-b411-4181-b2a6-0e5e9def8c4c"
      },
      "outputs": [
        {
          "output_type": "stream",
          "name": "stdout",
          "text": [
            "(610,)\n",
            "610\n"
          ]
        }
      ],
      "source": [
        "Ratings\n",
        "#print(R)\n",
        "user_ratings_mean = np.mean(Ratings, axis = 1)\n",
        "print(user_ratings_mean.shape)\n",
        "print(user_ratings_mean.size)\n",
        "Ratings_demeaned = Ratings - user_ratings_mean.values.reshape(-1, 1) ## Making the user_ratings_mean vertical by reshaping\n"
      ]
    },
    {
      "cell_type": "markdown",
      "metadata": {
        "id": "Nd-ZY1i9M0bx"
      },
      "source": [
        "With our ratings matrix properly formatted and normalized, we are ready to do some dimensionality reduction. But first, let's go over the math."
      ]
    },
    {
      "cell_type": "markdown",
      "metadata": {
        "id": "bKTct4azM0bx"
      },
      "source": [
        "## Model-Based Collaborative Filtering"
      ]
    },
    {
      "cell_type": "markdown",
      "metadata": {
        "id": "3pslc6FMM0by"
      },
      "source": [
        "<b>Model-based Collaborative Filtering</b> is based on matrix factorization (MF) which has received greater exposure, mainly as an unsupervised learning method for latent variable decomposition and dimensionality reduction. Matrix factorization is widely used for recommender systems where it can deal better with scalability and sparsity than Memory-based CF:\n",
        "\n",
        "   * The goal of MF is to learn the latent preferences of users and the latent attributes of items from known ratings (learn features that describe the characteristics of ratings) to then predict the unknown ratings through the dot product of the latent features of users and items.\n",
        "   * When you have a very sparse matrix, with a lot of dimensions, by doing matrix factorization, you can restructure the user-item matrix into low-rank structure, and you can represent the matrix by the multiplication of two low-rank matrices, where the rows contain the latent vector.\n",
        "   * You fit this matrix to approximate your original matrix, as closely as possible, by multiplying the low-rank matrices together, which fills in the entries missing in the original matrix.\n",
        "\n",
        "For example, let's check the sparsity of the ratings dataset:"
      ]
    },
    {
      "cell_type": "code",
      "execution_count": 77,
      "metadata": {
        "colab": {
          "base_uri": "https://localhost:8080/"
        },
        "id": "MmW59uEUM0bz",
        "outputId": "d2abe8ef-d82c-4340-d66d-94469cabe608"
      },
      "outputs": [
        {
          "output_type": "stream",
          "name": "stdout",
          "text": [
            "The sparsity level of MovieLens100K dataset is 98.3%\n"
          ]
        }
      ],
      "source": [
        "sparsity = round(1.0 - len(ratings) / float(n_users * n_movies), 3)\n",
        "print('The sparsity level of MovieLens100K dataset is ' +  str(sparsity * 100) + '%')"
      ]
    },
    {
      "cell_type": "markdown",
      "metadata": {
        "id": "2vmw6YneM0b0"
      },
      "source": [
        "A well-known matrix factorization method is Singular value decomposition (SVD). At a high level, SVD is an algorithm that decomposes a matrix $A$ into the best lower rank (i.e. smaller/simpler) approximation of the original matrix $A$. Mathematically, it decomposes A into a two unitary matrices and a diagonal matrix:"
      ]
    },
    {
      "cell_type": "markdown",
      "metadata": {
        "id": "MkjSC9dQM0b1"
      },
      "source": [
        "<img src=\"https://cdn-images-1.medium.com/max/1600/1*W4MnB2hyvgqedLmwJLrpqw.png\">"
      ]
    },
    {
      "cell_type": "markdown",
      "metadata": {
        "id": "R1aDDXX7M0b1"
      },
      "source": [
        "where $A$ is the input data matrix (users's ratings), $U$ is the left singular vectors (user \"features\" matrix), $\\Sigma$ is the diagonal matrix of singular values (essentially weights/strengths of each concept), and  $V^{T}$ is the right singluar vectors (movie \"features\" matrix). $U$ and $V^{T}$ are column orthonomal, and represent different things. $U$ represents how much users \"like\" each feature and $V^{T}$ represents how relevant each feature is to each movie.\n",
        "\n",
        "To get the lower rank approximation, I take these matrices and keep only the top $k$ features, which can be thought of as the underlying tastes and preferences vectors."
      ]
    },
    {
      "cell_type": "markdown",
      "metadata": {
        "id": "I1MFbOH_M0b2"
      },
      "source": [
        "## Setting Up SVD"
      ]
    },
    {
      "cell_type": "markdown",
      "metadata": {
        "id": "4TFZSZ89M0b3"
      },
      "source": [
        "Scipy and Numpy both have functions to do the singular value decomposition. We are going to use the Scipy function svds because it let’s us choose how many latent factors we want to use to approximate the original ratings matrix (instead of having to truncate it after)."
      ]
    },
    {
      "cell_type": "code",
      "execution_count": 78,
      "metadata": {
        "id": "7ZMkTVfKM0b4"
      },
      "outputs": [],
      "source": [
        "from scipy.sparse.linalg import svds "
      ]
    },
    {
      "cell_type": "code",
      "execution_count": 79,
      "metadata": {
        "colab": {
          "base_uri": "https://localhost:8080/"
        },
        "id": "NnW_gJxfM0b4",
        "outputId": "ac469a47-e5e8-41bd-ee51-d0b151926a5b"
      },
      "outputs": [
        {
          "output_type": "stream",
          "name": "stdout",
          "text": [
            "Help on function svds in module scipy.sparse.linalg.eigen.arpack.arpack:\n",
            "\n",
            "svds(A, k=6, ncv=None, tol=0, which='LM', v0=None, maxiter=None, return_singular_vectors=True, solver='arpack')\n",
            "    Compute the largest or smallest k singular values/vectors for a sparse matrix. The order of the singular values is not guaranteed.\n",
            "    \n",
            "    Parameters\n",
            "    ----------\n",
            "    A : {sparse matrix, LinearOperator}\n",
            "        Array to compute the SVD on, of shape (M, N)\n",
            "    k : int, optional\n",
            "        Number of singular values and vectors to compute.\n",
            "        Must be 1 <= k < min(A.shape).\n",
            "    ncv : int, optional\n",
            "        The number of Lanczos vectors generated\n",
            "        ncv must be greater than k+1 and smaller than n;\n",
            "        it is recommended that ncv > 2*k\n",
            "        Default: ``min(n, max(2*k + 1, 20))``\n",
            "    tol : float, optional\n",
            "        Tolerance for singular values. Zero (default) means machine precision.\n",
            "    which : str, ['LM' | 'SM'], optional\n",
            "        Which `k` singular values to find:\n",
            "    \n",
            "            - 'LM' : largest singular values\n",
            "            - 'SM' : smallest singular values\n",
            "    \n",
            "        .. versionadded:: 0.12.0\n",
            "    v0 : ndarray, optional\n",
            "        Starting vector for iteration, of length min(A.shape). Should be an\n",
            "        (approximate) left singular vector if N > M and a right singular\n",
            "        vector otherwise.\n",
            "        Default: random\n",
            "    \n",
            "        .. versionadded:: 0.12.0\n",
            "    maxiter : int, optional\n",
            "        Maximum number of iterations.\n",
            "    \n",
            "        .. versionadded:: 0.12.0\n",
            "    return_singular_vectors : bool or str, optional\n",
            "        - True: return singular vectors (True) in addition to singular values.\n",
            "    \n",
            "        .. versionadded:: 0.12.0\n",
            "    \n",
            "        - \"u\": only return the u matrix, without computing vh (if N > M).\n",
            "        - \"vh\": only return the vh matrix, without computing u (if N <= M).\n",
            "    \n",
            "        .. versionadded:: 0.16.0\n",
            "    solver : str, optional\n",
            "            Eigenvalue solver to use. Should be 'arpack' or 'lobpcg'.\n",
            "            Default: 'arpack'\n",
            "    \n",
            "    Returns\n",
            "    -------\n",
            "    u : ndarray, shape=(M, k)\n",
            "        Unitary matrix having left singular vectors as columns.\n",
            "        If `return_singular_vectors` is \"vh\", this variable is not computed,\n",
            "        and None is returned instead.\n",
            "    s : ndarray, shape=(k,)\n",
            "        The singular values.\n",
            "    vt : ndarray, shape=(k, N)\n",
            "        Unitary matrix having right singular vectors as rows.\n",
            "        If `return_singular_vectors` is \"u\", this variable is not computed,\n",
            "        and None is returned instead.\n",
            "    \n",
            "    \n",
            "    Notes\n",
            "    -----\n",
            "    This is a naive implementation using ARPACK or LOBPCG as an eigensolver\n",
            "    on A.H * A or A * A.H, depending on which one is more efficient.\n",
            "    \n",
            "    Examples\n",
            "    --------\n",
            "    >>> from scipy.sparse import csc_matrix\n",
            "    >>> from scipy.sparse.linalg import svds, eigs\n",
            "    >>> A = csc_matrix([[1, 0, 0], [5, 0, 2], [0, -1, 0], [0, 0, 3]], dtype=float)\n",
            "    >>> u, s, vt = svds(A, k=2)\n",
            "    >>> s\n",
            "    array([ 2.75193379,  5.6059665 ])\n",
            "    >>> np.sqrt(eigs(A.dot(A.T), k=2)[0]).real\n",
            "    array([ 5.6059665 ,  2.75193379])\n",
            "\n"
          ]
        }
      ],
      "source": [
        "help(svds)"
      ]
    },
    {
      "cell_type": "code",
      "execution_count": 80,
      "metadata": {
        "id": "C43_BrO4M0b5"
      },
      "outputs": [],
      "source": [
        "U, sigma, Vt = svds(Ratings_demeaned, k = 5)"
      ]
    },
    {
      "cell_type": "code",
      "execution_count": 81,
      "metadata": {
        "colab": {
          "base_uri": "https://localhost:8080/"
        },
        "id": "BFO7xhdOM0b6",
        "outputId": "7986516d-d0c7-47c2-90a5-32ba24632536"
      },
      "outputs": [
        {
          "output_type": "stream",
          "name": "stdout",
          "text": [
            "Size of sigma:  5\n"
          ]
        }
      ],
      "source": [
        "print('Size of sigma: ' , sigma.size)"
      ]
    },
    {
      "cell_type": "markdown",
      "metadata": {
        "id": "T95JMOnkM0b7"
      },
      "source": [
        "As we are going to leverage matrix multiplication to get predictions, we willl convert the $\\Sigma$ (now are values) to the diagonal matrix form."
      ]
    },
    {
      "cell_type": "code",
      "execution_count": 82,
      "metadata": {
        "id": "KXhhsf1tM0b8"
      },
      "outputs": [],
      "source": [
        "sigma = np.diag(sigma)"
      ]
    },
    {
      "cell_type": "code",
      "execution_count": 83,
      "metadata": {
        "scrolled": true,
        "colab": {
          "base_uri": "https://localhost:8080/"
        },
        "id": "gYGQZiR0M0b8",
        "outputId": "5e55f8e5-0d75-411e-c5e0-767d0fc395ae"
      },
      "outputs": [
        {
          "output_type": "stream",
          "name": "stdout",
          "text": [
            "Shape of sigma:  (5, 5)\n",
            "[[153.93097112   0.           0.           0.           0.        ]\n",
            " [  0.         163.73084057   0.           0.           0.        ]\n",
            " [  0.           0.         184.86187801   0.           0.        ]\n",
            " [  0.           0.           0.         231.22453421   0.        ]\n",
            " [  0.           0.           0.           0.         474.20606204]]\n"
          ]
        }
      ],
      "source": [
        "print('Shape of sigma: ', sigma.shape)\n",
        "print(sigma)"
      ]
    },
    {
      "cell_type": "code",
      "execution_count": 84,
      "metadata": {
        "colab": {
          "base_uri": "https://localhost:8080/"
        },
        "id": "dNCv05rsM0b-",
        "outputId": "1fb490c5-97b5-4c98-aa92-4b4554524362"
      },
      "outputs": [
        {
          "output_type": "stream",
          "name": "stdout",
          "text": [
            "Shape of U:  (610, 5)\n",
            "Shape of Vt:  (5, 9724)\n"
          ]
        }
      ],
      "source": [
        "print('Shape of U: ', U.shape)\n",
        "print('Shape of Vt: ', Vt.shape)"
      ]
    },
    {
      "cell_type": "markdown",
      "metadata": {
        "id": "RnQPbWfsM0b-"
      },
      "source": [
        "## Making Predictions from the Decomposed Matrices"
      ]
    },
    {
      "cell_type": "markdown",
      "metadata": {
        "id": "_jTaFliKM0b_"
      },
      "source": [
        "We now have everything we need to make movie ratings predictions for every user. We can do it all at once by following the math and matrix multiply $U$, $\\Sigma$, and $V^{T}$ back to get the rank $k=50$ approximation of $A$.\n",
        "\n",
        "But first, we need to add the user means back to get the actual star ratings prediction."
      ]
    },
    {
      "cell_type": "code",
      "execution_count": 85,
      "metadata": {
        "id": "HkV_OyNdM0cA"
      },
      "outputs": [],
      "source": [
        "all_user_predicted_ratings = np.dot(np.dot(U, sigma), Vt) + user_ratings_mean.values.reshape(-1, 1)"
      ]
    },
    {
      "cell_type": "code",
      "execution_count": 86,
      "metadata": {
        "scrolled": true,
        "colab": {
          "base_uri": "https://localhost:8080/"
        },
        "id": "Rz7K5gDiM0cA",
        "outputId": "0114f62f-1ec5-488d-b0b0-c1ac423f8b1c"
      },
      "outputs": [
        {
          "output_type": "stream",
          "name": "stdout",
          "text": [
            "All user predicted rating :  (610, 9724)\n"
          ]
        }
      ],
      "source": [
        "print('All user predicted rating : ', all_user_predicted_ratings.shape)"
      ]
    },
    {
      "cell_type": "markdown",
      "metadata": {
        "id": "xmxZ1xeOM0cB"
      },
      "source": [
        "With the predictions matrix for every user, we can build a function to recommend movies for any user. We return the list of movies the user has already rated, for the sake of comparison."
      ]
    },
    {
      "cell_type": "markdown",
      "metadata": {
        "id": "MgGssoaSM0cB"
      },
      "source": [
        "We will use the column names from the ratings df"
      ]
    },
    {
      "cell_type": "code",
      "execution_count": 87,
      "metadata": {
        "scrolled": true,
        "colab": {
          "base_uri": "https://localhost:8080/"
        },
        "id": "ZCeivsLFM0cD",
        "outputId": "a8686fff-9ed1-4f32-817d-e253e0636627"
      },
      "outputs": [
        {
          "output_type": "stream",
          "name": "stdout",
          "text": [
            "Rating Dataframe column names Int64Index([     1,      2,      3,      4,      5,      6,      7,      8,\n",
            "                 9,     10,\n",
            "            ...\n",
            "            193565, 193567, 193571, 193573, 193579, 193581, 193583, 193585,\n",
            "            193587, 193609],\n",
            "           dtype='int64', name='movieId', length=9724)\n"
          ]
        }
      ],
      "source": [
        "print('Rating Dataframe column names', Ratings.columns)"
      ]
    },
    {
      "cell_type": "code",
      "execution_count": 88,
      "metadata": {
        "scrolled": true,
        "colab": {
          "base_uri": "https://localhost:8080/",
          "height": 299
        },
        "id": "-jjVGbzfM0cD",
        "outputId": "78d1130f-4bce-4f28-d946-f8161b962892"
      },
      "outputs": [
        {
          "output_type": "execute_result",
          "data": {
            "text/plain": [
              "movieId    1         2         3         4         5         6         7       \\\n",
              "0        2.372491  1.105490  0.938741 -0.026981  0.259134  2.142086  0.364751   \n",
              "1        0.167941  0.043916 -0.128525  0.002104 -0.039593  0.116747 -0.078574   \n",
              "2        0.016219  0.002541  0.031266  0.004392 -0.007318  0.082070 -0.009471   \n",
              "3        1.096902  0.051728  0.236111  0.012459  0.061574  0.790497  0.287764   \n",
              "4        1.351888  0.844861  0.384379  0.112229  0.457877  0.697474  0.537043   \n",
              "\n",
              "movieId    8         9         10      ...    193565    193567    193571  \\\n",
              "0        0.083575  0.142991  2.126290  ... -0.055970 -0.055302 -0.056638   \n",
              "1       -0.017696 -0.006580 -0.010213  ...  0.010264  0.009720  0.010808   \n",
              "2        0.009514  0.015639  0.065282  ...  0.007666  0.007663  0.007670   \n",
              "3       -0.011903 -0.008722  0.252987  ... -0.019262 -0.018326 -0.020198   \n",
              "4        0.079407  0.123215  1.153800  ...  0.012675  0.012995  0.012355   \n",
              "\n",
              "movieId    193573    193579    193581    193583    193585    193587    193609  \n",
              "0       -0.056638 -0.055970 -0.056638 -0.055970 -0.055970 -0.055970 -0.071995  \n",
              "1        0.010808  0.010264  0.010808  0.010264  0.010264  0.010264  0.015142  \n",
              "2        0.007670  0.007666  0.007670  0.007666  0.007666  0.007666  0.006166  \n",
              "3       -0.020198 -0.019262 -0.020198 -0.019262 -0.019262 -0.019262 -0.017496  \n",
              "4        0.012355  0.012675  0.012355  0.012675  0.012675  0.012675  0.013733  \n",
              "\n",
              "[5 rows x 9724 columns]"
            ],
            "text/html": [
              "\n",
              "  <div id=\"df-7a53ec42-d7f1-4dfc-b15e-5b32dc34f4e8\">\n",
              "    <div class=\"colab-df-container\">\n",
              "      <div>\n",
              "<style scoped>\n",
              "    .dataframe tbody tr th:only-of-type {\n",
              "        vertical-align: middle;\n",
              "    }\n",
              "\n",
              "    .dataframe tbody tr th {\n",
              "        vertical-align: top;\n",
              "    }\n",
              "\n",
              "    .dataframe thead th {\n",
              "        text-align: right;\n",
              "    }\n",
              "</style>\n",
              "<table border=\"1\" class=\"dataframe\">\n",
              "  <thead>\n",
              "    <tr style=\"text-align: right;\">\n",
              "      <th>movieId</th>\n",
              "      <th>1</th>\n",
              "      <th>2</th>\n",
              "      <th>3</th>\n",
              "      <th>4</th>\n",
              "      <th>5</th>\n",
              "      <th>6</th>\n",
              "      <th>7</th>\n",
              "      <th>8</th>\n",
              "      <th>9</th>\n",
              "      <th>10</th>\n",
              "      <th>...</th>\n",
              "      <th>193565</th>\n",
              "      <th>193567</th>\n",
              "      <th>193571</th>\n",
              "      <th>193573</th>\n",
              "      <th>193579</th>\n",
              "      <th>193581</th>\n",
              "      <th>193583</th>\n",
              "      <th>193585</th>\n",
              "      <th>193587</th>\n",
              "      <th>193609</th>\n",
              "    </tr>\n",
              "  </thead>\n",
              "  <tbody>\n",
              "    <tr>\n",
              "      <th>0</th>\n",
              "      <td>2.372491</td>\n",
              "      <td>1.105490</td>\n",
              "      <td>0.938741</td>\n",
              "      <td>-0.026981</td>\n",
              "      <td>0.259134</td>\n",
              "      <td>2.142086</td>\n",
              "      <td>0.364751</td>\n",
              "      <td>0.083575</td>\n",
              "      <td>0.142991</td>\n",
              "      <td>2.126290</td>\n",
              "      <td>...</td>\n",
              "      <td>-0.055970</td>\n",
              "      <td>-0.055302</td>\n",
              "      <td>-0.056638</td>\n",
              "      <td>-0.056638</td>\n",
              "      <td>-0.055970</td>\n",
              "      <td>-0.056638</td>\n",
              "      <td>-0.055970</td>\n",
              "      <td>-0.055970</td>\n",
              "      <td>-0.055970</td>\n",
              "      <td>-0.071995</td>\n",
              "    </tr>\n",
              "    <tr>\n",
              "      <th>1</th>\n",
              "      <td>0.167941</td>\n",
              "      <td>0.043916</td>\n",
              "      <td>-0.128525</td>\n",
              "      <td>0.002104</td>\n",
              "      <td>-0.039593</td>\n",
              "      <td>0.116747</td>\n",
              "      <td>-0.078574</td>\n",
              "      <td>-0.017696</td>\n",
              "      <td>-0.006580</td>\n",
              "      <td>-0.010213</td>\n",
              "      <td>...</td>\n",
              "      <td>0.010264</td>\n",
              "      <td>0.009720</td>\n",
              "      <td>0.010808</td>\n",
              "      <td>0.010808</td>\n",
              "      <td>0.010264</td>\n",
              "      <td>0.010808</td>\n",
              "      <td>0.010264</td>\n",
              "      <td>0.010264</td>\n",
              "      <td>0.010264</td>\n",
              "      <td>0.015142</td>\n",
              "    </tr>\n",
              "    <tr>\n",
              "      <th>2</th>\n",
              "      <td>0.016219</td>\n",
              "      <td>0.002541</td>\n",
              "      <td>0.031266</td>\n",
              "      <td>0.004392</td>\n",
              "      <td>-0.007318</td>\n",
              "      <td>0.082070</td>\n",
              "      <td>-0.009471</td>\n",
              "      <td>0.009514</td>\n",
              "      <td>0.015639</td>\n",
              "      <td>0.065282</td>\n",
              "      <td>...</td>\n",
              "      <td>0.007666</td>\n",
              "      <td>0.007663</td>\n",
              "      <td>0.007670</td>\n",
              "      <td>0.007670</td>\n",
              "      <td>0.007666</td>\n",
              "      <td>0.007670</td>\n",
              "      <td>0.007666</td>\n",
              "      <td>0.007666</td>\n",
              "      <td>0.007666</td>\n",
              "      <td>0.006166</td>\n",
              "    </tr>\n",
              "    <tr>\n",
              "      <th>3</th>\n",
              "      <td>1.096902</td>\n",
              "      <td>0.051728</td>\n",
              "      <td>0.236111</td>\n",
              "      <td>0.012459</td>\n",
              "      <td>0.061574</td>\n",
              "      <td>0.790497</td>\n",
              "      <td>0.287764</td>\n",
              "      <td>-0.011903</td>\n",
              "      <td>-0.008722</td>\n",
              "      <td>0.252987</td>\n",
              "      <td>...</td>\n",
              "      <td>-0.019262</td>\n",
              "      <td>-0.018326</td>\n",
              "      <td>-0.020198</td>\n",
              "      <td>-0.020198</td>\n",
              "      <td>-0.019262</td>\n",
              "      <td>-0.020198</td>\n",
              "      <td>-0.019262</td>\n",
              "      <td>-0.019262</td>\n",
              "      <td>-0.019262</td>\n",
              "      <td>-0.017496</td>\n",
              "    </tr>\n",
              "    <tr>\n",
              "      <th>4</th>\n",
              "      <td>1.351888</td>\n",
              "      <td>0.844861</td>\n",
              "      <td>0.384379</td>\n",
              "      <td>0.112229</td>\n",
              "      <td>0.457877</td>\n",
              "      <td>0.697474</td>\n",
              "      <td>0.537043</td>\n",
              "      <td>0.079407</td>\n",
              "      <td>0.123215</td>\n",
              "      <td>1.153800</td>\n",
              "      <td>...</td>\n",
              "      <td>0.012675</td>\n",
              "      <td>0.012995</td>\n",
              "      <td>0.012355</td>\n",
              "      <td>0.012355</td>\n",
              "      <td>0.012675</td>\n",
              "      <td>0.012355</td>\n",
              "      <td>0.012675</td>\n",
              "      <td>0.012675</td>\n",
              "      <td>0.012675</td>\n",
              "      <td>0.013733</td>\n",
              "    </tr>\n",
              "  </tbody>\n",
              "</table>\n",
              "<p>5 rows × 9724 columns</p>\n",
              "</div>\n",
              "      <button class=\"colab-df-convert\" onclick=\"convertToInteractive('df-7a53ec42-d7f1-4dfc-b15e-5b32dc34f4e8')\"\n",
              "              title=\"Convert this dataframe to an interactive table.\"\n",
              "              style=\"display:none;\">\n",
              "        \n",
              "  <svg xmlns=\"http://www.w3.org/2000/svg\" height=\"24px\"viewBox=\"0 0 24 24\"\n",
              "       width=\"24px\">\n",
              "    <path d=\"M0 0h24v24H0V0z\" fill=\"none\"/>\n",
              "    <path d=\"M18.56 5.44l.94 2.06.94-2.06 2.06-.94-2.06-.94-.94-2.06-.94 2.06-2.06.94zm-11 1L8.5 8.5l.94-2.06 2.06-.94-2.06-.94L8.5 2.5l-.94 2.06-2.06.94zm10 10l.94 2.06.94-2.06 2.06-.94-2.06-.94-.94-2.06-.94 2.06-2.06.94z\"/><path d=\"M17.41 7.96l-1.37-1.37c-.4-.4-.92-.59-1.43-.59-.52 0-1.04.2-1.43.59L10.3 9.45l-7.72 7.72c-.78.78-.78 2.05 0 2.83L4 21.41c.39.39.9.59 1.41.59.51 0 1.02-.2 1.41-.59l7.78-7.78 2.81-2.81c.8-.78.8-2.07 0-2.86zM5.41 20L4 18.59l7.72-7.72 1.47 1.35L5.41 20z\"/>\n",
              "  </svg>\n",
              "      </button>\n",
              "      \n",
              "  <style>\n",
              "    .colab-df-container {\n",
              "      display:flex;\n",
              "      flex-wrap:wrap;\n",
              "      gap: 12px;\n",
              "    }\n",
              "\n",
              "    .colab-df-convert {\n",
              "      background-color: #E8F0FE;\n",
              "      border: none;\n",
              "      border-radius: 50%;\n",
              "      cursor: pointer;\n",
              "      display: none;\n",
              "      fill: #1967D2;\n",
              "      height: 32px;\n",
              "      padding: 0 0 0 0;\n",
              "      width: 32px;\n",
              "    }\n",
              "\n",
              "    .colab-df-convert:hover {\n",
              "      background-color: #E2EBFA;\n",
              "      box-shadow: 0px 1px 2px rgba(60, 64, 67, 0.3), 0px 1px 3px 1px rgba(60, 64, 67, 0.15);\n",
              "      fill: #174EA6;\n",
              "    }\n",
              "\n",
              "    [theme=dark] .colab-df-convert {\n",
              "      background-color: #3B4455;\n",
              "      fill: #D2E3FC;\n",
              "    }\n",
              "\n",
              "    [theme=dark] .colab-df-convert:hover {\n",
              "      background-color: #434B5C;\n",
              "      box-shadow: 0px 1px 3px 1px rgba(0, 0, 0, 0.15);\n",
              "      filter: drop-shadow(0px 1px 2px rgba(0, 0, 0, 0.3));\n",
              "      fill: #FFFFFF;\n",
              "    }\n",
              "  </style>\n",
              "\n",
              "      <script>\n",
              "        const buttonEl =\n",
              "          document.querySelector('#df-7a53ec42-d7f1-4dfc-b15e-5b32dc34f4e8 button.colab-df-convert');\n",
              "        buttonEl.style.display =\n",
              "          google.colab.kernel.accessAllowed ? 'block' : 'none';\n",
              "\n",
              "        async function convertToInteractive(key) {\n",
              "          const element = document.querySelector('#df-7a53ec42-d7f1-4dfc-b15e-5b32dc34f4e8');\n",
              "          const dataTable =\n",
              "            await google.colab.kernel.invokeFunction('convertToInteractive',\n",
              "                                                     [key], {});\n",
              "          if (!dataTable) return;\n",
              "\n",
              "          const docLinkHtml = 'Like what you see? Visit the ' +\n",
              "            '<a target=\"_blank\" href=https://colab.research.google.com/notebooks/data_table.ipynb>data table notebook</a>'\n",
              "            + ' to learn more about interactive tables.';\n",
              "          element.innerHTML = '';\n",
              "          dataTable['output_type'] = 'display_data';\n",
              "          await google.colab.output.renderOutput(dataTable, element);\n",
              "          const docLink = document.createElement('div');\n",
              "          docLink.innerHTML = docLinkHtml;\n",
              "          element.appendChild(docLink);\n",
              "        }\n",
              "      </script>\n",
              "    </div>\n",
              "  </div>\n",
              "  "
            ]
          },
          "metadata": {},
          "execution_count": 88
        }
      ],
      "source": [
        "preds = pd.DataFrame(all_user_predicted_ratings, columns = Ratings.columns)\n",
        "preds.head()"
      ]
    },
    {
      "cell_type": "markdown",
      "metadata": {
        "id": "sqlH9pMdM0cE"
      },
      "source": [
        "Now we write a function to return the movies with the highest predicted rating that the specified user hasn't already rated. Though we didn't use any explicit movie content features (such as genre or title), we will merge in that information to get a more complete picture of the recommendations."
      ]
    },
    {
      "cell_type": "code",
      "execution_count": 89,
      "metadata": {
        "id": "sU_MznyOM0cE"
      },
      "outputs": [],
      "source": [
        "def recommend_movies(predictions, userID, movies, original_ratings, num_recommendations):\n",
        "    \"\"\"\n",
        "    Implementation of SVD by hand\n",
        "    :param predictions : The SVD reconstructed matrix, \n",
        "    userID : UserId for which you want to predict the top rated movies, \n",
        "    movies : Matrix with movie data, original_ratings : Original Rating matrix, \n",
        "    num_recommendations : num of recos to be returned\n",
        "    :return: num_recommendations top movies\n",
        "    \"\"\" \n",
        "    # Get and sort the user's predictions\n",
        "    user_row_number = userID - 1 # User ID starts at 1, not 0\n",
        "    sorted_user_predictions = predictions.iloc[user_row_number].sort_values(ascending=False) # User ID starts at 1\n",
        "    \n",
        "    # Get the user's data and merge in the movie information.\n",
        "    user_data = original_ratings[original_ratings.userId == (userID)]\n",
        "    user_full = (user_data.merge(movies, how = 'left', left_on = 'movieId', right_on = 'movieId').\n",
        "                     sort_values(['rating'], ascending=False)\n",
        "                 )\n",
        "\n",
        "    print('User {0} has already rated {1} movies.'.format(userID, user_full.shape[0]))\n",
        "    print('Recommending highest {0} predicted ratings movies not already rated.'.format(num_recommendations))\n",
        "    \n",
        "    # Recommend the highest predicted rating movies that the user hasn't seen yet.\n",
        "    recommendations = (movies[~movies['movieId'].isin(user_full['movieId'])].\n",
        "         merge(pd.DataFrame(sorted_user_predictions).reset_index(), how = 'left',\n",
        "               left_on = 'movieId',\n",
        "               right_on = 'movieId').\n",
        "         rename(columns = {user_row_number: 'Predictions'}).\n",
        "         sort_values('Predictions', ascending = False).\n",
        "                       iloc[:num_recommendations, :-1]\n",
        "                      )\n",
        "\n",
        "    return user_full, recommendations"
      ]
    },
    {
      "cell_type": "markdown",
      "metadata": {
        "id": "1rbjGyLZM0cG"
      },
      "source": [
        "Let's try to recommend 20 movies for user with ID 150."
      ]
    },
    {
      "cell_type": "code",
      "execution_count": 90,
      "metadata": {
        "scrolled": true,
        "colab": {
          "base_uri": "https://localhost:8080/"
        },
        "id": "qxy9-j7WM0cG",
        "outputId": "e4753d4c-cc12-4cbf-a74c-6614ec31f4fe"
      },
      "outputs": [
        {
          "output_type": "stream",
          "name": "stdout",
          "text": [
            "User 150 has already rated 26 movies.\n",
            "Recommending highest 20 predicted ratings movies not already rated.\n"
          ]
        }
      ],
      "source": [
        "already_rated, predictions = recommend_movies(preds, 150, movies, ratings, 20)"
      ]
    },
    {
      "cell_type": "code",
      "execution_count": 91,
      "metadata": {
        "scrolled": true,
        "colab": {
          "base_uri": "https://localhost:8080/",
          "height": 676
        },
        "id": "nUE3QR1LM0cH",
        "outputId": "5aebb796-fe56-4a0a-a080-35c16adf2d4a"
      },
      "outputs": [
        {
          "output_type": "execute_result",
          "data": {
            "text/plain": [
              "    userId  movieId  rating  timestamp  \\\n",
              "25     150     1356     5.0  854203229   \n",
              "5      150       32     5.0  854203071   \n",
              "12     150      141     5.0  854203072   \n",
              "17     150      648     4.0  854203072   \n",
              "2      150        6     4.0  854203123   \n",
              "4      150       25     4.0  854203072   \n",
              "6      150       36     4.0  854203123   \n",
              "7      150       52     4.0  854203163   \n",
              "23     150      805     4.0  854203230   \n",
              "20     150      780     4.0  854203071   \n",
              "19     150      733     4.0  854203123   \n",
              "15     150      608     4.0  854203123   \n",
              "24     150     1073     3.0  854203163   \n",
              "22     150      786     3.0  854203163   \n",
              "21     150      784     3.0  854203163   \n",
              "18     150      653     3.0  854203163   \n",
              "0      150        3     3.0  854203124   \n",
              "16     150      628     3.0  854203229   \n",
              "14     150      494     3.0  854203124   \n",
              "1      150        5     3.0  854203124   \n",
              "\n",
              "                                         title  \\\n",
              "25             Star Trek: First Contact (1996)   \n",
              "5    Twelve Monkeys (a.k.a. 12 Monkeys) (1995)   \n",
              "12                        Birdcage, The (1996)   \n",
              "17                  Mission: Impossible (1996)   \n",
              "2                                  Heat (1995)   \n",
              "4                     Leaving Las Vegas (1995)   \n",
              "6                      Dead Man Walking (1995)   \n",
              "7                      Mighty Aphrodite (1995)   \n",
              "23                      Time to Kill, A (1996)   \n",
              "20        Independence Day (a.k.a. ID4) (1996)   \n",
              "19                            Rock, The (1996)   \n",
              "15                                Fargo (1996)   \n",
              "24  Willy Wonka & the Chocolate Factory (1971)   \n",
              "22                               Eraser (1996)   \n",
              "21                       Cable Guy, The (1996)   \n",
              "18                          Dragonheart (1996)   \n",
              "0                      Grumpier Old Men (1995)   \n",
              "16                          Primal Fear (1996)   \n",
              "14                   Executive Decision (1996)   \n",
              "1           Father of the Bride Part II (1995)   \n",
              "\n",
              "                               genres  \n",
              "25   Action|Adventure|Sci-Fi|Thriller  \n",
              "5             Mystery|Sci-Fi|Thriller  \n",
              "12                             Comedy  \n",
              "17  Action|Adventure|Mystery|Thriller  \n",
              "2               Action|Crime|Thriller  \n",
              "4                       Drama|Romance  \n",
              "6                         Crime|Drama  \n",
              "7                Comedy|Drama|Romance  \n",
              "23                     Drama|Thriller  \n",
              "20   Action|Adventure|Sci-Fi|Thriller  \n",
              "19          Action|Adventure|Thriller  \n",
              "15        Comedy|Crime|Drama|Thriller  \n",
              "24    Children|Comedy|Fantasy|Musical  \n",
              "22              Action|Drama|Thriller  \n",
              "21                    Comedy|Thriller  \n",
              "18           Action|Adventure|Fantasy  \n",
              "0                      Comedy|Romance  \n",
              "16       Crime|Drama|Mystery|Thriller  \n",
              "14          Action|Adventure|Thriller  \n",
              "1                              Comedy  "
            ],
            "text/html": [
              "\n",
              "  <div id=\"df-c51ee672-28d2-4809-8847-e81b52873642\">\n",
              "    <div class=\"colab-df-container\">\n",
              "      <div>\n",
              "<style scoped>\n",
              "    .dataframe tbody tr th:only-of-type {\n",
              "        vertical-align: middle;\n",
              "    }\n",
              "\n",
              "    .dataframe tbody tr th {\n",
              "        vertical-align: top;\n",
              "    }\n",
              "\n",
              "    .dataframe thead th {\n",
              "        text-align: right;\n",
              "    }\n",
              "</style>\n",
              "<table border=\"1\" class=\"dataframe\">\n",
              "  <thead>\n",
              "    <tr style=\"text-align: right;\">\n",
              "      <th></th>\n",
              "      <th>userId</th>\n",
              "      <th>movieId</th>\n",
              "      <th>rating</th>\n",
              "      <th>timestamp</th>\n",
              "      <th>title</th>\n",
              "      <th>genres</th>\n",
              "    </tr>\n",
              "  </thead>\n",
              "  <tbody>\n",
              "    <tr>\n",
              "      <th>25</th>\n",
              "      <td>150</td>\n",
              "      <td>1356</td>\n",
              "      <td>5.0</td>\n",
              "      <td>854203229</td>\n",
              "      <td>Star Trek: First Contact (1996)</td>\n",
              "      <td>Action|Adventure|Sci-Fi|Thriller</td>\n",
              "    </tr>\n",
              "    <tr>\n",
              "      <th>5</th>\n",
              "      <td>150</td>\n",
              "      <td>32</td>\n",
              "      <td>5.0</td>\n",
              "      <td>854203071</td>\n",
              "      <td>Twelve Monkeys (a.k.a. 12 Monkeys) (1995)</td>\n",
              "      <td>Mystery|Sci-Fi|Thriller</td>\n",
              "    </tr>\n",
              "    <tr>\n",
              "      <th>12</th>\n",
              "      <td>150</td>\n",
              "      <td>141</td>\n",
              "      <td>5.0</td>\n",
              "      <td>854203072</td>\n",
              "      <td>Birdcage, The (1996)</td>\n",
              "      <td>Comedy</td>\n",
              "    </tr>\n",
              "    <tr>\n",
              "      <th>17</th>\n",
              "      <td>150</td>\n",
              "      <td>648</td>\n",
              "      <td>4.0</td>\n",
              "      <td>854203072</td>\n",
              "      <td>Mission: Impossible (1996)</td>\n",
              "      <td>Action|Adventure|Mystery|Thriller</td>\n",
              "    </tr>\n",
              "    <tr>\n",
              "      <th>2</th>\n",
              "      <td>150</td>\n",
              "      <td>6</td>\n",
              "      <td>4.0</td>\n",
              "      <td>854203123</td>\n",
              "      <td>Heat (1995)</td>\n",
              "      <td>Action|Crime|Thriller</td>\n",
              "    </tr>\n",
              "    <tr>\n",
              "      <th>4</th>\n",
              "      <td>150</td>\n",
              "      <td>25</td>\n",
              "      <td>4.0</td>\n",
              "      <td>854203072</td>\n",
              "      <td>Leaving Las Vegas (1995)</td>\n",
              "      <td>Drama|Romance</td>\n",
              "    </tr>\n",
              "    <tr>\n",
              "      <th>6</th>\n",
              "      <td>150</td>\n",
              "      <td>36</td>\n",
              "      <td>4.0</td>\n",
              "      <td>854203123</td>\n",
              "      <td>Dead Man Walking (1995)</td>\n",
              "      <td>Crime|Drama</td>\n",
              "    </tr>\n",
              "    <tr>\n",
              "      <th>7</th>\n",
              "      <td>150</td>\n",
              "      <td>52</td>\n",
              "      <td>4.0</td>\n",
              "      <td>854203163</td>\n",
              "      <td>Mighty Aphrodite (1995)</td>\n",
              "      <td>Comedy|Drama|Romance</td>\n",
              "    </tr>\n",
              "    <tr>\n",
              "      <th>23</th>\n",
              "      <td>150</td>\n",
              "      <td>805</td>\n",
              "      <td>4.0</td>\n",
              "      <td>854203230</td>\n",
              "      <td>Time to Kill, A (1996)</td>\n",
              "      <td>Drama|Thriller</td>\n",
              "    </tr>\n",
              "    <tr>\n",
              "      <th>20</th>\n",
              "      <td>150</td>\n",
              "      <td>780</td>\n",
              "      <td>4.0</td>\n",
              "      <td>854203071</td>\n",
              "      <td>Independence Day (a.k.a. ID4) (1996)</td>\n",
              "      <td>Action|Adventure|Sci-Fi|Thriller</td>\n",
              "    </tr>\n",
              "    <tr>\n",
              "      <th>19</th>\n",
              "      <td>150</td>\n",
              "      <td>733</td>\n",
              "      <td>4.0</td>\n",
              "      <td>854203123</td>\n",
              "      <td>Rock, The (1996)</td>\n",
              "      <td>Action|Adventure|Thriller</td>\n",
              "    </tr>\n",
              "    <tr>\n",
              "      <th>15</th>\n",
              "      <td>150</td>\n",
              "      <td>608</td>\n",
              "      <td>4.0</td>\n",
              "      <td>854203123</td>\n",
              "      <td>Fargo (1996)</td>\n",
              "      <td>Comedy|Crime|Drama|Thriller</td>\n",
              "    </tr>\n",
              "    <tr>\n",
              "      <th>24</th>\n",
              "      <td>150</td>\n",
              "      <td>1073</td>\n",
              "      <td>3.0</td>\n",
              "      <td>854203163</td>\n",
              "      <td>Willy Wonka &amp; the Chocolate Factory (1971)</td>\n",
              "      <td>Children|Comedy|Fantasy|Musical</td>\n",
              "    </tr>\n",
              "    <tr>\n",
              "      <th>22</th>\n",
              "      <td>150</td>\n",
              "      <td>786</td>\n",
              "      <td>3.0</td>\n",
              "      <td>854203163</td>\n",
              "      <td>Eraser (1996)</td>\n",
              "      <td>Action|Drama|Thriller</td>\n",
              "    </tr>\n",
              "    <tr>\n",
              "      <th>21</th>\n",
              "      <td>150</td>\n",
              "      <td>784</td>\n",
              "      <td>3.0</td>\n",
              "      <td>854203163</td>\n",
              "      <td>Cable Guy, The (1996)</td>\n",
              "      <td>Comedy|Thriller</td>\n",
              "    </tr>\n",
              "    <tr>\n",
              "      <th>18</th>\n",
              "      <td>150</td>\n",
              "      <td>653</td>\n",
              "      <td>3.0</td>\n",
              "      <td>854203163</td>\n",
              "      <td>Dragonheart (1996)</td>\n",
              "      <td>Action|Adventure|Fantasy</td>\n",
              "    </tr>\n",
              "    <tr>\n",
              "      <th>0</th>\n",
              "      <td>150</td>\n",
              "      <td>3</td>\n",
              "      <td>3.0</td>\n",
              "      <td>854203124</td>\n",
              "      <td>Grumpier Old Men (1995)</td>\n",
              "      <td>Comedy|Romance</td>\n",
              "    </tr>\n",
              "    <tr>\n",
              "      <th>16</th>\n",
              "      <td>150</td>\n",
              "      <td>628</td>\n",
              "      <td>3.0</td>\n",
              "      <td>854203229</td>\n",
              "      <td>Primal Fear (1996)</td>\n",
              "      <td>Crime|Drama|Mystery|Thriller</td>\n",
              "    </tr>\n",
              "    <tr>\n",
              "      <th>14</th>\n",
              "      <td>150</td>\n",
              "      <td>494</td>\n",
              "      <td>3.0</td>\n",
              "      <td>854203124</td>\n",
              "      <td>Executive Decision (1996)</td>\n",
              "      <td>Action|Adventure|Thriller</td>\n",
              "    </tr>\n",
              "    <tr>\n",
              "      <th>1</th>\n",
              "      <td>150</td>\n",
              "      <td>5</td>\n",
              "      <td>3.0</td>\n",
              "      <td>854203124</td>\n",
              "      <td>Father of the Bride Part II (1995)</td>\n",
              "      <td>Comedy</td>\n",
              "    </tr>\n",
              "  </tbody>\n",
              "</table>\n",
              "</div>\n",
              "      <button class=\"colab-df-convert\" onclick=\"convertToInteractive('df-c51ee672-28d2-4809-8847-e81b52873642')\"\n",
              "              title=\"Convert this dataframe to an interactive table.\"\n",
              "              style=\"display:none;\">\n",
              "        \n",
              "  <svg xmlns=\"http://www.w3.org/2000/svg\" height=\"24px\"viewBox=\"0 0 24 24\"\n",
              "       width=\"24px\">\n",
              "    <path d=\"M0 0h24v24H0V0z\" fill=\"none\"/>\n",
              "    <path d=\"M18.56 5.44l.94 2.06.94-2.06 2.06-.94-2.06-.94-.94-2.06-.94 2.06-2.06.94zm-11 1L8.5 8.5l.94-2.06 2.06-.94-2.06-.94L8.5 2.5l-.94 2.06-2.06.94zm10 10l.94 2.06.94-2.06 2.06-.94-2.06-.94-.94-2.06-.94 2.06-2.06.94z\"/><path d=\"M17.41 7.96l-1.37-1.37c-.4-.4-.92-.59-1.43-.59-.52 0-1.04.2-1.43.59L10.3 9.45l-7.72 7.72c-.78.78-.78 2.05 0 2.83L4 21.41c.39.39.9.59 1.41.59.51 0 1.02-.2 1.41-.59l7.78-7.78 2.81-2.81c.8-.78.8-2.07 0-2.86zM5.41 20L4 18.59l7.72-7.72 1.47 1.35L5.41 20z\"/>\n",
              "  </svg>\n",
              "      </button>\n",
              "      \n",
              "  <style>\n",
              "    .colab-df-container {\n",
              "      display:flex;\n",
              "      flex-wrap:wrap;\n",
              "      gap: 12px;\n",
              "    }\n",
              "\n",
              "    .colab-df-convert {\n",
              "      background-color: #E8F0FE;\n",
              "      border: none;\n",
              "      border-radius: 50%;\n",
              "      cursor: pointer;\n",
              "      display: none;\n",
              "      fill: #1967D2;\n",
              "      height: 32px;\n",
              "      padding: 0 0 0 0;\n",
              "      width: 32px;\n",
              "    }\n",
              "\n",
              "    .colab-df-convert:hover {\n",
              "      background-color: #E2EBFA;\n",
              "      box-shadow: 0px 1px 2px rgba(60, 64, 67, 0.3), 0px 1px 3px 1px rgba(60, 64, 67, 0.15);\n",
              "      fill: #174EA6;\n",
              "    }\n",
              "\n",
              "    [theme=dark] .colab-df-convert {\n",
              "      background-color: #3B4455;\n",
              "      fill: #D2E3FC;\n",
              "    }\n",
              "\n",
              "    [theme=dark] .colab-df-convert:hover {\n",
              "      background-color: #434B5C;\n",
              "      box-shadow: 0px 1px 3px 1px rgba(0, 0, 0, 0.15);\n",
              "      filter: drop-shadow(0px 1px 2px rgba(0, 0, 0, 0.3));\n",
              "      fill: #FFFFFF;\n",
              "    }\n",
              "  </style>\n",
              "\n",
              "      <script>\n",
              "        const buttonEl =\n",
              "          document.querySelector('#df-c51ee672-28d2-4809-8847-e81b52873642 button.colab-df-convert');\n",
              "        buttonEl.style.display =\n",
              "          google.colab.kernel.accessAllowed ? 'block' : 'none';\n",
              "\n",
              "        async function convertToInteractive(key) {\n",
              "          const element = document.querySelector('#df-c51ee672-28d2-4809-8847-e81b52873642');\n",
              "          const dataTable =\n",
              "            await google.colab.kernel.invokeFunction('convertToInteractive',\n",
              "                                                     [key], {});\n",
              "          if (!dataTable) return;\n",
              "\n",
              "          const docLinkHtml = 'Like what you see? Visit the ' +\n",
              "            '<a target=\"_blank\" href=https://colab.research.google.com/notebooks/data_table.ipynb>data table notebook</a>'\n",
              "            + ' to learn more about interactive tables.';\n",
              "          element.innerHTML = '';\n",
              "          dataTable['output_type'] = 'display_data';\n",
              "          await google.colab.output.renderOutput(dataTable, element);\n",
              "          const docLink = document.createElement('div');\n",
              "          docLink.innerHTML = docLinkHtml;\n",
              "          element.appendChild(docLink);\n",
              "        }\n",
              "      </script>\n",
              "    </div>\n",
              "  </div>\n",
              "  "
            ]
          },
          "metadata": {},
          "execution_count": 91
        }
      ],
      "source": [
        "# Top 20 movies that User 1310 has rated \n",
        "already_rated.head(20)"
      ]
    },
    {
      "cell_type": "code",
      "execution_count": 92,
      "metadata": {
        "scrolled": true,
        "colab": {
          "base_uri": "https://localhost:8080/",
          "height": 676
        },
        "id": "ZIO675ggM0cI",
        "outputId": "a61ded24-039d-42cc-b083-45a1918df260"
      },
      "outputs": [
        {
          "output_type": "execute_result",
          "data": {
            "text/plain": [
              "     movieId                              title  \\\n",
              "85       110                  Braveheart (1995)   \n",
              "384      457               Fugitive, The (1993)   \n",
              "301      356                Forrest Gump (1994)   \n",
              "404      480               Jurassic Park (1993)   \n",
              "492      589  Terminator 2: Judgment Day (1991)   \n",
              "110      150                   Apollo 13 (1995)   \n",
              "244      296                Pulp Fiction (1994)   \n",
              "323      380                   True Lies (1994)   \n",
              "495      593   Silence of the Lambs, The (1991)   \n",
              "264      318   Shawshank Redemption, The (1994)   \n",
              "493      590          Dances with Wolves (1990)   \n",
              "494      592                      Batman (1989)   \n",
              "125      165  Die Hard: With a Vengeance (1995)   \n",
              "320      377                       Speed (1994)   \n",
              "491      588                     Aladdin (1992)   \n",
              "294      349    Clear and Present Danger (1994)   \n",
              "309      364              Lion King, The (1994)   \n",
              "262      316                    Stargate (1994)   \n",
              "121      161                Crimson Tide (1995)   \n",
              "5         10                   GoldenEye (1995)   \n",
              "\n",
              "                                              genres  \n",
              "85                                  Action|Drama|War  \n",
              "384                                         Thriller  \n",
              "301                         Comedy|Drama|Romance|War  \n",
              "404                 Action|Adventure|Sci-Fi|Thriller  \n",
              "492                                    Action|Sci-Fi  \n",
              "110                             Adventure|Drama|IMAX  \n",
              "244                      Comedy|Crime|Drama|Thriller  \n",
              "323         Action|Adventure|Comedy|Romance|Thriller  \n",
              "495                            Crime|Horror|Thriller  \n",
              "264                                      Crime|Drama  \n",
              "493                          Adventure|Drama|Western  \n",
              "494                            Action|Crime|Thriller  \n",
              "125                            Action|Crime|Thriller  \n",
              "320                          Action|Romance|Thriller  \n",
              "491      Adventure|Animation|Children|Comedy|Musical  \n",
              "294                      Action|Crime|Drama|Thriller  \n",
              "309  Adventure|Animation|Children|Drama|Musical|IMAX  \n",
              "262                          Action|Adventure|Sci-Fi  \n",
              "121                               Drama|Thriller|War  \n",
              "5                          Action|Adventure|Thriller  "
            ],
            "text/html": [
              "\n",
              "  <div id=\"df-e0b04971-7b1f-4254-ab1e-616f24046697\">\n",
              "    <div class=\"colab-df-container\">\n",
              "      <div>\n",
              "<style scoped>\n",
              "    .dataframe tbody tr th:only-of-type {\n",
              "        vertical-align: middle;\n",
              "    }\n",
              "\n",
              "    .dataframe tbody tr th {\n",
              "        vertical-align: top;\n",
              "    }\n",
              "\n",
              "    .dataframe thead th {\n",
              "        text-align: right;\n",
              "    }\n",
              "</style>\n",
              "<table border=\"1\" class=\"dataframe\">\n",
              "  <thead>\n",
              "    <tr style=\"text-align: right;\">\n",
              "      <th></th>\n",
              "      <th>movieId</th>\n",
              "      <th>title</th>\n",
              "      <th>genres</th>\n",
              "    </tr>\n",
              "  </thead>\n",
              "  <tbody>\n",
              "    <tr>\n",
              "      <th>85</th>\n",
              "      <td>110</td>\n",
              "      <td>Braveheart (1995)</td>\n",
              "      <td>Action|Drama|War</td>\n",
              "    </tr>\n",
              "    <tr>\n",
              "      <th>384</th>\n",
              "      <td>457</td>\n",
              "      <td>Fugitive, The (1993)</td>\n",
              "      <td>Thriller</td>\n",
              "    </tr>\n",
              "    <tr>\n",
              "      <th>301</th>\n",
              "      <td>356</td>\n",
              "      <td>Forrest Gump (1994)</td>\n",
              "      <td>Comedy|Drama|Romance|War</td>\n",
              "    </tr>\n",
              "    <tr>\n",
              "      <th>404</th>\n",
              "      <td>480</td>\n",
              "      <td>Jurassic Park (1993)</td>\n",
              "      <td>Action|Adventure|Sci-Fi|Thriller</td>\n",
              "    </tr>\n",
              "    <tr>\n",
              "      <th>492</th>\n",
              "      <td>589</td>\n",
              "      <td>Terminator 2: Judgment Day (1991)</td>\n",
              "      <td>Action|Sci-Fi</td>\n",
              "    </tr>\n",
              "    <tr>\n",
              "      <th>110</th>\n",
              "      <td>150</td>\n",
              "      <td>Apollo 13 (1995)</td>\n",
              "      <td>Adventure|Drama|IMAX</td>\n",
              "    </tr>\n",
              "    <tr>\n",
              "      <th>244</th>\n",
              "      <td>296</td>\n",
              "      <td>Pulp Fiction (1994)</td>\n",
              "      <td>Comedy|Crime|Drama|Thriller</td>\n",
              "    </tr>\n",
              "    <tr>\n",
              "      <th>323</th>\n",
              "      <td>380</td>\n",
              "      <td>True Lies (1994)</td>\n",
              "      <td>Action|Adventure|Comedy|Romance|Thriller</td>\n",
              "    </tr>\n",
              "    <tr>\n",
              "      <th>495</th>\n",
              "      <td>593</td>\n",
              "      <td>Silence of the Lambs, The (1991)</td>\n",
              "      <td>Crime|Horror|Thriller</td>\n",
              "    </tr>\n",
              "    <tr>\n",
              "      <th>264</th>\n",
              "      <td>318</td>\n",
              "      <td>Shawshank Redemption, The (1994)</td>\n",
              "      <td>Crime|Drama</td>\n",
              "    </tr>\n",
              "    <tr>\n",
              "      <th>493</th>\n",
              "      <td>590</td>\n",
              "      <td>Dances with Wolves (1990)</td>\n",
              "      <td>Adventure|Drama|Western</td>\n",
              "    </tr>\n",
              "    <tr>\n",
              "      <th>494</th>\n",
              "      <td>592</td>\n",
              "      <td>Batman (1989)</td>\n",
              "      <td>Action|Crime|Thriller</td>\n",
              "    </tr>\n",
              "    <tr>\n",
              "      <th>125</th>\n",
              "      <td>165</td>\n",
              "      <td>Die Hard: With a Vengeance (1995)</td>\n",
              "      <td>Action|Crime|Thriller</td>\n",
              "    </tr>\n",
              "    <tr>\n",
              "      <th>320</th>\n",
              "      <td>377</td>\n",
              "      <td>Speed (1994)</td>\n",
              "      <td>Action|Romance|Thriller</td>\n",
              "    </tr>\n",
              "    <tr>\n",
              "      <th>491</th>\n",
              "      <td>588</td>\n",
              "      <td>Aladdin (1992)</td>\n",
              "      <td>Adventure|Animation|Children|Comedy|Musical</td>\n",
              "    </tr>\n",
              "    <tr>\n",
              "      <th>294</th>\n",
              "      <td>349</td>\n",
              "      <td>Clear and Present Danger (1994)</td>\n",
              "      <td>Action|Crime|Drama|Thriller</td>\n",
              "    </tr>\n",
              "    <tr>\n",
              "      <th>309</th>\n",
              "      <td>364</td>\n",
              "      <td>Lion King, The (1994)</td>\n",
              "      <td>Adventure|Animation|Children|Drama|Musical|IMAX</td>\n",
              "    </tr>\n",
              "    <tr>\n",
              "      <th>262</th>\n",
              "      <td>316</td>\n",
              "      <td>Stargate (1994)</td>\n",
              "      <td>Action|Adventure|Sci-Fi</td>\n",
              "    </tr>\n",
              "    <tr>\n",
              "      <th>121</th>\n",
              "      <td>161</td>\n",
              "      <td>Crimson Tide (1995)</td>\n",
              "      <td>Drama|Thriller|War</td>\n",
              "    </tr>\n",
              "    <tr>\n",
              "      <th>5</th>\n",
              "      <td>10</td>\n",
              "      <td>GoldenEye (1995)</td>\n",
              "      <td>Action|Adventure|Thriller</td>\n",
              "    </tr>\n",
              "  </tbody>\n",
              "</table>\n",
              "</div>\n",
              "      <button class=\"colab-df-convert\" onclick=\"convertToInteractive('df-e0b04971-7b1f-4254-ab1e-616f24046697')\"\n",
              "              title=\"Convert this dataframe to an interactive table.\"\n",
              "              style=\"display:none;\">\n",
              "        \n",
              "  <svg xmlns=\"http://www.w3.org/2000/svg\" height=\"24px\"viewBox=\"0 0 24 24\"\n",
              "       width=\"24px\">\n",
              "    <path d=\"M0 0h24v24H0V0z\" fill=\"none\"/>\n",
              "    <path d=\"M18.56 5.44l.94 2.06.94-2.06 2.06-.94-2.06-.94-.94-2.06-.94 2.06-2.06.94zm-11 1L8.5 8.5l.94-2.06 2.06-.94-2.06-.94L8.5 2.5l-.94 2.06-2.06.94zm10 10l.94 2.06.94-2.06 2.06-.94-2.06-.94-.94-2.06-.94 2.06-2.06.94z\"/><path d=\"M17.41 7.96l-1.37-1.37c-.4-.4-.92-.59-1.43-.59-.52 0-1.04.2-1.43.59L10.3 9.45l-7.72 7.72c-.78.78-.78 2.05 0 2.83L4 21.41c.39.39.9.59 1.41.59.51 0 1.02-.2 1.41-.59l7.78-7.78 2.81-2.81c.8-.78.8-2.07 0-2.86zM5.41 20L4 18.59l7.72-7.72 1.47 1.35L5.41 20z\"/>\n",
              "  </svg>\n",
              "      </button>\n",
              "      \n",
              "  <style>\n",
              "    .colab-df-container {\n",
              "      display:flex;\n",
              "      flex-wrap:wrap;\n",
              "      gap: 12px;\n",
              "    }\n",
              "\n",
              "    .colab-df-convert {\n",
              "      background-color: #E8F0FE;\n",
              "      border: none;\n",
              "      border-radius: 50%;\n",
              "      cursor: pointer;\n",
              "      display: none;\n",
              "      fill: #1967D2;\n",
              "      height: 32px;\n",
              "      padding: 0 0 0 0;\n",
              "      width: 32px;\n",
              "    }\n",
              "\n",
              "    .colab-df-convert:hover {\n",
              "      background-color: #E2EBFA;\n",
              "      box-shadow: 0px 1px 2px rgba(60, 64, 67, 0.3), 0px 1px 3px 1px rgba(60, 64, 67, 0.15);\n",
              "      fill: #174EA6;\n",
              "    }\n",
              "\n",
              "    [theme=dark] .colab-df-convert {\n",
              "      background-color: #3B4455;\n",
              "      fill: #D2E3FC;\n",
              "    }\n",
              "\n",
              "    [theme=dark] .colab-df-convert:hover {\n",
              "      background-color: #434B5C;\n",
              "      box-shadow: 0px 1px 3px 1px rgba(0, 0, 0, 0.15);\n",
              "      filter: drop-shadow(0px 1px 2px rgba(0, 0, 0, 0.3));\n",
              "      fill: #FFFFFF;\n",
              "    }\n",
              "  </style>\n",
              "\n",
              "      <script>\n",
              "        const buttonEl =\n",
              "          document.querySelector('#df-e0b04971-7b1f-4254-ab1e-616f24046697 button.colab-df-convert');\n",
              "        buttonEl.style.display =\n",
              "          google.colab.kernel.accessAllowed ? 'block' : 'none';\n",
              "\n",
              "        async function convertToInteractive(key) {\n",
              "          const element = document.querySelector('#df-e0b04971-7b1f-4254-ab1e-616f24046697');\n",
              "          const dataTable =\n",
              "            await google.colab.kernel.invokeFunction('convertToInteractive',\n",
              "                                                     [key], {});\n",
              "          if (!dataTable) return;\n",
              "\n",
              "          const docLinkHtml = 'Like what you see? Visit the ' +\n",
              "            '<a target=\"_blank\" href=https://colab.research.google.com/notebooks/data_table.ipynb>data table notebook</a>'\n",
              "            + ' to learn more about interactive tables.';\n",
              "          element.innerHTML = '';\n",
              "          dataTable['output_type'] = 'display_data';\n",
              "          await google.colab.output.renderOutput(dataTable, element);\n",
              "          const docLink = document.createElement('div');\n",
              "          docLink.innerHTML = docLinkHtml;\n",
              "          element.appendChild(docLink);\n",
              "        }\n",
              "      </script>\n",
              "    </div>\n",
              "  </div>\n",
              "  "
            ]
          },
          "metadata": {},
          "execution_count": 92
        }
      ],
      "source": [
        "# Top 20 movies that User 1310 hopefully will enjoy\n",
        "predictions"
      ]
    },
    {
      "cell_type": "markdown",
      "metadata": {
        "id": "wSkojAutM0cJ"
      },
      "source": [
        "These look like pretty good recommendations. It's good to see that, although we didn't actually use the genre of the movie as a feature, the truncated matrix factorization features \"picked up\" on the underlying tastes and preferences of the user. We have recommended some Action, Adventure, Romance, Thriller movies - all of which were genres of some of this user's top rated movies."
      ]
    },
    {
      "cell_type": "markdown",
      "metadata": {
        "id": "eT1o7mSaM0cJ"
      },
      "source": [
        "## Model Evaluation"
      ]
    },
    {
      "cell_type": "markdown",
      "metadata": {
        "id": "fx_4xW2UM0cK"
      },
      "source": [
        "Can't forget to evaluate our model, can we?\n",
        "\n",
        "Instead of doing manually like the last time, we will use the Surprise library that provided various ready-to-use powerful prediction algorithms including (SVD) to evaluate its RMSE (Root Mean Squared Error) on the MovieLens dataset. It is a Python scikit building and analyzing recommender systems."
      ]
    },
    {
      "cell_type": "code",
      "execution_count": 93,
      "metadata": {
        "colab": {
          "base_uri": "https://localhost:8080/"
        },
        "id": "JiD7lF9aM0cL",
        "outputId": "0ebc1579-d1ca-4935-e258-1bc8822504d3"
      },
      "outputs": [
        {
          "output_type": "stream",
          "name": "stdout",
          "text": [
            "Looking in indexes: https://pypi.org/simple, https://us-python.pkg.dev/colab-wheels/public/simple/\n",
            "Collecting scikit-surprise\n",
            "  Downloading scikit-surprise-1.1.1.tar.gz (11.8 MB)\n",
            "\u001b[K     |████████████████████████████████| 11.8 MB 5.4 MB/s \n",
            "\u001b[?25hRequirement already satisfied: joblib>=0.11 in /usr/local/lib/python3.7/dist-packages (from scikit-surprise) (1.2.0)\n",
            "Requirement already satisfied: numpy>=1.11.2 in /usr/local/lib/python3.7/dist-packages (from scikit-surprise) (1.21.6)\n",
            "Requirement already satisfied: scipy>=1.0.0 in /usr/local/lib/python3.7/dist-packages (from scikit-surprise) (1.7.3)\n",
            "Requirement already satisfied: six>=1.10.0 in /usr/local/lib/python3.7/dist-packages (from scikit-surprise) (1.15.0)\n",
            "Building wheels for collected packages: scikit-surprise\n",
            "  Building wheel for scikit-surprise (setup.py) ... \u001b[?25l\u001b[?25hdone\n",
            "  Created wheel for scikit-surprise: filename=scikit_surprise-1.1.1-cp37-cp37m-linux_x86_64.whl size=1633998 sha256=6a5db927eb9a79016f0a4df38dcf53876665907614162d1cc09cdd922c0226ce\n",
            "  Stored in directory: /root/.cache/pip/wheels/76/44/74/b498c42be47b2406bd27994e16c5188e337c657025ab400c1c\n",
            "Successfully built scikit-surprise\n",
            "Installing collected packages: scikit-surprise\n",
            "Successfully installed scikit-surprise-1.1.1\n"
          ]
        }
      ],
      "source": [
        "!pip install scikit-surprise"
      ]
    },
    {
      "cell_type": "code",
      "execution_count": 94,
      "metadata": {
        "colab": {
          "base_uri": "https://localhost:8080/"
        },
        "id": "Cc7FjLobM0cL",
        "outputId": "79fa0e76-b73d-45ee-b5c2-50d5a6174076"
      },
      "outputs": [
        {
          "output_type": "stream",
          "name": "stdout",
          "text": [
            "Evaluating RMSE, MAE of algorithm SVD on 5 split(s).\n",
            "\n",
            "                  Fold 1  Fold 2  Fold 3  Fold 4  Fold 5  Mean    Std     \n",
            "RMSE (testset)    0.8762  0.8820  0.8691  0.8635  0.8723  0.8726  0.0063  \n",
            "MAE (testset)     0.6718  0.6765  0.6705  0.6646  0.6689  0.6705  0.0039  \n",
            "Fit time          13.26   9.43    5.68    5.64    5.62    7.93    3.05    \n",
            "Test time         0.47    0.18    0.45    0.18    0.18    0.29    0.14    \n"
          ]
        },
        {
          "output_type": "execute_result",
          "data": {
            "text/plain": [
              "{'test_rmse': array([0.87618831, 0.88195176, 0.86909458, 0.86349733, 0.87232554]),\n",
              " 'test_mae': array([0.67182683, 0.67653198, 0.67050021, 0.66461298, 0.66887378]),\n",
              " 'fit_time': (13.263131856918335,\n",
              "  9.43169116973877,\n",
              "  5.677214860916138,\n",
              "  5.639891862869263,\n",
              "  5.617027997970581),\n",
              " 'test_time': (0.46521902084350586,\n",
              "  0.18355846405029297,\n",
              "  0.4537672996520996,\n",
              "  0.17912721633911133,\n",
              "  0.1768205165863037)}"
            ]
          },
          "metadata": {},
          "execution_count": 94
        }
      ],
      "source": [
        "# Import libraries from Surprise package\n",
        "from surprise import Reader, Dataset, SVD\n",
        "from surprise.model_selection import cross_validate\n",
        "from surprise.model_selection import train_test_split\n",
        "\n",
        "# Load Reader library\n",
        "reader = Reader()\n",
        "\n",
        "# Load ratings dataset with Dataset library\n",
        "data = Dataset.load_from_df(ratings[['userId', 'movieId', 'rating']], reader)\n",
        "\n",
        "# Split the dataset for 5-fold evaluation\n",
        "#data.split(n_folds=5)\n",
        "# Use the SVD algorithm.\n",
        "svd = SVD()\n",
        "# Run 5-fold cross-validation and print results.\n",
        "cross_validate(svd, data, measures=['RMSE', 'MAE'], cv=5, verbose=True)"
      ]
    },
    {
      "cell_type": "code",
      "execution_count": 95,
      "metadata": {
        "scrolled": true,
        "id": "LBxERDrWM0cM"
      },
      "outputs": [],
      "source": [
        "# Use the SVD algorithm.\n",
        "#svd = SVD()\n",
        "\n",
        "# Compute the RMSE of the SVD algorithm.\n",
        "#evaluate(svd, data, measures=['RMSE'])"
      ]
    },
    {
      "cell_type": "code",
      "execution_count": 96,
      "metadata": {
        "id": "mIdzOSWhM0cN"
      },
      "outputs": [],
      "source": [
        "#cross_validate(svd, data, measures=['RMSE', 'MAE'], cv=5, verbose=True)"
      ]
    },
    {
      "cell_type": "markdown",
      "metadata": {
        "id": "zwdYqTKsM0cO"
      },
      "source": [
        "We get a mean Root Mean Square Error of  0.87 which is pretty good. Let's now train on the dataset and arrive at predictions."
      ]
    },
    {
      "cell_type": "code",
      "execution_count": 97,
      "metadata": {
        "colab": {
          "base_uri": "https://localhost:8080/"
        },
        "id": "NlpjWH_lM0cO",
        "outputId": "86f5573e-5738-4417-9895-fb3431098b0f"
      },
      "outputs": [
        {
          "output_type": "execute_result",
          "data": {
            "text/plain": [
              "<surprise.prediction_algorithms.matrix_factorization.SVD at 0x7f1e04fdd290>"
            ]
          },
          "metadata": {},
          "execution_count": 97
        }
      ],
      "source": [
        "#trainset = data.build_full_trainset()\n",
        "\n",
        "\n",
        "trainset, testset = train_test_split(data, test_size=.25)\n",
        "\n",
        "svd.fit(trainset)\n"
      ]
    },
    {
      "cell_type": "markdown",
      "metadata": {
        "id": "voLWTF45M0cP"
      },
      "source": [
        "We will pick again user with ID 150 and check the ratings he has given."
      ]
    },
    {
      "cell_type": "code",
      "execution_count": 98,
      "metadata": {
        "scrolled": false,
        "colab": {
          "base_uri": "https://localhost:8080/",
          "height": 864
        },
        "id": "dWItWn-7M0cQ",
        "outputId": "921e8a27-c172-4c66-fa35-860f1bcca5cc"
      },
      "outputs": [
        {
          "output_type": "execute_result",
          "data": {
            "text/plain": [
              "       userId  movieId  rating  timestamp\n",
              "22277     150        3     3.0  854203124\n",
              "22278     150        5     3.0  854203124\n",
              "22279     150        6     4.0  854203123\n",
              "22280     150        7     3.0  854203124\n",
              "22281     150       25     4.0  854203072\n",
              "22282     150       32     5.0  854203071\n",
              "22283     150       36     4.0  854203123\n",
              "22284     150       52     4.0  854203163\n",
              "22285     150       58     3.0  854203163\n",
              "22286     150       62     3.0  854203072\n",
              "22287     150       79     3.0  854203229\n",
              "22288     150       95     3.0  854203072\n",
              "22289     150      141     5.0  854203072\n",
              "22290     150      376     3.0  854203124\n",
              "22291     150      494     3.0  854203124\n",
              "22292     150      608     4.0  854203123\n",
              "22293     150      628     3.0  854203229\n",
              "22294     150      648     4.0  854203072\n",
              "22295     150      653     3.0  854203163\n",
              "22296     150      733     4.0  854203123\n",
              "22297     150      780     4.0  854203071\n",
              "22298     150      784     3.0  854203163\n",
              "22299     150      786     3.0  854203163\n",
              "22300     150      805     4.0  854203230\n",
              "22301     150     1073     3.0  854203163\n",
              "22302     150     1356     5.0  854203229"
            ],
            "text/html": [
              "\n",
              "  <div id=\"df-6c7dd5a6-e2bb-4799-b5fd-0cfab52fe0d4\">\n",
              "    <div class=\"colab-df-container\">\n",
              "      <div>\n",
              "<style scoped>\n",
              "    .dataframe tbody tr th:only-of-type {\n",
              "        vertical-align: middle;\n",
              "    }\n",
              "\n",
              "    .dataframe tbody tr th {\n",
              "        vertical-align: top;\n",
              "    }\n",
              "\n",
              "    .dataframe thead th {\n",
              "        text-align: right;\n",
              "    }\n",
              "</style>\n",
              "<table border=\"1\" class=\"dataframe\">\n",
              "  <thead>\n",
              "    <tr style=\"text-align: right;\">\n",
              "      <th></th>\n",
              "      <th>userId</th>\n",
              "      <th>movieId</th>\n",
              "      <th>rating</th>\n",
              "      <th>timestamp</th>\n",
              "    </tr>\n",
              "  </thead>\n",
              "  <tbody>\n",
              "    <tr>\n",
              "      <th>22277</th>\n",
              "      <td>150</td>\n",
              "      <td>3</td>\n",
              "      <td>3.0</td>\n",
              "      <td>854203124</td>\n",
              "    </tr>\n",
              "    <tr>\n",
              "      <th>22278</th>\n",
              "      <td>150</td>\n",
              "      <td>5</td>\n",
              "      <td>3.0</td>\n",
              "      <td>854203124</td>\n",
              "    </tr>\n",
              "    <tr>\n",
              "      <th>22279</th>\n",
              "      <td>150</td>\n",
              "      <td>6</td>\n",
              "      <td>4.0</td>\n",
              "      <td>854203123</td>\n",
              "    </tr>\n",
              "    <tr>\n",
              "      <th>22280</th>\n",
              "      <td>150</td>\n",
              "      <td>7</td>\n",
              "      <td>3.0</td>\n",
              "      <td>854203124</td>\n",
              "    </tr>\n",
              "    <tr>\n",
              "      <th>22281</th>\n",
              "      <td>150</td>\n",
              "      <td>25</td>\n",
              "      <td>4.0</td>\n",
              "      <td>854203072</td>\n",
              "    </tr>\n",
              "    <tr>\n",
              "      <th>22282</th>\n",
              "      <td>150</td>\n",
              "      <td>32</td>\n",
              "      <td>5.0</td>\n",
              "      <td>854203071</td>\n",
              "    </tr>\n",
              "    <tr>\n",
              "      <th>22283</th>\n",
              "      <td>150</td>\n",
              "      <td>36</td>\n",
              "      <td>4.0</td>\n",
              "      <td>854203123</td>\n",
              "    </tr>\n",
              "    <tr>\n",
              "      <th>22284</th>\n",
              "      <td>150</td>\n",
              "      <td>52</td>\n",
              "      <td>4.0</td>\n",
              "      <td>854203163</td>\n",
              "    </tr>\n",
              "    <tr>\n",
              "      <th>22285</th>\n",
              "      <td>150</td>\n",
              "      <td>58</td>\n",
              "      <td>3.0</td>\n",
              "      <td>854203163</td>\n",
              "    </tr>\n",
              "    <tr>\n",
              "      <th>22286</th>\n",
              "      <td>150</td>\n",
              "      <td>62</td>\n",
              "      <td>3.0</td>\n",
              "      <td>854203072</td>\n",
              "    </tr>\n",
              "    <tr>\n",
              "      <th>22287</th>\n",
              "      <td>150</td>\n",
              "      <td>79</td>\n",
              "      <td>3.0</td>\n",
              "      <td>854203229</td>\n",
              "    </tr>\n",
              "    <tr>\n",
              "      <th>22288</th>\n",
              "      <td>150</td>\n",
              "      <td>95</td>\n",
              "      <td>3.0</td>\n",
              "      <td>854203072</td>\n",
              "    </tr>\n",
              "    <tr>\n",
              "      <th>22289</th>\n",
              "      <td>150</td>\n",
              "      <td>141</td>\n",
              "      <td>5.0</td>\n",
              "      <td>854203072</td>\n",
              "    </tr>\n",
              "    <tr>\n",
              "      <th>22290</th>\n",
              "      <td>150</td>\n",
              "      <td>376</td>\n",
              "      <td>3.0</td>\n",
              "      <td>854203124</td>\n",
              "    </tr>\n",
              "    <tr>\n",
              "      <th>22291</th>\n",
              "      <td>150</td>\n",
              "      <td>494</td>\n",
              "      <td>3.0</td>\n",
              "      <td>854203124</td>\n",
              "    </tr>\n",
              "    <tr>\n",
              "      <th>22292</th>\n",
              "      <td>150</td>\n",
              "      <td>608</td>\n",
              "      <td>4.0</td>\n",
              "      <td>854203123</td>\n",
              "    </tr>\n",
              "    <tr>\n",
              "      <th>22293</th>\n",
              "      <td>150</td>\n",
              "      <td>628</td>\n",
              "      <td>3.0</td>\n",
              "      <td>854203229</td>\n",
              "    </tr>\n",
              "    <tr>\n",
              "      <th>22294</th>\n",
              "      <td>150</td>\n",
              "      <td>648</td>\n",
              "      <td>4.0</td>\n",
              "      <td>854203072</td>\n",
              "    </tr>\n",
              "    <tr>\n",
              "      <th>22295</th>\n",
              "      <td>150</td>\n",
              "      <td>653</td>\n",
              "      <td>3.0</td>\n",
              "      <td>854203163</td>\n",
              "    </tr>\n",
              "    <tr>\n",
              "      <th>22296</th>\n",
              "      <td>150</td>\n",
              "      <td>733</td>\n",
              "      <td>4.0</td>\n",
              "      <td>854203123</td>\n",
              "    </tr>\n",
              "    <tr>\n",
              "      <th>22297</th>\n",
              "      <td>150</td>\n",
              "      <td>780</td>\n",
              "      <td>4.0</td>\n",
              "      <td>854203071</td>\n",
              "    </tr>\n",
              "    <tr>\n",
              "      <th>22298</th>\n",
              "      <td>150</td>\n",
              "      <td>784</td>\n",
              "      <td>3.0</td>\n",
              "      <td>854203163</td>\n",
              "    </tr>\n",
              "    <tr>\n",
              "      <th>22299</th>\n",
              "      <td>150</td>\n",
              "      <td>786</td>\n",
              "      <td>3.0</td>\n",
              "      <td>854203163</td>\n",
              "    </tr>\n",
              "    <tr>\n",
              "      <th>22300</th>\n",
              "      <td>150</td>\n",
              "      <td>805</td>\n",
              "      <td>4.0</td>\n",
              "      <td>854203230</td>\n",
              "    </tr>\n",
              "    <tr>\n",
              "      <th>22301</th>\n",
              "      <td>150</td>\n",
              "      <td>1073</td>\n",
              "      <td>3.0</td>\n",
              "      <td>854203163</td>\n",
              "    </tr>\n",
              "    <tr>\n",
              "      <th>22302</th>\n",
              "      <td>150</td>\n",
              "      <td>1356</td>\n",
              "      <td>5.0</td>\n",
              "      <td>854203229</td>\n",
              "    </tr>\n",
              "  </tbody>\n",
              "</table>\n",
              "</div>\n",
              "      <button class=\"colab-df-convert\" onclick=\"convertToInteractive('df-6c7dd5a6-e2bb-4799-b5fd-0cfab52fe0d4')\"\n",
              "              title=\"Convert this dataframe to an interactive table.\"\n",
              "              style=\"display:none;\">\n",
              "        \n",
              "  <svg xmlns=\"http://www.w3.org/2000/svg\" height=\"24px\"viewBox=\"0 0 24 24\"\n",
              "       width=\"24px\">\n",
              "    <path d=\"M0 0h24v24H0V0z\" fill=\"none\"/>\n",
              "    <path d=\"M18.56 5.44l.94 2.06.94-2.06 2.06-.94-2.06-.94-.94-2.06-.94 2.06-2.06.94zm-11 1L8.5 8.5l.94-2.06 2.06-.94-2.06-.94L8.5 2.5l-.94 2.06-2.06.94zm10 10l.94 2.06.94-2.06 2.06-.94-2.06-.94-.94-2.06-.94 2.06-2.06.94z\"/><path d=\"M17.41 7.96l-1.37-1.37c-.4-.4-.92-.59-1.43-.59-.52 0-1.04.2-1.43.59L10.3 9.45l-7.72 7.72c-.78.78-.78 2.05 0 2.83L4 21.41c.39.39.9.59 1.41.59.51 0 1.02-.2 1.41-.59l7.78-7.78 2.81-2.81c.8-.78.8-2.07 0-2.86zM5.41 20L4 18.59l7.72-7.72 1.47 1.35L5.41 20z\"/>\n",
              "  </svg>\n",
              "      </button>\n",
              "      \n",
              "  <style>\n",
              "    .colab-df-container {\n",
              "      display:flex;\n",
              "      flex-wrap:wrap;\n",
              "      gap: 12px;\n",
              "    }\n",
              "\n",
              "    .colab-df-convert {\n",
              "      background-color: #E8F0FE;\n",
              "      border: none;\n",
              "      border-radius: 50%;\n",
              "      cursor: pointer;\n",
              "      display: none;\n",
              "      fill: #1967D2;\n",
              "      height: 32px;\n",
              "      padding: 0 0 0 0;\n",
              "      width: 32px;\n",
              "    }\n",
              "\n",
              "    .colab-df-convert:hover {\n",
              "      background-color: #E2EBFA;\n",
              "      box-shadow: 0px 1px 2px rgba(60, 64, 67, 0.3), 0px 1px 3px 1px rgba(60, 64, 67, 0.15);\n",
              "      fill: #174EA6;\n",
              "    }\n",
              "\n",
              "    [theme=dark] .colab-df-convert {\n",
              "      background-color: #3B4455;\n",
              "      fill: #D2E3FC;\n",
              "    }\n",
              "\n",
              "    [theme=dark] .colab-df-convert:hover {\n",
              "      background-color: #434B5C;\n",
              "      box-shadow: 0px 1px 3px 1px rgba(0, 0, 0, 0.15);\n",
              "      filter: drop-shadow(0px 1px 2px rgba(0, 0, 0, 0.3));\n",
              "      fill: #FFFFFF;\n",
              "    }\n",
              "  </style>\n",
              "\n",
              "      <script>\n",
              "        const buttonEl =\n",
              "          document.querySelector('#df-6c7dd5a6-e2bb-4799-b5fd-0cfab52fe0d4 button.colab-df-convert');\n",
              "        buttonEl.style.display =\n",
              "          google.colab.kernel.accessAllowed ? 'block' : 'none';\n",
              "\n",
              "        async function convertToInteractive(key) {\n",
              "          const element = document.querySelector('#df-6c7dd5a6-e2bb-4799-b5fd-0cfab52fe0d4');\n",
              "          const dataTable =\n",
              "            await google.colab.kernel.invokeFunction('convertToInteractive',\n",
              "                                                     [key], {});\n",
              "          if (!dataTable) return;\n",
              "\n",
              "          const docLinkHtml = 'Like what you see? Visit the ' +\n",
              "            '<a target=\"_blank\" href=https://colab.research.google.com/notebooks/data_table.ipynb>data table notebook</a>'\n",
              "            + ' to learn more about interactive tables.';\n",
              "          element.innerHTML = '';\n",
              "          dataTable['output_type'] = 'display_data';\n",
              "          await google.colab.output.renderOutput(dataTable, element);\n",
              "          const docLink = document.createElement('div');\n",
              "          docLink.innerHTML = docLinkHtml;\n",
              "          element.appendChild(docLink);\n",
              "        }\n",
              "      </script>\n",
              "    </div>\n",
              "  </div>\n",
              "  "
            ]
          },
          "metadata": {},
          "execution_count": 98
        }
      ],
      "source": [
        "ratings[ratings['userId'] == 150]"
      ]
    },
    {
      "cell_type": "markdown",
      "metadata": {
        "id": "pRKw7GxyM0cR"
      },
      "source": [
        "Now let's use SVD to predict the rating that User with ID 150 will give to a random movie (let's say with Movie ID 1994)."
      ]
    },
    {
      "cell_type": "code",
      "execution_count": 99,
      "metadata": {
        "scrolled": false,
        "colab": {
          "base_uri": "https://localhost:8080/"
        },
        "id": "RzHrDtORM0cR",
        "outputId": "e35f379b-3713-4ad2-c988-88238031d95e"
      },
      "outputs": [
        {
          "output_type": "execute_result",
          "data": {
            "text/plain": [
              "Prediction(uid=150, iid=1994, r_ui=None, est=3.3201454074241004, details={'was_impossible': False})"
            ]
          },
          "metadata": {},
          "execution_count": 99
        }
      ],
      "source": [
        "svd.predict(150, 1994)"
      ]
    },
    {
      "cell_type": "markdown",
      "metadata": {
        "id": "DGj2Wq8eM0cS"
      },
      "source": [
        "For movie with ID 1994, I get an estimated prediction of 3.18210. The recommender system works purely on the basis of an assigned movie ID and tries to predict ratings based on how the other users have predicted the movie."
      ]
    },
    {
      "cell_type": "code",
      "execution_count": 100,
      "metadata": {
        "colab": {
          "base_uri": "https://localhost:8080/"
        },
        "id": "ztNvxJlyM0cT",
        "outputId": "e99f8fc4-457d-4f87-d350-c58a5054011c"
      },
      "outputs": [
        {
          "output_type": "execute_result",
          "data": {
            "text/plain": [
              "Prediction(uid=150, iid=100, r_ui=None, est=3.187808613898908, details={'was_impossible': False})"
            ]
          },
          "metadata": {},
          "execution_count": 100
        }
      ],
      "source": [
        "svd.predict(150, 100)"
      ]
    },
    {
      "cell_type": "code",
      "execution_count": 101,
      "metadata": {
        "colab": {
          "base_uri": "https://localhost:8080/"
        },
        "id": "DVL7DXJtM0cU",
        "outputId": "083373e6-c43d-4546-9d35-3f388aa2901b"
      },
      "outputs": [
        {
          "output_type": "execute_result",
          "data": {
            "text/plain": [
              "Prediction(uid=150, iid=194, r_ui=None, est=3.3322420994276047, details={'was_impossible': False})"
            ]
          },
          "metadata": {},
          "execution_count": 101
        }
      ],
      "source": [
        "svd.predict(150, 194)"
      ]
    },
    {
      "cell_type": "code",
      "execution_count": 102,
      "metadata": {
        "scrolled": true,
        "colab": {
          "base_uri": "https://localhost:8080/"
        },
        "id": "fdotJYxrM0cU",
        "outputId": "3bbaf3c0-ebc8-4d13-adce-588be39883b0"
      },
      "outputs": [
        {
          "output_type": "execute_result",
          "data": {
            "text/plain": [
              "Prediction(uid=150, iid=190, r_ui=None, est=3.2526287791369266, details={'was_impossible': False})"
            ]
          },
          "metadata": {},
          "execution_count": 102
        }
      ],
      "source": [
        "svd.predict(150, 190)"
      ]
    },
    {
      "cell_type": "code",
      "execution_count": 103,
      "metadata": {
        "id": "8g15kds3M0cV"
      },
      "outputs": [],
      "source": [
        "from __future__ import (absolute_import, division, print_function,\n",
        "                        unicode_literals)\n",
        "\n",
        "from surprise import SVDpp\n",
        "from surprise import SVD\n",
        "from surprise import Dataset\n",
        "from surprise import accuracy\n",
        "from surprise.model_selection import train_test_split\n",
        "from surprise.model_selection import GridSearchCV\n",
        "from surprise.model_selection import cross_validate"
      ]
    },
    {
      "cell_type": "code",
      "execution_count": 105,
      "metadata": {
        "colab": {
          "base_uri": "https://localhost:8080/"
        },
        "id": "1G_ewUJnM0cW",
        "outputId": "0586fe59-b880-4ce8-eda5-29267ed8e7a8"
      },
      "outputs": [
        {
          "output_type": "stream",
          "name": "stdout",
          "text": [
            "Dataset ml-100k could not be found. Do you want to download it? [Y/n] Y\n",
            "Trying to download dataset from http://files.grouplens.org/datasets/movielens/ml-100k.zip...\n",
            "Done! Dataset ml-100k has been saved to /root/.surprise_data/ml-100k\n"
          ]
        },
        {
          "output_type": "execute_result",
          "data": {
            "text/plain": [
              "surprise.dataset.DatasetAutoFolds"
            ]
          },
          "metadata": {},
          "execution_count": 105
        }
      ],
      "source": [
        "# Use movielens-100K\n",
        "data = Dataset.load_builtin('ml-100k')\n",
        "trainset, testset = train_test_split(data, test_size=.15)\n",
        "\n",
        "type(data)"
      ]
    },
    {
      "cell_type": "markdown",
      "metadata": {
        "id": "d68rVmGkM0cX"
      },
      "source": [
        "## SVD++\n",
        "To build a robust recommender system, we need to develop models which factor in both explicit and implicit user feedback. For our Movielens dataset, a less obvious kind of implicit data does exist. The dataset does not only tell us the rating values, but also which movies users rate, regardless of how they rated these movies. In other words, a user implicitly tells us about her preferences by choosing to voice her opinion and vote a (high or low) rating. This reduces the ratings matrix into a binary matrix, where “1” stands for “rated”, and “0” for “not rated”. Admittedly, this binary data is not as vast and independent as other sources of implicit feedback could be. Nonetheless, we have found that incorporating this kind of implicit data – which inherently exist in every rating based recommender system – significantly improves prediction accuracy. SVD++ factors in this implicit feedback and gives better accuracy as shown below.\n"
      ]
    },
    {
      "cell_type": "code",
      "execution_count": 106,
      "metadata": {
        "colab": {
          "base_uri": "https://localhost:8080/"
        },
        "id": "wGlTce7ZM0cY",
        "outputId": "3106bbc4-6404-48ab-bca2-f44e36200633"
      },
      "outputs": [
        {
          "output_type": "stream",
          "name": "stdout",
          "text": [
            "SVDpp : Test Set\n",
            "RMSE: 0.9415\n"
          ]
        },
        {
          "output_type": "execute_result",
          "data": {
            "text/plain": [
              "0.941519222542349"
            ]
          },
          "metadata": {},
          "execution_count": 106
        }
      ],
      "source": [
        "algo_svdpp = SVDpp(n_factors=160, n_epochs=10, lr_all=0.005, reg_all=0.1)\n",
        "algo_svdpp.fit(trainset)\n",
        "test_pred = algo_svdpp.test(testset)\n",
        "print(\"SVDpp : Test Set\")\n",
        "accuracy.rmse(test_pred, verbose=True)"
      ]
    },
    {
      "cell_type": "markdown",
      "metadata": {
        "id": "6IGCuNcqM0cY"
      },
      "source": [
        "We have explored and used Surprise package:\n",
        "This package has been specially developed to make recommendation based on collaborative filtering easy. It has default implementation for a variety of CF algorithms.\n",
        "\n"
      ]
    },
    {
      "cell_type": "markdown",
      "metadata": {
        "id": "LQkYcTVbM0ca"
      },
      "source": [
        "# Evaluating Collaborative Filtering"
      ]
    },
    {
      "cell_type": "markdown",
      "metadata": {
        "id": "hK4C681rM0ca"
      },
      "source": [
        "***Hit Ratio***\n",
        "It is ratio of number of hits/ Total recommendation"
      ]
    },
    {
      "cell_type": "code",
      "execution_count": 107,
      "metadata": {
        "id": "0AwxYMN2M0cb"
      },
      "outputs": [],
      "source": [
        "user_id=50"
      ]
    },
    {
      "cell_type": "code",
      "execution_count": 108,
      "metadata": {
        "id": "MzOhjNviM0cb"
      },
      "outputs": [],
      "source": [
        "def evaluation_collaborative_svd_model(userId,userOrItem):\n",
        "    \"\"\"\n",
        "    hydrid the functionality of Collaborative based and svd based model to see if ratings of predicted movies \n",
        "    :param userId: userId of user, userOrItem is a boolean value if True it is User-User and if false Item-Item\n",
        "    :return: dataframe of movies and ratings\n",
        "    \"\"\" \n",
        "    movieIdsList= list()\n",
        "    movieRatingList=list()\n",
        "    movieIdRating= pd.DataFrame(columns=['movieId','rating'])\n",
        "    if userOrItem== True:\n",
        "        movieIdsList=getRecommendedMoviesAsperUserSimilarity(userId)\n",
        "    else:\n",
        "        movieIdsList=recommendedMoviesAsperItemSimilarity(user_id)\n",
        "    for movieId in movieIdsList:\n",
        "        predict = svd.predict(userId, movieId)\n",
        "        movieRatingList.append([movieId,predict.est])\n",
        "        movieIdRating = pd.DataFrame(np.array(movieRatingList), columns=['movieId','rating'])\n",
        "        count=movieIdRating[(movieIdRating['rating'])>=3]['movieId'].count()\n",
        "        total=movieIdRating.shape[0]\n",
        "        hit_ratio= count/total\n",
        "    return hit_ratio\n",
        "    "
      ]
    },
    {
      "cell_type": "code",
      "execution_count": 109,
      "metadata": {
        "scrolled": true,
        "colab": {
          "base_uri": "https://localhost:8080/"
        },
        "id": "qnF7XFsKM0cd",
        "outputId": "454d7127-0e3e-4a06-a7e7-e47d758b48bf"
      },
      "outputs": [
        {
          "output_type": "stream",
          "name": "stdout",
          "text": [
            "Hit ratio of User-user collaborative filtering\n",
            "0.6666666666666666\n",
            "Hit ratio of Item-Item collaborative filtering\n",
            "0.8888888888888888\n"
          ]
        }
      ],
      "source": [
        "print(\"Hit ratio of User-user collaborative filtering\")\n",
        "print(evaluation_collaborative_svd_model(user_id,True))\n",
        "print(\"Hit ratio of Item-Item collaborative filtering\")\n",
        "print(evaluation_collaborative_svd_model(user_id,False))"
      ]
    },
    {
      "cell_type": "markdown",
      "metadata": {
        "id": "B24y-Xp_M0cd"
      },
      "source": [
        "# Hybrid model:\n",
        "\n",
        "After developing individual models as discussed earlier, we now stack them in order to get better results.\n",
        "\n",
        "Content Based Filtering + SVD\n",
        "\n",
        "Steps:\n",
        "1. Run Content based filtering and determine the movies which we want to recommend to the user.\n",
        "2. Filter and sort the recommendations of CF using SVD predicted ratings.\n"
      ]
    },
    {
      "cell_type": "code",
      "execution_count": 110,
      "metadata": {
        "colab": {
          "base_uri": "https://localhost:8080/",
          "height": 616
        },
        "id": "9AHJG8EEM0ce",
        "outputId": "dfaed5ce-2a82-47c3-a189-ce2061a4c747"
      },
      "outputs": [
        {
          "output_type": "stream",
          "name": "stderr",
          "text": [
            "/usr/local/lib/python3.7/dist-packages/pandas/core/indexing.py:1684: SettingWithCopyWarning: \n",
            "A value is trying to be set on a copy of a slice from a DataFrame.\n",
            "Try using .loc[row_indexer,col_indexer] = value instead\n",
            "\n",
            "See the caveats in the documentation: https://pandas.pydata.org/pandas-docs/stable/user_guide/indexing.html#returning-a-view-versus-a-copy\n",
            "  self.obj[key] = infer_fill_value(value)\n",
            "/usr/local/lib/python3.7/dist-packages/pandas/core/indexing.py:1817: SettingWithCopyWarning: \n",
            "A value is trying to be set on a copy of a slice from a DataFrame.\n",
            "Try using .loc[row_indexer,col_indexer] = value instead\n",
            "\n",
            "See the caveats in the documentation: https://pandas.pydata.org/pandas-docs/stable/user_guide/indexing.html#returning-a-view-versus-a-copy\n",
            "  self._setitem_single_column(loc, value, pi)\n"
          ]
        },
        {
          "output_type": "execute_result",
          "data": {
            "text/plain": [
              "      movieId                                              title  \\\n",
              "706       924                       2001: A Space Odyssey (1968)   \n",
              "224       260          Star Wars: Episode IV - A New Hope (1977)   \n",
              "1218     1617                           L.A. Confidential (1997)   \n",
              "520       608                                       Fargo (1996)   \n",
              "910      1209  Once Upon a Time in the West (C'era una volta ...   \n",
              "828      1089                              Reservoir Dogs (1992)   \n",
              "1730     2324         Life Is Beautiful (La Vita è bella) (1997)   \n",
              "254       293  Léon: The Professional (a.k.a. The Professiona...   \n",
              "33         36                            Dead Man Walking (1995)   \n",
              "933      1233                       Boot, Das (Boat, The) (1981)   \n",
              "826      1086                           Dial M for Murder (1954)   \n",
              "\n",
              "                                genres  svd_rating  \n",
              "706             Adventure|Drama|Sci-Fi    3.546987  \n",
              "224            Action|Adventure|Sci-Fi    3.506074  \n",
              "1218  Crime|Film-Noir|Mystery|Thriller    3.486975  \n",
              "520        Comedy|Crime|Drama|Thriller    3.482820  \n",
              "910               Action|Drama|Western    3.383789  \n",
              "828             Crime|Mystery|Thriller    3.360723  \n",
              "1730          Comedy|Drama|Romance|War    3.298593  \n",
              "254        Action|Crime|Drama|Thriller    3.225694  \n",
              "33                         Crime|Drama    3.223136  \n",
              "933                   Action|Drama|War    3.221491  \n",
              "826             Crime|Mystery|Thriller    3.201461  "
            ],
            "text/html": [
              "\n",
              "  <div id=\"df-e48f6727-7469-41d9-b76d-10a1b6fcd205\">\n",
              "    <div class=\"colab-df-container\">\n",
              "      <div>\n",
              "<style scoped>\n",
              "    .dataframe tbody tr th:only-of-type {\n",
              "        vertical-align: middle;\n",
              "    }\n",
              "\n",
              "    .dataframe tbody tr th {\n",
              "        vertical-align: top;\n",
              "    }\n",
              "\n",
              "    .dataframe thead th {\n",
              "        text-align: right;\n",
              "    }\n",
              "</style>\n",
              "<table border=\"1\" class=\"dataframe\">\n",
              "  <thead>\n",
              "    <tr style=\"text-align: right;\">\n",
              "      <th></th>\n",
              "      <th>movieId</th>\n",
              "      <th>title</th>\n",
              "      <th>genres</th>\n",
              "      <th>svd_rating</th>\n",
              "    </tr>\n",
              "  </thead>\n",
              "  <tbody>\n",
              "    <tr>\n",
              "      <th>706</th>\n",
              "      <td>924</td>\n",
              "      <td>2001: A Space Odyssey (1968)</td>\n",
              "      <td>Adventure|Drama|Sci-Fi</td>\n",
              "      <td>3.546987</td>\n",
              "    </tr>\n",
              "    <tr>\n",
              "      <th>224</th>\n",
              "      <td>260</td>\n",
              "      <td>Star Wars: Episode IV - A New Hope (1977)</td>\n",
              "      <td>Action|Adventure|Sci-Fi</td>\n",
              "      <td>3.506074</td>\n",
              "    </tr>\n",
              "    <tr>\n",
              "      <th>1218</th>\n",
              "      <td>1617</td>\n",
              "      <td>L.A. Confidential (1997)</td>\n",
              "      <td>Crime|Film-Noir|Mystery|Thriller</td>\n",
              "      <td>3.486975</td>\n",
              "    </tr>\n",
              "    <tr>\n",
              "      <th>520</th>\n",
              "      <td>608</td>\n",
              "      <td>Fargo (1996)</td>\n",
              "      <td>Comedy|Crime|Drama|Thriller</td>\n",
              "      <td>3.482820</td>\n",
              "    </tr>\n",
              "    <tr>\n",
              "      <th>910</th>\n",
              "      <td>1209</td>\n",
              "      <td>Once Upon a Time in the West (C'era una volta ...</td>\n",
              "      <td>Action|Drama|Western</td>\n",
              "      <td>3.383789</td>\n",
              "    </tr>\n",
              "    <tr>\n",
              "      <th>828</th>\n",
              "      <td>1089</td>\n",
              "      <td>Reservoir Dogs (1992)</td>\n",
              "      <td>Crime|Mystery|Thriller</td>\n",
              "      <td>3.360723</td>\n",
              "    </tr>\n",
              "    <tr>\n",
              "      <th>1730</th>\n",
              "      <td>2324</td>\n",
              "      <td>Life Is Beautiful (La Vita è bella) (1997)</td>\n",
              "      <td>Comedy|Drama|Romance|War</td>\n",
              "      <td>3.298593</td>\n",
              "    </tr>\n",
              "    <tr>\n",
              "      <th>254</th>\n",
              "      <td>293</td>\n",
              "      <td>Léon: The Professional (a.k.a. The Professiona...</td>\n",
              "      <td>Action|Crime|Drama|Thriller</td>\n",
              "      <td>3.225694</td>\n",
              "    </tr>\n",
              "    <tr>\n",
              "      <th>33</th>\n",
              "      <td>36</td>\n",
              "      <td>Dead Man Walking (1995)</td>\n",
              "      <td>Crime|Drama</td>\n",
              "      <td>3.223136</td>\n",
              "    </tr>\n",
              "    <tr>\n",
              "      <th>933</th>\n",
              "      <td>1233</td>\n",
              "      <td>Boot, Das (Boat, The) (1981)</td>\n",
              "      <td>Action|Drama|War</td>\n",
              "      <td>3.221491</td>\n",
              "    </tr>\n",
              "    <tr>\n",
              "      <th>826</th>\n",
              "      <td>1086</td>\n",
              "      <td>Dial M for Murder (1954)</td>\n",
              "      <td>Crime|Mystery|Thriller</td>\n",
              "      <td>3.201461</td>\n",
              "    </tr>\n",
              "  </tbody>\n",
              "</table>\n",
              "</div>\n",
              "      <button class=\"colab-df-convert\" onclick=\"convertToInteractive('df-e48f6727-7469-41d9-b76d-10a1b6fcd205')\"\n",
              "              title=\"Convert this dataframe to an interactive table.\"\n",
              "              style=\"display:none;\">\n",
              "        \n",
              "  <svg xmlns=\"http://www.w3.org/2000/svg\" height=\"24px\"viewBox=\"0 0 24 24\"\n",
              "       width=\"24px\">\n",
              "    <path d=\"M0 0h24v24H0V0z\" fill=\"none\"/>\n",
              "    <path d=\"M18.56 5.44l.94 2.06.94-2.06 2.06-.94-2.06-.94-.94-2.06-.94 2.06-2.06.94zm-11 1L8.5 8.5l.94-2.06 2.06-.94-2.06-.94L8.5 2.5l-.94 2.06-2.06.94zm10 10l.94 2.06.94-2.06 2.06-.94-2.06-.94-.94-2.06-.94 2.06-2.06.94z\"/><path d=\"M17.41 7.96l-1.37-1.37c-.4-.4-.92-.59-1.43-.59-.52 0-1.04.2-1.43.59L10.3 9.45l-7.72 7.72c-.78.78-.78 2.05 0 2.83L4 21.41c.39.39.9.59 1.41.59.51 0 1.02-.2 1.41-.59l7.78-7.78 2.81-2.81c.8-.78.8-2.07 0-2.86zM5.41 20L4 18.59l7.72-7.72 1.47 1.35L5.41 20z\"/>\n",
              "  </svg>\n",
              "      </button>\n",
              "      \n",
              "  <style>\n",
              "    .colab-df-container {\n",
              "      display:flex;\n",
              "      flex-wrap:wrap;\n",
              "      gap: 12px;\n",
              "    }\n",
              "\n",
              "    .colab-df-convert {\n",
              "      background-color: #E8F0FE;\n",
              "      border: none;\n",
              "      border-radius: 50%;\n",
              "      cursor: pointer;\n",
              "      display: none;\n",
              "      fill: #1967D2;\n",
              "      height: 32px;\n",
              "      padding: 0 0 0 0;\n",
              "      width: 32px;\n",
              "    }\n",
              "\n",
              "    .colab-df-convert:hover {\n",
              "      background-color: #E2EBFA;\n",
              "      box-shadow: 0px 1px 2px rgba(60, 64, 67, 0.3), 0px 1px 3px 1px rgba(60, 64, 67, 0.15);\n",
              "      fill: #174EA6;\n",
              "    }\n",
              "\n",
              "    [theme=dark] .colab-df-convert {\n",
              "      background-color: #3B4455;\n",
              "      fill: #D2E3FC;\n",
              "    }\n",
              "\n",
              "    [theme=dark] .colab-df-convert:hover {\n",
              "      background-color: #434B5C;\n",
              "      box-shadow: 0px 1px 3px 1px rgba(0, 0, 0, 0.15);\n",
              "      filter: drop-shadow(0px 1px 2px rgba(0, 0, 0, 0.3));\n",
              "      fill: #FFFFFF;\n",
              "    }\n",
              "  </style>\n",
              "\n",
              "      <script>\n",
              "        const buttonEl =\n",
              "          document.querySelector('#df-e48f6727-7469-41d9-b76d-10a1b6fcd205 button.colab-df-convert');\n",
              "        buttonEl.style.display =\n",
              "          google.colab.kernel.accessAllowed ? 'block' : 'none';\n",
              "\n",
              "        async function convertToInteractive(key) {\n",
              "          const element = document.querySelector('#df-e48f6727-7469-41d9-b76d-10a1b6fcd205');\n",
              "          const dataTable =\n",
              "            await google.colab.kernel.invokeFunction('convertToInteractive',\n",
              "                                                     [key], {});\n",
              "          if (!dataTable) return;\n",
              "\n",
              "          const docLinkHtml = 'Like what you see? Visit the ' +\n",
              "            '<a target=\"_blank\" href=https://colab.research.google.com/notebooks/data_table.ipynb>data table notebook</a>'\n",
              "            + ' to learn more about interactive tables.';\n",
              "          element.innerHTML = '';\n",
              "          dataTable['output_type'] = 'display_data';\n",
              "          await google.colab.output.renderOutput(dataTable, element);\n",
              "          const docLink = document.createElement('div');\n",
              "          docLink.innerHTML = docLinkHtml;\n",
              "          element.appendChild(docLink);\n",
              "        }\n",
              "      </script>\n",
              "    </div>\n",
              "  </div>\n",
              "  "
            ]
          },
          "metadata": {},
          "execution_count": 110
        }
      ],
      "source": [
        "df_movies=movies\n",
        "def hybrid_content_svd_model(userId):\n",
        "    \"\"\"\n",
        "    hydrid the functionality of content based and svd based model to recommend user top 10 movies. \n",
        "    :param userId: userId of user\n",
        "    :return: list of movies recommended with rating given by svd model\n",
        "    \"\"\"\n",
        "    recommended_movies_by_content_model = get_recommendation_content_model(userId)\n",
        "    recommended_movies_by_content_model = df_movies[df_movies.apply(lambda movie: movie[\"title\"] in recommended_movies_by_content_model, axis=1)]\n",
        "    for key, columns in recommended_movies_by_content_model.iterrows():\n",
        "        predict = svd.predict(userId, columns[\"movieId\"])\n",
        "        recommended_movies_by_content_model.loc[key, \"svd_rating\"] = predict.est\n",
        "#         if(predict.est < 2):\n",
        "#             recommended_movies_by_content_model = recommended_movies_by_content_model.drop([key])\n",
        "    return recommended_movies_by_content_model.sort_values(\"svd_rating\", ascending=False).iloc[0:11]\n",
        "        \n",
        "hybrid_content_svd_model(user_id)"
      ]
    },
    {
      "cell_type": "markdown",
      "metadata": {
        "id": "8x335c4wM0cg"
      },
      "source": [
        "### Conclusion\n",
        "\n",
        "We implemented and evaluated different widely used Movie Recommendation models. Also, we developed our own models like the hybrid model (Content based + SVD) as discussed earlier. We evaluated each model with the appropriate evaluation metric.\n",
        "We implemented novel technique to evaluate collaborative filtering algorithm by using SVD and hit ratio as a metric\n",
        "\n",
        "We attempted to build a model-based Collaborative Filtering movie recommendation sytem based on latent features from a low rank matrix factorization method called SVD and SVD++. As it captures the underlying features driving the raw data, it can scale significantly better to massive datasets as well as make better recommendations based on user's tastes. For SVD model we get an RMSE of <b>0.87</b> and for SVD++ model we get an RMSE of <b>0.938</b>"
      ]
    },
    {
      "cell_type": "markdown",
      "metadata": {
        "id": "O85QJCgCM0cg"
      },
      "source": [
        "### Citation\n",
        "\n",
        "* https://www.datacamp.com/community/tutorials/recommender-systems-python\n",
        "* https://towardsdatascience.com/various-implementations-of-collaborative-filtering-100385c6dfe0\n",
        "* https://medium.com/@james_aka_yale/the-4-recommendation-engines-that-can-predict-your-movie-tastes-bbec857b8223\n",
        "* http://www.awesomestats.in/python-recommending-movies/\n",
        "* https://medium.com/@james_aka_yale/the-4-recommendation-engines-that-can-predict-your-movie-tastes-bbec857b8223\n",
        "* https://en.wikipedia.org/wiki/Singular_value_decomposition\n",
        "* https://github.com/gpfvic/IRR/blob/master/Factorization%20meets%20the%20neighborhood-%20a%20multifaceted%20collaborative%20filtering%20model.pdf\n",
        "* https://surprise.readthedocs.io/en/stable/index.html\n",
        "* https://www.quora.com/Whats-the-difference-between-SVD-and-SVD++\n",
        "* https://blog.statsbot.co/singular-value-decomposition-tutorial-52c695315254\n",
        "* https://medium.com/recombee-blog/machine-learning-for-recommender-systems-part-1-algorithms-evaluation-and-cold-start-6f696683d0ed\n",
        "        "
      ]
    },
    {
      "cell_type": "code",
      "execution_count": 110,
      "metadata": {
        "id": "ZVi-3pXkM0ch"
      },
      "outputs": [],
      "source": []
    },
    {
      "cell_type": "code",
      "execution_count": 110,
      "metadata": {
        "id": "8o9fcmvbM0ci"
      },
      "outputs": [],
      "source": []
    },
    {
      "cell_type": "code",
      "execution_count": 110,
      "metadata": {
        "id": "s1mETie4M0ci"
      },
      "outputs": [],
      "source": []
    },
    {
      "cell_type": "code",
      "execution_count": 110,
      "metadata": {
        "id": "usyr3QoTM0cj"
      },
      "outputs": [],
      "source": []
    }
  ],
  "metadata": {
    "kernelspec": {
      "display_name": "Python 3",
      "language": "python",
      "name": "python3"
    },
    "language_info": {
      "codemirror_mode": {
        "name": "ipython",
        "version": 3
      },
      "file_extension": ".py",
      "mimetype": "text/x-python",
      "name": "python",
      "nbconvert_exporter": "python",
      "pygments_lexer": "ipython3",
      "version": "3.8.5"
    },
    "colab": {
      "provenance": [],
      "toc_visible": true
    }
  },
  "nbformat": 4,
  "nbformat_minor": 0
}